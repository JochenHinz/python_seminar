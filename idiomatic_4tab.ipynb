{
 "cells": [
  {
   "cell_type": "markdown",
   "id": "7cd5a17e",
   "metadata": {},
   "source": [
    "# **<u>Part 1</u>:** Idiomatic Python\n",
    "\n",
    "### \n",
    "\n",
    "<img src=\"img/idiom.png\" alt=\"Drawing\" width=\"1200\"/>\n",
    "\n",
    "\n",
    "### \n",
    "\n",
    "### **Idiomatic Python** refers to the use of constructs\n",
    "### that are characteristic for the Python programming language\n",
    "### and typically do not exist in the exact same form in other languages.\n",
    "### \n",
    "### **In other words**: idiomatic Python refers to a \"pythonic\" coding\n",
    "### style that requires in-depth knowledge of the language's syntax,\n",
    "### built-in modules and coding conventions.\n",
    "### \n",
    "### Idiomatic Python code follows the conventions and best practices of the Python language. \n",
    "### It emphasises **readability**, **simplicity** and achieving **efficient, clear, and concise code.**\n",
    "### \n",
    "<hr style=\"border:1px solid blue\">\n",
    "\n",
    "### "
   ]
  },
  {
   "cell_type": "markdown",
   "id": "137a2cd9",
   "metadata": {},
   "source": [
    "# <u>Lesson 1</u>: what makes code readable ?\n",
    "\n",
    "### \n",
    "\n",
    "### <u>Task</u>: take the union of two meshes.\n",
    "### Given two sets of elements and their corresponding points,\n",
    "### create a union mesh from the two input meshes without duplicate elements and points."
   ]
  },
  {
   "cell_type": "code",
   "execution_count": null,
   "id": "a605b18c",
   "metadata": {},
   "outputs": [],
   "source": [
    "# make two triangular meshes characterised by their element indices and points\n",
    "\n",
    "import numpy as np\n",
    "\n",
    "elems0 = np.array([ [0, 1, 4],\n",
    "                    [4, 1, 5],\n",
    "                    [1, 2, 5],\n",
    "                    [5, 2, 6],\n",
    "                    [2, 3, 6],\n",
    "                    [6, 3, 7],\n",
    "                    [4, 5, 8],\n",
    "                    [8, 5, 9],\n",
    "                    [5, 6, 9],\n",
    "                    [9, 6, 10],\n",
    "                    [6, 7, 10],\n",
    "                    [10, 7, 11] ])\n",
    "\n",
    "points0 = np.stack(list(map(np.ravel, np.meshgrid( np.linspace(0, 3, 4),\n",
    "                                                   np.linspace(0, 2, 3) ))), axis=1)\n",
    "\n",
    "\n",
    "# same mesh but shifted by +2 in the x direction\n",
    "elems1 = elems0\n",
    "points1 = points0 + np.array([[2, 0]])"
   ]
  },
  {
   "cell_type": "code",
   "execution_count": null,
   "id": "d7358fe5",
   "metadata": {},
   "outputs": [],
   "source": [
    "from matplotlib import pyplot as plt\n",
    "\n",
    "def plot_meshes(list_of_elements, list_of_points):\n",
    "\n",
    "    fig, ax = plt.subplots()\n",
    "    for elems, points in zip(list_of_elements, list_of_points):\n",
    "        ax.triplot(*points.T, elems, alpha=0.5)\n",
    "\n",
    "    plt.show()"
   ]
  },
  {
   "cell_type": "markdown",
   "id": "6d1e8ebe",
   "metadata": {},
   "source": [
    "### \n",
    "### we plot the two meshes we just created"
   ]
  },
  {
   "cell_type": "code",
   "execution_count": null,
   "id": "0eea3163",
   "metadata": {},
   "outputs": [],
   "source": [
    "plot_meshes([elems0, elems1], [points0, points1])"
   ]
  },
  {
   "cell_type": "markdown",
   "id": "685a5c35",
   "metadata": {},
   "source": [
    "### \n",
    "<hr style=\"border:1px solid blue\">\n",
    "\n",
    "### \n",
    "\n",
    "### The absolute bloody beginner solution\n",
    "\n",
    "#### (seeing it breaks my heart)"
   ]
  },
  {
   "cell_type": "code",
   "execution_count": null,
   "id": "27d9d95b",
   "metadata": {},
   "outputs": [],
   "source": [
    "elements = [elems0, elems1]\n",
    "points = [points0, points1]\n",
    "\n",
    "map_point_index = {}\n",
    "index = 0\n",
    "new_elements = []\n",
    "new_points = []\n",
    "seen = set()\n",
    "\n",
    "for i in range(2):\n",
    "    myelems = elements[i]\n",
    "    mypoints = points[i]\n",
    "    my_new_elems = []\n",
    "    for j in range(len(myelems)):\n",
    "        my_new_elem = []\n",
    "        myelement = myelems[j]\n",
    "        for k in range(len(myelement)):\n",
    "            myindex = myelement[k]\n",
    "            mypoint = tuple(mypoints[myindex])\n",
    "            if mypoint not in map_point_index:\n",
    "                map_point_index[mypoint] = index\n",
    "                index += 1\n",
    "                new_points.append(mypoint)\n",
    "            my_new_elem.append(map_point_index[mypoint])\n",
    "        my_identifier = tuple(sorted(my_new_elem))\n",
    "        if my_identifier not in seen:\n",
    "            my_new_elems.append(my_new_elem)\n",
    "            seen.add(my_identifier)\n",
    "    new_elements.append(my_new_elems)\n",
    "\n",
    "new_elements = np.concatenate(new_elements)\n",
    "new_points = np.array(new_points)\n",
    "\n",
    "plot_meshes([new_elements], [new_points])\n",
    "\n",
    "print('Number of points: ', len(new_points))\n",
    "print('Number of elements: ', len(new_elements))"
   ]
  },
  {
   "cell_type": "markdown",
   "id": "777478ac",
   "metadata": {},
   "source": [
    "### \n",
    "\n",
    "### The somewhat more idiomatic solution\n",
    "\n",
    "#### (still not a good code)"
   ]
  },
  {
   "cell_type": "code",
   "execution_count": null,
   "id": "5f548187",
   "metadata": {},
   "outputs": [],
   "source": [
    "map_point_index = {}\n",
    "index = 0\n",
    "new_elements = []\n",
    "new_points = []\n",
    "seen = set()\n",
    "\n",
    "for myelems, mypoints in zip([elems0, elems1], [points0, points1]):\n",
    "    my_new_elems = []\n",
    "    for myelement in myelems:\n",
    "        my_new_elem = []\n",
    "        for myindex in myelement:\n",
    "            mypoint = tuple(mypoints[myindex])\n",
    "            if mypoint not in map_point_index:\n",
    "                map_point_index[mypoint] = index\n",
    "                index += 1\n",
    "                new_points.append(mypoint)\n",
    "            my_new_elem.append(map_point_index[mypoint])\n",
    "        my_identifier = tuple(sorted(my_new_elem))\n",
    "        if my_identifier not in seen:\n",
    "            my_new_elems.append(my_new_elem)\n",
    "            seen.add(my_identifier)\n",
    "    new_elements.append(my_new_elems)\n",
    "\n",
    "new_elements = np.concatenate(new_elements)\n",
    "new_points = np.array(new_points)\n",
    "\n",
    "plot_meshes([new_elements], [new_points])\n",
    "\n",
    "print('Number of points: ', len(new_points))\n",
    "print('Number of elements: ', len(new_elements))"
   ]
  },
  {
   "cell_type": "markdown",
   "id": "c9d2fbd5",
   "metadata": {},
   "source": [
    "### \n",
    "\n",
    "### A good non-numpy solution:"
   ]
  },
  {
   "cell_type": "code",
   "execution_count": null,
   "id": "d513302c",
   "metadata": {},
   "outputs": [],
   "source": [
    "from itertools import count\n",
    "from collections import defaultdict\n",
    "\n",
    "### This needs further explanation, I guess ...\n",
    "map_point_index = defaultdict(count().__next__)\n",
    "###\n",
    "\n",
    "seen = set()\n",
    "\n",
    "new_elems = []\n",
    "for elems, points in zip([elems0, elems1], [points0, points1]):\n",
    "    for elem in elems:\n",
    "        new_elem = [map_point_index[point] for point in map(tuple, points[elem])]\n",
    "        # Two elements [0, 2, 1] and [2, 1, 0] represent the same element.\n",
    "        # Sort to avoid adding them twice.\n",
    "        if ( elem_identifier := tuple(sorted(new_elem)) ) not in seen:\n",
    "            new_elems.append(new_elem)\n",
    "            seen.add(elem_identifier)\n",
    "\n",
    "new_elems = np.array(new_elems)\n",
    "new_points = np.stack(list(map_point_index.keys()))\n",
    "\n",
    "plot_meshes([new_elems], [new_points])\n",
    "\n",
    "print('Number of points: ', len(new_points))\n",
    "print('Number of elements: ', len(new_elems))"
   ]
  },
  {
   "cell_type": "markdown",
   "id": "0ee1de52",
   "metadata": {},
   "source": [
    "### \n",
    "\n",
    "### A fancy but somewhat overengineered solution (matter of taste)"
   ]
  },
  {
   "cell_type": "code",
   "execution_count": null,
   "id": "a4035537",
   "metadata": {},
   "outputs": [],
   "source": [
    "from itertools import count\n",
    "from collections import defaultdict\n",
    "\n",
    "map_point_index = defaultdict(count().__next__)\n",
    "seen = set()\n",
    "\n",
    "new_elems = []\n",
    "for elems, points in zip([elems0, elems1], [points0, points1]):\n",
    "    for elem in elems:\n",
    "        new_elem = [map_point_index[point] for point in map(tuple, points[elem])]\n",
    "        (identifier := tuple(sorted(new_elem))) in seen or new_elems.append(new_elem) or seen.add(identifier)\n",
    "\n",
    "new_elems = np.array(new_elems)\n",
    "new_points = np.stack(list(map_point_index.keys()))\n",
    "\n",
    "plot_meshes([new_elems], [new_points])\n",
    "\n",
    "print('Number of points: ', len(new_points))\n",
    "print('Number of elements: ', len(new_elems))"
   ]
  },
  {
   "cell_type": "markdown",
   "id": "d42bef27",
   "metadata": {},
   "source": [
    "### \n",
    "### The numpy solution \n",
    "#### (achieves the best readability provided comments are added, a little less memory efficient, completely avoids indentation) "
   ]
  },
  {
   "cell_type": "code",
   "execution_count": null,
   "id": "5f7a9da5",
   "metadata": {},
   "outputs": [],
   "source": [
    "from itertools import count\n",
    "\n",
    "# get all unique points of the two sets of points\n",
    "new_points = np.unique(np.concatenate([points0, points1]), axis=0)\n",
    "\n",
    "# map each unique point to an index\n",
    "map_point_index = dict(zip(map(tuple, new_points), count()))\n",
    "\n",
    "# map both meshes' elements' points to the new index\n",
    "mapped_elems = np.apply_along_axis(lambda x: map_point_index[tuple(x)],\n",
    "                                   axis=-1,\n",
    "                                   arr=np.concatenate([points0[elems0], points1[elems1]]))\n",
    "\n",
    "# find the indices of the first occurence of the transformed elements that are unique\n",
    "_, unique_indices = np.unique(np.sort(mapped_elems, axis=1), return_index=True, axis=0)\n",
    "\n",
    "# keep only the unique occurences\n",
    "new_elems = mapped_elems[unique_indices]\n",
    "\n",
    "plot_meshes([new_elems], [new_points])\n",
    "\n",
    "print('Number of points: ', len(new_points))\n",
    "print('Number of elements: ', len(new_elems))"
   ]
  },
  {
   "cell_type": "markdown",
   "id": "98aae142",
   "metadata": {},
   "source": [
    "### \n",
    "## What makes python code readable ?\n",
    "\n",
    "### What we know so far:\n",
    "\n",
    "* Using idioms (zip, enumerate, itertools, collections, comprehensions, := ) to reduce boilerplate.\n",
    "* Fewer (but not too few) lines of code.\n",
    "* Using => => => indentation instead of => <= => <=.\n",
    "* Descriptive variable names.\n",
    "* A program flow that almost reads like english.\n",
    "* Comments and using library functionality (for instance numpy) where possible.\n",
    "\n",
    "### \n",
    "<hr style=\"border:1px solid blue\">"
   ]
  },
  {
   "cell_type": "markdown",
   "id": "7d904061",
   "metadata": {},
   "source": [
    "### \n",
    "## <u>Some open questions</u>"
   ]
  },
  {
   "cell_type": "markdown",
   "id": "f308587a",
   "metadata": {},
   "source": [
    "### \n",
    "### <u>Open question</u>: which one is more pythonic ?"
   ]
  },
  {
   "cell_type": "code",
   "execution_count": null,
   "id": "cb810098",
   "metadata": {},
   "outputs": [],
   "source": [
    "def _first_order_derivative(func):\n",
    "    # return derivative\n",
    "    pass\n",
    "\n",
    "# version 0 or version 1 ?\n",
    "\n",
    "def nth_derivative_v0(func, n=1):\n",
    "    n = int(n)\n",
    "    assert n >= 0\n",
    "    if n == 0:\n",
    "        return func\n",
    "    else:\n",
    "        return nth_derivative_v0(_first_order_derivative(func), n=n-1)\n",
    "    \n",
    "\n",
    "def nth_derivative_v1(func, n=1):\n",
    "    assert (n := int(n)) >= 0\n",
    "    if n == 0:\n",
    "        return func\n",
    "    return nth_derivative_v1(_first_order_derivative(func), n=n-1)"
   ]
  },
  {
   "cell_type": "markdown",
   "id": "892fafea",
   "metadata": {},
   "source": [
    "### \n",
    "\n",
    "### <u>Open question</u>: which meshgrid call signature do you find more readable ?"
   ]
  },
  {
   "cell_type": "code",
   "execution_count": null,
   "id": "c76a4be3",
   "metadata": {},
   "outputs": [],
   "source": [
    "import numpy as np\n",
    "\n",
    "### forget about this part\n",
    "def make_meshgrid0(dims):\n",
    "    return np.stack(np.meshgrid(*map(np.arange, dims)), axis=-1).reshape(-1, len(dims))\n",
    "\n",
    "def make_meshgrid1(*dims):\n",
    "    return np.stack(np.meshgrid(*map(np.arange, dims)), axis=-1).reshape(-1, len(dims))\n",
    "###\n",
    "\n",
    "\n",
    "# THIS PART\n",
    "# option a or b ?\n",
    "a = make_meshgrid0([3, 2, 2])\n",
    "\n",
    "b = make_meshgrid1(3, 2, 2)\n",
    "\n",
    "# check if they're really the same\n",
    "print('a equals b: ', (a == b).all())\n",
    "\n",
    "# both generalise to arbitrary dimensions\n",
    "a = make_meshgrid0([3, 2])\n",
    "\n",
    "b = make_meshgrid1(3, 2, 2, 4)"
   ]
  },
  {
   "cell_type": "markdown",
   "id": "950a0292",
   "metadata": {},
   "source": [
    "### \n",
    "### <u>Open question</u>: which one do you think is more pythonic ?"
   ]
  },
  {
   "cell_type": "code",
   "execution_count": null,
   "id": "8943a4bd",
   "metadata": {},
   "outputs": [],
   "source": [
    "# Find the greatest divisor of an integer (excluding self) and return it.\n",
    "# Also, print all other (smaller) divisors, if any.\n",
    "\n",
    "def greatest_divisor_v0(val):\n",
    "    \"\"\" excluding `val` itself \"\"\"\n",
    "    *other_divisors, greatest_divisor = [i for i in range(1, val) if val % i == 0]\n",
    "    if other_divisors:\n",
    "        print(\"For {}, I also found the divisors {}.\".format(val, other_divisors))\n",
    "    return greatest_divisor\n",
    "\n",
    "\n",
    "def greatest_divisor_v1(val):\n",
    "    \"\"\" excluding `val` itself \"\"\"\n",
    "    divisors = [i for i in range(1, val) if val % i == 0]\n",
    "    other_divisors, greatest_divisor = divisors[:-1], divisors[-1]\n",
    "    if len(other_divisors) > 0:\n",
    "        print(\"For {}, I also found the divisors {}.\".format(val, other_divisors))\n",
    "    return greatest_divisor\n",
    "\n",
    "\n",
    "print('Greatest divisor of 10: ', greatest_divisor_v0(10), '\\n')\n",
    "print('Greatest divisor of 10: ', greatest_divisor_v1(10))"
   ]
  },
  {
   "cell_type": "markdown",
   "id": "4160f346",
   "metadata": {},
   "source": [
    "### \n",
    "## What makes a code more pythonic ?\n",
    "##  (usually, that means more readable)\n",
    "\n",
    "### <u>Some additional insights</u>:\n",
    "\n",
    "* Early handling of special cases, avoiding if-else indentation when redundant (example 1).\n",
    "* Avoiding nested parentheses: `f(a, b, c)` instead of `f([a, b, c])` (example 2).\n",
    "* using star syntax `*args` where possible (examples 2 + 3).\n",
    "* `if object` rather than `if (object has property)`. For instance `if other_divisors` instead of `if len(other_divisors) > 0` (example 3).\n",
    "### \n",
    "\n",
    "<hr style=\"border:1px solid blue\">"
   ]
  },
  {
   "cell_type": "markdown",
   "id": "62e9a36d",
   "metadata": {},
   "source": [
    "### \n",
    "### Now that we have an idea of what makes a code pythonic, let's move on to the next\n",
    "\n",
    "# <u>Lesson 2</u>: `*args, **kwargs`, star syntax variable unpacking"
   ]
  },
  {
   "cell_type": "code",
   "execution_count": null,
   "id": "604f1a91",
   "metadata": {},
   "outputs": [],
   "source": [
    "%reset -f"
   ]
  },
  {
   "cell_type": "markdown",
   "id": "cad91db1",
   "metadata": {},
   "source": [
    "### \n",
    "### What does this dummy function do ?"
   ]
  },
  {
   "cell_type": "code",
   "execution_count": null,
   "id": "55dcd6c6",
   "metadata": {},
   "outputs": [],
   "source": [
    "# pass whatever arguments into this function and print the input it receives\n",
    "def dummy_function(*args, **kwargs):\n",
    "    print('Received the following args and kwargs: \\n')\n",
    "    print('args: ', args)\n",
    "    print('kwargs: ', kwargs, '\\n \\n')\n",
    "    \n",
    "\n",
    "# give the dummy function random positional-only, keyword-only and mixed arguments.\n",
    "    \n",
    "print('Only positional arguments: \\n')\n",
    "dummy_function(1, 2, 'a', [1, 2, 3])\n",
    "\n",
    "print('Only keyword arguments: \\n')\n",
    "dummy_function(a=1, b=2, c='a', d=[1, 2, 3])\n",
    "\n",
    "print('Both positional and keyword arguments: \\n')\n",
    "dummy_function(1, 'a', (5, 6), a=5, b='a', c=[5, 6])"
   ]
  },
  {
   "cell_type": "markdown",
   "id": "5e63d65a",
   "metadata": {},
   "source": [
    "### \n",
    "### <u> Observation</u>:\n",
    "### for a function of the form `f(*args, **kwargs)`:\n",
    "* all positional arguments passed are inside of the function available as a tuple called `args`\n",
    "* all keyword arguments passed are available as a dictionary `kwargs` of the form `{str(keyword): passed_value}`\n",
    "\n",
    "### \n",
    "<hr style=\"border:1px solid blue\">"
   ]
  },
  {
   "cell_type": "markdown",
   "id": "a273aac9",
   "metadata": {},
   "source": [
    "### \n",
    "## <u>Exercise 2.1</u>: \n",
    "### write a function that takes positional arguments (numbers) and adds them.\n",
    "* for example:  f(1, 2) = 3; f(4, 5, 6) = 15; f(1, 1, 2, 3) = 7\n",
    "* by convention: f() = 0"
   ]
  },
  {
   "cell_type": "code",
   "execution_count": null,
   "id": "f2980908",
   "metadata": {},
   "outputs": [],
   "source": [
    "#def f( ? ? ? ):\n",
    "    # your code here\n",
    "    #return  ? ? ?\n",
    "    \n",
    "print(f())\n",
    "print( f(1, 2) )\n",
    "print( f(4, 5, 6) )\n",
    "print( f(1, 1, 2, 3) )"
   ]
  },
  {
   "cell_type": "markdown",
   "id": "884ab7d5",
   "metadata": {},
   "source": [
    "### solution:"
   ]
  },
  {
   "cell_type": "code",
   "execution_count": null,
   "id": "f56d86a0",
   "metadata": {
    "jupyter": {
     "source_hidden": true
    }
   },
   "outputs": [],
   "source": [
    "def f(*args):\n",
    "    return sum(args)\n",
    "\n",
    "print(f())\n",
    "print( f(1, 2) )\n",
    "print( f(4, 5, 6) )\n",
    "print( f(1, 1, 2, 3) )"
   ]
  },
  {
   "cell_type": "markdown",
   "id": "f02a225e",
   "metadata": {},
   "source": [
    "### \n",
    "<hr style=\"border:1px solid blue\">\n",
    "\n",
    "### \n",
    "## <u> Exercise 2.2 </u>: \n",
    "### write a function that takes only keyword arguments `subject = (value, weight)`\n",
    "### and computes the weighted average of all passed subjects\n",
    "### $\\text{weighted-average} = \\frac{\\sum_i \\text{value}_i \\, \\times \\, \\text{weight}_i}{\\sum_i \\text{weight}_i}$\n",
    "\n",
    "#### `weighted_average(math=(80, 4), english=(60, 2), geography=(50, 1)) = (320 + 120 + 50) / (4 + 2 + 1) = 70`"
   ]
  },
  {
   "cell_type": "code",
   "execution_count": null,
   "id": "2f19a5a1",
   "metadata": {},
   "outputs": [],
   "source": [
    "# def weighted_average(? ? ?):\n",
    "#     your code here\n",
    "#     return ???\n",
    "\n",
    "\n",
    "\n",
    "print(weighted_average(math=(80, 4), english=(60, 2), geography=(50, 1)))"
   ]
  },
  {
   "cell_type": "markdown",
   "id": "3d9b2b30",
   "metadata": {},
   "source": [
    "### \n",
    "### solution (not very pythonic !!):"
   ]
  },
  {
   "cell_type": "code",
   "execution_count": null,
   "id": "89f219a0",
   "metadata": {
    "jupyter": {
     "source_hidden": true
    }
   },
   "outputs": [],
   "source": [
    "# we'll learn how to write this function better, don't worry.\n",
    "def weighted_average(**kwargs):\n",
    "    weighted_values = 0\n",
    "    weights = 0\n",
    "    # subject: english\n",
    "    # values_weights: (60, 2)\n",
    "    for subject, values_weights in kwargs.items():\n",
    "        weighted_values += values_weights[0] * values_weights[1]\n",
    "        weights += values_weights[1]\n",
    "    return weighted_values / weights\n",
    "\n",
    "print(weighted_average(math=(80, 4), english=(60, 2), geography=(50, 1)))\n",
    "\n",
    "\n",
    "# more pythonic solution, maybe too difficult right now\n",
    "def weighted_average_py(**kwargs):\n",
    "    return sum(a * b for a, b in kwargs.values()) / sum(b for a, b in kwargs.values())"
   ]
  },
  {
   "cell_type": "markdown",
   "id": "230b910f",
   "metadata": {},
   "source": [
    "### \n",
    "<hr style=\"border:1px solid blue\">\n",
    "\n",
    "### \n",
    "### The `*args, **kwargs` syntax can also be used in the opposite way.\n",
    "### Observe the following:"
   ]
  },
  {
   "cell_type": "code",
   "execution_count": null,
   "id": "9ab84e8c",
   "metadata": {},
   "outputs": [],
   "source": [
    "def compute_area(length, width, unit='meters'):\n",
    "    area = length * width\n",
    "    return f\"The area is {area} square {unit}.\"\n",
    "\n",
    "kwargs = {'unit': 'kilometers'}\n",
    "\n",
    "compute_area(2, 5, **kwargs)"
   ]
  },
  {
   "cell_type": "markdown",
   "id": "c81de268",
   "metadata": {},
   "source": [
    "### \n",
    "### We are allowed to drop a `{str(key): value}`  dictionary into a function that accepts keyword arguments via double dereferencing.\n",
    "#### If the dict's `.keys()` are the same or a subset of the function's (keyword) arguments, it will work.\n",
    "\n",
    "#### `test = f(a=5, b=2)` is equivalent to `kwargs = {'a': 5, 'b': 2}` and then `test = f(**kwargs)`\n",
    "\n",
    "### \n",
    "<hr style=\"border:1px solid blue\">"
   ]
  },
  {
   "cell_type": "markdown",
   "id": "b789c011",
   "metadata": {},
   "source": [
    "### \n",
    "## <u> Application: keyword argument forwarding</u>\n",
    "\n",
    "![scipykwargs](img/scipykwargs.png)"
   ]
  },
  {
   "cell_type": "markdown",
   "id": "1f646d7c",
   "metadata": {},
   "source": [
    "### \n",
    "## <u>Exercise 2.3</u>:\n",
    "### write a function that uses `scipy.optimize.minimize` to find the argmin of $a x^2 + b x + c$.\n",
    "### The function must be able to forward relevant keyword arguments to `scipy.optimize.minimize`.\n",
    "### Find the argmin of the quadratic function using `method='SLSQP'`."
   ]
  },
  {
   "cell_type": "markdown",
   "id": "b50636f4",
   "metadata": {},
   "source": [
    "### \n",
    "### <u>The wrong way</u>:\n",
    "#### (doing this will result in capital punishment)"
   ]
  },
  {
   "cell_type": "code",
   "execution_count": null,
   "id": "cc813e7f",
   "metadata": {},
   "outputs": [],
   "source": [
    "from scipy.optimize import minimize\n",
    "\n",
    "\n",
    "# uuuuugh, lots of boilerplate >.<\n",
    "def minimize_quadratic_function(a=1, b=2, c=3, args=(), \n",
    "                                               method=None, \n",
    "                                               jac=None,\n",
    "                                               hess=None,\n",
    "                                               hessp=None,\n",
    "                                               bounds=None,\n",
    "                                               constraints=(),\n",
    "                                               tol=None,\n",
    "                                               callback=None,\n",
    "                                               options=None):\n",
    "    fun = lambda x: a * x ** 2 + b * x + c\n",
    "    x0 = 0\n",
    "    return minimize(fun, x0, args=args,\n",
    "                             method=method,\n",
    "                             jac=jac,\n",
    "                             hess=hess,\n",
    "                             hessp=hessp,\n",
    "                             bounds=bounds,\n",
    "                             constraints=constraints,\n",
    "                             tol=tol,\n",
    "                             callback=callback,\n",
    "                             options=options).x[0]\n",
    "\n",
    "# min 0.5 x**2 + x + 1 is assumed at x = -1\n",
    "print('The minimum of 0.5 x^2 + x + 1 is assumed at x =',\n",
    "       minimize_quadratic_function(a=.5, b=1, c=1, method='SLSQP'))"
   ]
  },
  {
   "cell_type": "markdown",
   "id": "eea9481d",
   "metadata": {},
   "source": [
    "### \n",
    "### Implement it correctly:"
   ]
  },
  {
   "cell_type": "code",
   "execution_count": null,
   "id": "a53a2fd3",
   "metadata": {},
   "outputs": [],
   "source": [
    "from scipy.optimize import minimize\n",
    "\n",
    "# def minimize_quadratic_function(a=1, b=2, c=3, ????):\n",
    "#     fun = lambda x: a * x ** 2 + b * x + c\n",
    "#     x0 = 0\n",
    "#     return ???\n",
    "\n",
    "# min 0.5 x**2 + x + 1 is assumed at x = -1\n",
    "print('The minimum of 0.5 x^2 + x + 1 is assumed at x =',\n",
    "       minimize_quadratic_function(a=.5, b=1, c=1, method='SLSQP'))"
   ]
  },
  {
   "cell_type": "markdown",
   "id": "f287651b",
   "metadata": {},
   "source": [
    "### \n",
    "### solution:"
   ]
  },
  {
   "cell_type": "code",
   "execution_count": null,
   "id": "42d494c7",
   "metadata": {
    "code_folding": [
     2
    ],
    "jupyter": {
     "source_hidden": true
    }
   },
   "outputs": [],
   "source": [
    "from scipy.optimize import minimize\n",
    "\n",
    "def minimize_quadratic_function(a=1, b=2, c=3, **scipykwargs):\n",
    "    fun = lambda x: a * x ** 2 + b * x + c\n",
    "    x0 = 0\n",
    "    return minimize(fun, x0, **scipykwargs).x[0]\n",
    "\n",
    "# min 0.5 x**2 + x + 1 is assumed at x = -1\n",
    "print('The minimum of 0.5 x^2 + x + 1 is assumed at x =',\n",
    "       minimize_quadratic_function(a=.5, b=1, c=1, method='SLSQP'))    "
   ]
  },
  {
   "cell_type": "markdown",
   "id": "c756dd03",
   "metadata": {},
   "source": [
    "### \n",
    "<hr style=\"border:1px solid blue\">\n",
    "\n",
    "### \n",
    "### Observe the following:"
   ]
  },
  {
   "cell_type": "code",
   "execution_count": null,
   "id": "798cd919",
   "metadata": {},
   "outputs": [],
   "source": [
    "def abc_formula(a, b, c):\n",
    "    \"Return the roots of a quadratic function f(x) = ax^2 + bx + c\"\n",
    "    discriminant = (b ** 2 - 4 * a * c)**.5\n",
    "    return (-b - discriminant) / (2 * a), (-b + discriminant) / (2 * a)\n",
    "\n",
    "def abc_monomic(*args):\n",
    "    \"Same as abc_formula but a = 1.\"\n",
    "    # abc_monomic(2, 3) => args = (2, 3)\n",
    "    # we drop args back into `abc_formula`\n",
    "    # abc_formula(1, *args) is then the same as abc_formula(1, 2, 3)\n",
    "    return abc_formula(1, *args)\n",
    "\n",
    "print('The complex roots of f = x^2 + 3 * x + 1 read are {:.7f} and {:.7f}'.format(*abc_monomic(3, 1)))"
   ]
  },
  {
   "cell_type": "markdown",
   "id": "b90be9ef",
   "metadata": {},
   "source": [
    "### \n",
    "#### `test = f(1, 2, 3)` $\\Longleftrightarrow$ `args = (1, 2, 3)` and then `test = f(*args)`\n",
    "\n",
    "#### intuition: the `*` dereferencing ~ *removes the outer parentheses* ~\n",
    "#### For tuple inputs: `f(*(1, 2, 3))` $\\Longleftrightarrow$ `f(1, 2, 3)`\n",
    "#### same for lists `f(*[1, 2, 3])` $\\Longleftrightarrow$ `f(1, 2, 3)`\n",
    "#### (and the same for any object that can be **iterated** over)\n",
    "\n",
    "### \n",
    "<hr style=\"border:1px solid blue\">"
   ]
  },
  {
   "cell_type": "markdown",
   "id": "2264c327",
   "metadata": {},
   "source": [
    "### \n",
    "## <u> Exercise 2.4 </u> :\n",
    "### Given a function `f(*args)` that sums its pos. arguments.\n",
    "### Write a function `g(head, tail)` that accepts two tuples / lists of numbers and sums all of them.\n",
    "### `g([1, 2, 3], (4, 5, 6)) => f(1, 2, 3, 4, 5, 6) = 21` (note that one is a list and one is a tuple)"
   ]
  },
  {
   "cell_type": "code",
   "execution_count": null,
   "id": "7f959476",
   "metadata": {},
   "outputs": [],
   "source": [
    "def f(*args):\n",
    "    return sum(args)\n",
    "\n",
    "#def g(???):\n",
    "#    ???\n",
    "\n",
    "print(g([1, 2, 3], (4, 5, 6)))"
   ]
  },
  {
   "cell_type": "markdown",
   "id": "1f902e8f",
   "metadata": {},
   "source": [
    "### solution:"
   ]
  },
  {
   "cell_type": "code",
   "execution_count": null,
   "id": "f350eea5",
   "metadata": {
    "jupyter": {
     "source_hidden": true
    }
   },
   "outputs": [],
   "source": [
    "def f(*args):\n",
    "    return sum(args)\n",
    "\n",
    "#we can also just dereference both head and tail\n",
    "def g(head, tail):\n",
    "    # head = [1, 2, 3]\n",
    "    # tail = (4, 5, 6)\n",
    "    # => f(*head, *tail) = f(*[1, 2, 3], *(4, 5, 6)) = f(1, 2, 3, 4, 5, 6)\n",
    "    return f(*head, *tail)\n",
    "\n",
    "print(g([1, 2, 3], (4, 5, 6)))"
   ]
  },
  {
   "cell_type": "markdown",
   "id": "cd7a63af",
   "metadata": {},
   "source": [
    "### \n",
    "<hr style=\"border:1px solid blue\">\n",
    "\n",
    "### \n",
    "### Having gained an intuition for `*args, **kwargs`, we are now in the position to learn **star syntax variable unpacking**\n",
    "\n",
    "### what does this do ?"
   ]
  },
  {
   "cell_type": "code",
   "execution_count": null,
   "id": "6141e67a",
   "metadata": {},
   "outputs": [],
   "source": [
    "tail = (4, 5, 6)\n",
    "\n",
    "joined_tuple = (1, 2, 3, *tail)\n",
    "\n",
    "print(joined_tuple)"
   ]
  },
  {
   "cell_type": "markdown",
   "id": "87c0f1bc",
   "metadata": {},
   "source": [
    "### \n",
    "### $\\implies$ We can drop tuples' / lists' contents into tuples / lists via dereferencing\n",
    "### \n",
    "<hr style=\"border:1px solid blue\">\n",
    "\n",
    "### \n",
    "### <u>Further examples</u>:"
   ]
  },
  {
   "cell_type": "code",
   "execution_count": null,
   "id": "a88348f7",
   "metadata": {},
   "outputs": [],
   "source": [
    "# multiple list / tuple unpacking\n",
    "print( [1, 2, *[3, 4, 5], 6, 7, *(8, 9, 10)] )\n",
    "\n",
    "# we can also dereference ranges into tuples / lists\n",
    "print( (*[1, 2, 3], *range(4, 11)) )"
   ]
  },
  {
   "cell_type": "markdown",
   "id": "163ba9db",
   "metadata": {},
   "source": [
    "### \n",
    "### What do you guys think this does ?\n",
    "\n",
    "### `(a, *tail) = [1, 2, 3, 4]`\n",
    "### What is `a` ? what is `tail` ?\n",
    "### \n",
    "### <u>the answer</u>:"
   ]
  },
  {
   "cell_type": "code",
   "execution_count": null,
   "id": "a1836362",
   "metadata": {},
   "outputs": [],
   "source": [
    "(a, *tail) = [1, 2, 3, 4]\n",
    "\n",
    "print(a)\n",
    "print(tail)"
   ]
  },
  {
   "cell_type": "markdown",
   "id": "915bbe67",
   "metadata": {},
   "source": [
    "### \n",
    "### we can forego the outer parentheses (both left and / or right) when no confusion is possible"
   ]
  },
  {
   "cell_type": "code",
   "execution_count": null,
   "id": "ca2e69ec",
   "metadata": {},
   "outputs": [],
   "source": [
    "a, *tail = 1, 2, 3, 4\n",
    "\n",
    "print(a)\n",
    "print(tail)"
   ]
  },
  {
   "cell_type": "markdown",
   "id": "007cd6fd",
   "metadata": {},
   "source": [
    "### \n",
    "<hr style=\"border:1px solid blue\">\n",
    "\n",
    "### \n",
    "## <u>Exercise 2.5</u>\n",
    "### Given a `tuple` of tuples of the form\n",
    "### `tot = (a, b, c), (d, e, f)`, \n",
    "### unpack `a, d, e, f` into variables of the same name and create a list `bc` containing `b` and `c`\n",
    "### **IN ONE LINE OF CODE**\n",
    "### \n",
    "### The wrong solution (don't do it like this)"
   ]
  },
  {
   "cell_type": "code",
   "execution_count": null,
   "id": "cc035bf4",
   "metadata": {},
   "outputs": [],
   "source": [
    "tot = (1, 2, 3), (4, 5, 6)\n",
    "\n",
    "a, d, e, f = tot[0][0], tot[1][0], tot[1][1], tot[1][2]\n",
    "bc = [tot[0][1], tot[0][2]]\n",
    "\n",
    "print(a, bc, d, e, f)"
   ]
  },
  {
   "cell_type": "markdown",
   "id": "23e9330d",
   "metadata": {},
   "source": [
    "### \n",
    "### Implement it correctly:"
   ]
  },
  {
   "cell_type": "code",
   "execution_count": null,
   "id": "688d2632",
   "metadata": {},
   "outputs": [],
   "source": [
    "tot = (1, 2, 3), (4, 5, 6)\n",
    "\n",
    "### your code here\n",
    "\n",
    "print(a, bc, d, e, f)"
   ]
  },
  {
   "cell_type": "markdown",
   "id": "8f74b973",
   "metadata": {},
   "source": [
    "### \n",
    "### solution:"
   ]
  },
  {
   "cell_type": "code",
   "execution_count": null,
   "id": "9dbe4efd",
   "metadata": {
    "jupyter": {
     "source_hidden": true
    }
   },
   "outputs": [],
   "source": [
    "tot = (1, 2, 3), (4, 5, 6)\n",
    "\n",
    "(a, *bc), (d, e, f) = tot\n",
    "\n",
    "print(a, bc, d, e, f)"
   ]
  },
  {
   "cell_type": "markdown",
   "id": "cc15d767",
   "metadata": {},
   "source": [
    "### \n",
    "<hr style=\"border:1px solid blue\">\n",
    "\n",
    "### \n",
    "### The same kind of unpacking works for numpy arrays"
   ]
  },
  {
   "cell_type": "code",
   "execution_count": null,
   "id": "752f8a2c",
   "metadata": {},
   "outputs": [],
   "source": [
    "import numpy as np\n",
    "\n",
    "# create an array (matrix) of shape A.shape == (2, 3)\n",
    "A = np.arange(6).reshape(2, 3)\n",
    "\n",
    "print('A: \\n', A, '\\n')\n",
    "\n",
    "# a numpy array can be regarded as a `list of lists`\n",
    "# A = [[0, 1, 2], [3, 4, 5]]\n",
    "a, b = A\n",
    "\n",
    "print('a is of type `{}` and reads: '.format(a.__class__.__name__), a, '\\n')\n",
    "print('b is of type `{}` and reads: '.format(b.__class__.__name__), b, '\\n')\n",
    "\n",
    "\n",
    "# unpacking a and b into their consituents again creates numbers (integers in this case)\n",
    "(a0, a1, a2), (b0, b1, b2) = A\n",
    "print('a0, a1, a2, b0, b1, b2: ','{}, {}, {}, {}, {}, {}'.format(a0, a1, a2, b0, b1, b2), '\\n')"
   ]
  },
  {
   "cell_type": "markdown",
   "id": "11d7c006",
   "metadata": {},
   "source": [
    "### \n",
    "<hr style=\"border:1px solid blue\">\n",
    "\n",
    "### \n",
    "\n",
    "## <u>Application</u>\n",
    "### Given a ($2$D) triangular element in $\\mathbb{R}^3$ characterised by its vertices `A = [a, b, c]` (a, b, c row vectors, counterclockwise)\n",
    "### compute the surface area of the triangle.\n",
    "\n",
    "### \n",
    "\n",
    "### <u>the wrong solution</u>:"
   ]
  },
  {
   "cell_type": "code",
   "execution_count": null,
   "id": "0ff75225",
   "metadata": {},
   "outputs": [],
   "source": [
    "import numpy as np\n",
    "\n",
    "def triangle_surface_area(A: np.ndarray) -> float:\n",
    "    # make sure A has the correct shape\n",
    "    assert A.shape == (3, 3)\n",
    "    # create triangle's jacobian J = [b - a; c - a] (column vectors)\n",
    "    a, b, c = A[0, :], A[1, :], A[2, :]\n",
    "    J = np.stack([b - a, c - a], axis=1)\n",
    "    \n",
    "    # create the local metric tensor by taking the outer product\n",
    "    G = J @ J.T\n",
    "    \n",
    "    # unpack G's entries to compute the surface area as 1/2 sqrt(determinant)\n",
    "    a00, a01, a10, a11 = G[0, 0], G[0, 1], G[1, 0], G[1, 1]\n",
    "    return .5 * ((a00 * a11 - a01 * a10)**.5)\n",
    "\n",
    "\n",
    "# a = [0, 0, 0]\n",
    "# b = [1, 0, 1]\n",
    "# c = [0, 1, 0]\n",
    "A = np.array([\n",
    "              [0, 0, 0],\n",
    "              [1, 0, 1],\n",
    "              [0, 1, 0],\n",
    "             ])\n",
    "\n",
    "print('The surface area reads: ', surface_area(A))"
   ]
  },
  {
   "cell_type": "markdown",
   "id": "73e0228d",
   "metadata": {},
   "source": [
    "### \n",
    "### <u>The correct solution</u>:"
   ]
  },
  {
   "cell_type": "code",
   "execution_count": null,
   "id": "16b3afec",
   "metadata": {},
   "outputs": [],
   "source": [
    "import numpy as np\n",
    "\n",
    "def triangle_surface_area(A: np.ndarray) -> float:\n",
    "    # make sure A has the correct shape\n",
    "    assert A.shape == (3, 3)\n",
    "    \n",
    "    # unpack the rows\n",
    "    a, b, c = A\n",
    "    \n",
    "    # create triangle's jacobian J = [b - a; c - a] (column vectors)\n",
    "    J = np.stack([b - a, c - a], axis=1)\n",
    "    \n",
    "    # create the local metric tensor by taking the outer product\n",
    "    G = J @ J.T\n",
    "    \n",
    "    # unpack G's entries to compute the surface area as 1/2 sqrt(determinant)\n",
    "    (a00, a01), (a10, a11) = G\n",
    "    return .5 * ((a00 * a11 - a01 * a10)**.5)\n",
    "\n",
    "\n",
    "# a = [0, 0, 0]\n",
    "# b = [1, 0, 1]\n",
    "# c = [0, 1, 0]\n",
    "A = np.array([\n",
    "              [0, 0, 0],\n",
    "              [1, 0, 1],\n",
    "              [0, 1, 0],\n",
    "             ])\n",
    "\n",
    "print('The surface area reads: ', surface_area(A))"
   ]
  },
  {
   "cell_type": "markdown",
   "id": "8553a718",
   "metadata": {},
   "source": [
    "### \n",
    "### \n",
    "### \n",
    "### Why did it not work ???"
   ]
  },
  {
   "cell_type": "code",
   "execution_count": null,
   "id": "24739bb6",
   "metadata": {},
   "outputs": [],
   "source": [
    "import numpy as np\n",
    "\n",
    "# J inside of `surface_area` is of shape J.shape == (3, 2)\n",
    "J = np.random.randn(3, 2)\n",
    "\n",
    "print((J @ J.T).shape)"
   ]
  },
  {
   "cell_type": "markdown",
   "id": "5c1fb4f3",
   "metadata": {},
   "source": [
    "### \n",
    "### `G = J @ J.T` has shape (3, 3) which is wrong. It should have been `G = J.T @ J` of shape `(2, 2)`.\n",
    "### These errors happen easily and go unnoticed for a long long time ...\n",
    "### Our idiomatic version caught this error because the unpacking implicitly assumed `G` to be of shape `G.shape == (2, 2)`.\n",
    "### \n",
    "### <u>The correct solution</u> (this time for real):"
   ]
  },
  {
   "cell_type": "code",
   "execution_count": null,
   "id": "542c45d9",
   "metadata": {},
   "outputs": [],
   "source": [
    "import numpy as np\n",
    "\n",
    "def triangle_surface_area(A: np.ndarray) -> float:\n",
    "    # make sure A has the correct shape\n",
    "    assert A.shape == (3, 3)\n",
    "    \n",
    "    # unpack the rows\n",
    "    a, b, c = A\n",
    "    \n",
    "    # create triangle's jacobian J = [b - a; c - a] (column vectors)\n",
    "    J = np.stack([b - a, c - a], axis=1)\n",
    "    \n",
    "    # create the local metric tensor by taking the outer product\n",
    "    G = J.T @ J\n",
    "    \n",
    "    # unpack G's entries to compute the surface area as 1/2 sqrt(determinant)\n",
    "    (a00, a01), (a10, a11) = G\n",
    "    return .5 * ((a00 * a11 - a01 * a10)**.5)\n",
    "\n",
    "\n",
    "A = np.array([\n",
    "              [0, 0, 0],\n",
    "              [1, 0, 1],\n",
    "              [0, 1, 0],\n",
    "             ])\n",
    "\n",
    "print('The surface area reads: ', surface_area(A))"
   ]
  },
  {
   "cell_type": "markdown",
   "id": "092e5830",
   "metadata": {},
   "source": [
    "### \n",
    "### Note that the non-pythonic implementation did not catch the error and gave the wrong (but reasonable-looking) result `area = 0.5`.\n",
    "### \n",
    "<hr style=\"border:1px solid blue\">"
   ]
  },
  {
   "cell_type": "markdown",
   "id": "9830273c",
   "metadata": {},
   "source": [
    "### \n",
    "### We can use star syntax in combination with a `zip(...)` statement.\n",
    "### \n",
    "## <u>Task</u>:\n",
    "### You are given an array of elements and a number of local system matrix iterables.\n",
    "### Your task is to write a FEM assembly routine.\n",
    "### Write a routine that iterates simulatenously over the elements and system matrix iterables\n",
    "### and places their sum at the correct position in the matrix"
   ]
  },
  {
   "cell_type": "code",
   "execution_count": null,
   "id": "f86f44ff",
   "metadata": {},
   "outputs": [],
   "source": [
    "from scipy.sparse import lil_matrix\n",
    "import numpy as np\n",
    "\n",
    "# the mesh defined by its elements (the corresponding points are irrelevant)\n",
    "elements = np.array([ [0, 1, 4],\n",
    "                      [4, 1, 5],\n",
    "                      [1, 2, 5],\n",
    "                      [5, 2, 6],\n",
    "                      [2, 3, 6],\n",
    "                      [6, 3, 7],\n",
    "                      [4, 5, 8],\n",
    "                      [8, 5, 9],\n",
    "                      [5, 6, 9],\n",
    "                      [9, 6, 10],\n",
    "                      [6, 7, 10],\n",
    "                      [10, 7, 11] ])\n",
    "\n",
    "\n",
    "# a fake local mass matrix iterator\n",
    "def mass_matrix_iter():\n",
    "    while True:\n",
    "        yield 1 + np.abs(np.random.randn(1)) * np.array([ [2, 1, 1],\n",
    "                                                          [1, 2, 1],\n",
    "                                                          [1, 1, 2] ])\n",
    "# a fake stiffness matrix iterator\n",
    "def stiffness_matrix_iter():\n",
    "    while True:\n",
    "        yield 1 + np.abs(np.random.randn(1)) * np.array([ [2, -1, -1],\n",
    "                                                          [-1, 2, -1],\n",
    "                                                          [-1, -1, 2] ])\n",
    "        \n",
    "A = lil_matrix((len(elements),)*2)\n",
    "\n",
    "\n",
    "# iterate simultaneously over the current element and the\n",
    "# two (or any number for that matter) local system matrix iterators\n",
    "for tri, *system_matrices in zip(elements, mass_matrix_iter(), stiffness_matrix_iter()):\n",
    "    \n",
    "    # add the sum to the right position in the matrix\n",
    "    A[np.ix_(tri, tri)] = np.add.reduce(system_matrices)\n",
    "    \n",
    "    \n",
    "print(A.todense())"
   ]
  },
  {
   "cell_type": "markdown",
   "id": "b95c66d9",
   "metadata": {},
   "source": [
    "### \n",
    "<hr style=\"border:1px solid blue\">\n",
    "\n",
    "### \n",
    "### `*args, **kwargs` and star syntax unpacking are among the most powerful tools for a more readable and maintainable code.\n",
    "### \n",
    "## <u> What we have learned: </u>\n",
    "* Functions `f(*args)`, `f(**kwargs)` allow for a variable number of arguments.\n",
    "* Star syntax tends to be more readable (if familiar).\n",
    "\n",
    "### Star syntax can be used for:\n",
    "* argument forwarding;\n",
    "* list / tuple packing / unpacking;\n",
    "* catching errors before they cause issues down the road.\n",
    "\n",
    "### \n",
    "<hr style=\"border:1px solid blue\">\n",
    "\n",
    "### \n",
    "# <u>Lesson 3</u>: Advanced uses of Python dictionaries"
   ]
  },
  {
   "cell_type": "code",
   "execution_count": null,
   "id": "e6ee6f74",
   "metadata": {},
   "outputs": [],
   "source": [
    "%reset -f"
   ]
  },
  {
   "cell_type": "markdown",
   "id": "1b6dcd72",
   "metadata": {},
   "source": [
    "### \n",
    "### We have seen how dictionaries play an important role in handling keyword arguments.\n",
    "### In what follows, we discuss some advanced uses of python dictionaries.\n",
    "\n",
    "### \n",
    "### Python dictionaries can be utilised to avoid if-else clauses via tokenization.\n",
    "### \n",
    "### <u>Task</u>:\n",
    "### Write a function `solve(A, b, method='direct', **solverkwargs)` that solves $A x = b$ for $x$ using\n",
    "* `method='direct'`: `sparse.linalg.spsolve`\n",
    "* `method='cg'`: `sparse.linalg.cg`\n",
    "* `method='gmres':` `sparse.linalg.gmres`\n",
    "* `method='bicgstab':` `sparse.linalg.bicgstab`\n",
    "\n",
    "### \n",
    "### A straightforward but cumbersome solution:"
   ]
  },
  {
   "cell_type": "code",
   "execution_count": null,
   "id": "85747cff",
   "metadata": {},
   "outputs": [],
   "source": [
    "from scipy.sparse import linalg as splinalg, spmatrix, diags\n",
    "import numpy as np\n",
    "\n",
    "# I see a big big big big boilerplate ...\n",
    "def solve(A: spmatrix, b: np.ndarray, method: str = 'direct', **solverkwargs):\n",
    "    if method == 'direct':\n",
    "        print(f'Solving sparse linear system with solver method: `{method}`.')\n",
    "        return splinalg.spsolve(A, b, **solverkwargs)\n",
    "    elif method == 'cg':\n",
    "        print(f'Solving sparse linear system with solver method: `{method}`.')\n",
    "        return splinalg.cg(A, b, **solverkwargs)\n",
    "    elif method == 'gmres':\n",
    "        print(f'Solving sparse linear system with solver method: `{method}`.')\n",
    "        return splinalg.gmres(A, b, **solverkwargs)\n",
    "    elif method == 'bicgstab':\n",
    "        print(f'Solving sparse linear system with solver method: `{method}`.')\n",
    "        return splinalg.bicgstab(A, b, **solverkwargs)\n",
    "    else:\n",
    "        raise ValueError(f'Unknown method name {method}.')\n",
    "        \n",
    "\n",
    "diagonals = 2 * np.ones(10), -np.ones(9), -np.ones(9)\n",
    "A = diags(diagonals, [0, -1, 1])\n",
    "b = np.ones(10)\n",
    "\n",
    "# solve with bicgstab and solver tolerance tol=1e-7\n",
    "print(solve(A, b, method='bicgstab', tol=1e-7))"
   ]
  },
  {
   "cell_type": "markdown",
   "id": "cda00aa4",
   "metadata": {},
   "source": [
    "### \n",
    "### A pythonic solution:"
   ]
  },
  {
   "cell_type": "code",
   "execution_count": null,
   "id": "b3e903f4",
   "metadata": {},
   "outputs": [],
   "source": [
    "from scipy.sparse import linalg as splinalg, spmatrix, diags\n",
    "import numpy as np\n",
    "\n",
    "# I see only clean code =)\n",
    "\n",
    "def solve(A: spmatrix, b: np.ndarray, method: str = 'direct', **solverkwargs):\n",
    "    # Get solver from token using a dict. Return None if token is not found.\n",
    "    solver = { 'bicgstab': splinalg.bicgstab,\n",
    "               'direct'  : splinalg.spsolve,\n",
    "               'gmres'   : splinalg.gmres, \n",
    "               'cg'      : splinalg.cg        }.get(method, None)\n",
    "    \n",
    "    if solver is None:  # token not found, raise error.\n",
    "        raise ValueError(f'Unknown method name {method}.')\n",
    "        \n",
    "    print(f'Solving sparse linear system with solver method: `{method}`.')\n",
    "\n",
    "    return solver(A, b, **solverkwargs)\n",
    "        \n",
    "\n",
    "diagonals = 2 * np.ones(10), -np.ones(9), -np.ones(9)\n",
    "A = diags(diagonals, [0, -1, 1])\n",
    "b = np.ones(10)\n",
    "\n",
    "# solve with bicgstab and solver tolerance tol=1e-7\n",
    "print(solve(A, b, method='bicgstab', tol=1e-7))"
   ]
  },
  {
   "cell_type": "markdown",
   "id": "c80962d4",
   "metadata": {},
   "source": [
    "### \n",
    "### The `dict.get(key, default_value)` method can be used to return a default value in case a key has not been found.\n",
    "### \n",
    "<hr style=\"border:1px solid blue\">\n",
    "\n",
    "### \n",
    "### In the following, we discuss dict.setdefault.\n",
    "### Let us see what this does:"
   ]
  },
  {
   "cell_type": "code",
   "execution_count": null,
   "id": "0e1ebf5d",
   "metadata": {},
   "outputs": [],
   "source": [
    "test = {'a': 5, 'b': 10}\n",
    "\n",
    "print('test: ', test, '\\n')\n",
    "\n",
    "test.setdefault('a', 20)\n",
    "print('test after the first setdefault operation: ', test, '\\n')\n",
    "\n",
    "test.setdefault('c', 15)\n",
    "print('test after the second setdefault operation: ', test, '\\n')"
   ]
  },
  {
   "cell_type": "markdown",
   "id": "8a6f6fdc",
   "metadata": {},
   "source": [
    "### \n",
    "### The first `.setdefault` didn't do anything because the key was already contained.\n",
    "### `dict.setdefault(key, value)` only changes the `dict` if `key not in dict`\n",
    "### \n",
    "<hr style=\"border:1px solid blue\">\n",
    "\n",
    "### \n",
    "## <u>Exercise 3.1</u>:\n",
    "### Using the `solve(A, b, ...)` function, write a function `solve_SPD(A, b, **kwargs)`\n",
    "### which calls the `solve` function but uses the `'cg'` method unless another method token is passed."
   ]
  },
  {
   "cell_type": "code",
   "execution_count": null,
   "id": "ad8a7865",
   "metadata": {},
   "outputs": [],
   "source": [
    "# again, the solve(...) method from above, to be used in your implementation\n",
    "\n",
    "from scipy.sparse import linalg as splinalg, spmatrix, diags\n",
    "import numpy as np\n",
    "\n",
    "\n",
    "def solve(A: spmatrix, b: np.ndarray, method: str = 'direct', **solverkwargs):\n",
    "    # Get solver from token using a dict. Return None if token is not found.\n",
    "    solver = { 'bicgstab': splinalg.bicgstab,\n",
    "               'direct'  : splinalg.spsolve,\n",
    "               'gmres'   : splinalg.gmres, \n",
    "               'cg'      : splinalg.cg        }.get(method, None)\n",
    "    \n",
    "    if solver is None:  # token not found, raise error.\n",
    "        raise ValueError(f'Unknown method name {method}.')\n",
    "        \n",
    "    print(f'Solving sparse linear system with solver method: `{method}`.')\n",
    "    \n",
    "    return solver(A, b, **solverkwargs)"
   ]
  },
  {
   "cell_type": "code",
   "execution_count": null,
   "id": "9d6ce19e",
   "metadata": {},
   "outputs": [],
   "source": [
    "# Incorrect solution ! this function does not have the correct signature\n",
    "# And for good reason ! We have to forward method=method in solve(...) explicitly.\n",
    "# Easy to forget ... especially if you add more deviating default values.\n",
    "def solve_SPD(A, b, method='cg', **kwargs):\n",
    "    return solve(A, b, method=method, **kwargs)"
   ]
  },
  {
   "cell_type": "markdown",
   "id": "1de31cf9",
   "metadata": {},
   "source": [
    "### \n",
    "### Your solution here:"
   ]
  },
  {
   "cell_type": "code",
   "execution_count": null,
   "id": "33b2632b",
   "metadata": {},
   "outputs": [],
   "source": [
    "def solve_SPD(A, b, **kwargs):\n",
    "    # your code here\n",
    "    pass\n",
    "\n",
    "\n",
    "diagonals = 2 * np.ones(10), -np.ones(9), -np.ones(9)\n",
    "A = diags(diagonals, [0, -1, 1])\n",
    "b = np.ones(10)\n",
    "\n",
    "# solve the system but don't specify the solver, should solve with `cg`\n",
    "print(solve_SPD(A, b))\n",
    "\n",
    "# solve with `bicgstab`\n",
    "print(solve_SPD(A, b, method='bicgstab'))"
   ]
  },
  {
   "cell_type": "markdown",
   "id": "0ed0869e",
   "metadata": {},
   "source": [
    "### \n",
    "### Solution:"
   ]
  },
  {
   "cell_type": "code",
   "execution_count": null,
   "id": "28c45bc6",
   "metadata": {
    "jupyter": {
     "source_hidden": true
    }
   },
   "outputs": [],
   "source": [
    "def solve_SPD(A, b, **kwargs):\n",
    "    kwargs.setdefault('method', 'cg')\n",
    "    return solve(A, b, **kwargs)\n",
    "\n",
    "\n",
    "diagonals = 2 * np.ones(10), -np.ones(9), -np.ones(9)\n",
    "A = diags(diagonals, [0, -1, 1])\n",
    "b = np.ones(10)\n",
    "\n",
    "# solve the system but don't specify the solver\n",
    "print(solve_SPD(A, b), '\\n')\n",
    "\n",
    "# solve with bicgstab\n",
    "print(solve_SPD(A, b, method='bicgstab'))"
   ]
  },
  {
   "cell_type": "markdown",
   "id": "6bbca4b0",
   "metadata": {},
   "source": [
    "### \n",
    "<hr style=\"border:1px solid blue\">\n",
    "\n",
    "### \n",
    "### By invoking `var = dict.setdefault(key, value)`, we can optionally\n",
    "### capture in `var` whatever the dictionary contains at `key` after the `.setdefault` operation."
   ]
  },
  {
   "cell_type": "code",
   "execution_count": null,
   "id": "af7f0602",
   "metadata": {},
   "outputs": [],
   "source": [
    "test = {'a': 5, 'b': 10}\n",
    "\n",
    "var = test.setdefault('a', 20)\n",
    "\n",
    "print(var)\n",
    "\n",
    "var = test.setdefault('c', 30)\n",
    "\n",
    "print(var)"
   ]
  },
  {
   "cell_type": "markdown",
   "id": "17b11459",
   "metadata": {},
   "source": [
    "### \n",
    "<hr style=\"border:1px solid blue\">\n",
    "\n",
    "### \n",
    "## <u>Exercise 3.2</u>:\n",
    "### you are given a tuple of edges `edges = ((i0, i1), (i2, i3), ...)` representing the edges of a directed graph.\n",
    "### An edge `edge = (i0, i1)` points from node `i0` to node `i1`. The nodes are not necessarily numbered from `0` to `N` but can be anything.\n",
    "### Write a code that counts the number of unique edges incident to each node. Some edges may be duplicated in `edges`.\n",
    "### **Remember**: you have no idea what indices the nodes have."
   ]
  },
  {
   "cell_type": "code",
   "execution_count": null,
   "id": "f0a4abdb",
   "metadata": {},
   "outputs": [],
   "source": [
    "edges = (1, 12), (4, 12), (4, 1), (13, 6), \\\n",
    "        (12, 8), (8, 4), (6, 8), (1, 12), \\\n",
    "        (6, 4), (12, 8), (13, 6), (3, 13), (3, 4), (3, 1)"
   ]
  },
  {
   "cell_type": "code",
   "execution_count": null,
   "id": "88213fcc",
   "metadata": {},
   "outputs": [],
   "source": [
    "# let's draw the graph first.\n",
    "# you need networkx installed `pip install networkx`\n",
    "import networkx as nx\n",
    "from matplotlib import pyplot as plt\n",
    "\n",
    "G = nx.DiGraph()\n",
    "G.add_edges_from(edges)\n",
    "\n",
    "pos = nx.planar_layout(G)\n",
    "\n",
    "nx.draw_networkx(G, arrows=True, pos=pos)\n",
    "plt.show()"
   ]
  },
  {
   "cell_type": "markdown",
   "id": "76fda62c",
   "metadata": {},
   "source": [
    "### \n",
    "### A crude (non-pythonic) solution:"
   ]
  },
  {
   "cell_type": "code",
   "execution_count": null,
   "id": "a4223085",
   "metadata": {},
   "outputs": [],
   "source": [
    "map_node_root_vertex = {}\n",
    "\n",
    "for edge in edges:\n",
    "    # Make sure your implementation does NOT do this.\n",
    "    v0 = edge[0]  # get the root node\n",
    "    v1 = edge[1]  # get the incident node\n",
    "    if v1 not in map_node_root_vertex:\n",
    "        map_node_root_vertex[v1] = set()\n",
    "    map_node_root_vertex[v1].add(v0)  # add the root vertex to the set of nodes incident to i1\n",
    "\n",
    "# the number of incident edges to `node` is the number of unique roots pointing to `node`\n",
    "map_node_nedges = {node: len(root_verts) for node, root_verts in map_node_root_vertex.items()}\n",
    "\n",
    "print(map_node_nedges)"
   ]
  },
  {
   "cell_type": "markdown",
   "id": "f1f5afcb",
   "metadata": {},
   "source": [
    "### \n",
    "### Your solution using dict.setdefault"
   ]
  },
  {
   "cell_type": "code",
   "execution_count": null,
   "id": "072f579b",
   "metadata": {},
   "outputs": [],
   "source": [
    "map_node_root_vertex = {}\n",
    "\n",
    "# your code here\n",
    "\n",
    "map_node_nedges = {node: len(root_verts) for node, root_verts in map_node_root_vertex.items()}\n",
    "\n",
    "print(map_node_nedges)"
   ]
  },
  {
   "cell_type": "markdown",
   "id": "cd84e927",
   "metadata": {},
   "source": [
    "### \n",
    "### solution:"
   ]
  },
  {
   "cell_type": "code",
   "execution_count": null,
   "id": "41c3d930",
   "metadata": {},
   "outputs": [],
   "source": [
    "map_node_root_vertex = {}\n",
    "\n",
    "# .setdefault(key, default_value) returns whatever is at dict[key] after the .setdefault operation.\n",
    "# => .setdefault(i1, set()) returns either an existing or a new set that we immediately add the root vertex to.\n",
    "for v0, v1 in edges:\n",
    "    map_node_root_vertex.setdefault(v1, set()).add(v0)\n",
    "    \n",
    "map_node_nedges = {node: len(root_verts) for node, root_verts in map_node_root_vertex.items()}\n",
    "\n",
    "print(map_node_nedges)"
   ]
  },
  {
   "cell_type": "markdown",
   "id": "48f2df29",
   "metadata": {},
   "source": [
    "### \n",
    "<hr style=\"border:1px solid blue\">\n",
    "\n",
    "### \n",
    "# <u>Lesson 4</u>: Python _\"truthiness\"_ "
   ]
  },
  {
   "cell_type": "code",
   "execution_count": null,
   "id": "d10cc44d",
   "metadata": {},
   "outputs": [],
   "source": [
    "%reset -f"
   ]
  },
  {
   "cell_type": "markdown",
   "id": "076ec306",
   "metadata": {},
   "source": [
    "### \n",
    "### ALL Python types (`dict`, `set`, `list`, ..., custom types) can be converted into a boolean.\n",
    "### The Python developers have chosen intuitive rules as to whether a built-in type should convert\n",
    "### into `True` or `False`.\n",
    "### Let's see if our intiution is correct.\n",
    "\n",
    "### \n",
    "## <u>Exercise 4.1</u>: Does `bool(var)` convert to `True` or `False` ?"
   ]
  },
  {
   "cell_type": "code",
   "execution_count": null,
   "id": "6f29edeb",
   "metadata": {},
   "outputs": [],
   "source": [
    "# what do you think ? (you'll get most of them right)\n",
    "\n",
    "variables = [ \n",
    "              True,          # I guess we can all agree what this one is converted into ;)\n",
    "              False,         # idem\n",
    "              None,          # untyped null pointer\n",
    "              {},            # empty dict\n",
    "              {1: 2},        # nonempty dict\n",
    "              [],            # empty list\n",
    "              [1, 2],        # nonempty list\n",
    "              tuple(),       # empty tuple\n",
    "              (1, 2),        # nonempty tuple\n",
    "              0,             # zero integer\n",
    "              0.0,           # zero float\n",
    "              1.0,           # positive float\n",
    "              -1.,           # negative integer\n",
    "              \"\",            # empty string\n",
    "              \"Connie\",      # nonempty string\n",
    "            ]\n",
    "\n",
    "\n",
    "for var in variables:\n",
    "    print('var: {}, bool(var): {}'.format(var, bool(var)), '\\n')"
   ]
  },
  {
   "cell_type": "markdown",
   "id": "571eef02",
   "metadata": {},
   "source": [
    "### \n",
    "<hr style=\"border:1px solid blue\">\n",
    "\n",
    "\n",
    "### \n",
    "### Now that we have an idea of how various variable types transform into a boolean,\n",
    "### we are in the position to understand the `if other_divisors:` statement from **Lesson 1**."
   ]
  },
  {
   "cell_type": "code",
   "execution_count": null,
   "id": "f0eb594e",
   "metadata": {},
   "outputs": [],
   "source": [
    "# Find the greatest divisor of an integer (excluding self) and return it.\n",
    "# Also, print all other (smaller) divisors, if any.\n",
    "\n",
    "def greatest_divisor_excluding_self(val):\n",
    "    \"\"\" excluding `val` itself \"\"\"\n",
    "    *other_divisors, greatest_divisor = [i for i in range(1, val) if val % i == 0]\n",
    "    if other_divisors:\n",
    "        print(\"For {}, I also found the divisors {}.\".format(val, other_divisors))\n",
    "    return greatest_divisor\n",
    "\n",
    "print('The greatest divisor (excl self) of 10 equals:', greatest_divisor_excluding_self(10))"
   ]
  },
  {
   "cell_type": "markdown",
   "id": "4a64b1eb",
   "metadata": {},
   "source": [
    "### \n",
    "### First, we break down the line `*other_divisors, greatest_divisor = [i for i in range(1, val) if val % i == 0]`\n",
    "* the rhs creates a monotone increasing list with at least one element `1`.\n",
    "* the left hand side peels off the last (and hence largest) element in that list, while collecting all remaining divisors in the list `other_divisors`\n",
    "* if the only divisor is `[1]`, `other_divisors == []`, else `other_divisors != []`.\n",
    "\n",
    "### Then, the line `if other_divisors:`\n",
    "* in the next line `if other_divisors:`, Python, under the hood, converts this line to `if bool(other_divisors):`\n",
    "* from before, we know that if `other_divisors == []`, `if other_divisors:` becomes `if False:` and the if clause is ignored.\n",
    "* On the other hand, if `other_divisors != []` (nonempty), then `if other_divisors:` converts to `if True:` and the if clause's code is executed.\n",
    "### \n",
    "\n",
    "<hr style=\"border:1px solid blue\">\n",
    "\n",
    "### \n",
    "## <u>Exercise 4.2</u>:\n",
    "### write a function `average(*numbers)` that computes the average of the numbers in `numbers` and returns `0.0` if no numbers have been passed.\n",
    "### Use Python truthiness !"
   ]
  },
  {
   "cell_type": "code",
   "execution_count": null,
   "id": "4e9aaf31",
   "metadata": {},
   "outputs": [],
   "source": [
    "def average(*numbers):\n",
    "    # your code here\n",
    "    pass\n",
    "\n",
    "\n",
    "print(average(1, 2, 3))\n",
    "print(average())"
   ]
  },
  {
   "cell_type": "markdown",
   "id": "a573ad5f",
   "metadata": {},
   "source": [
    "### \n",
    "### 2 equivalent solutions:"
   ]
  },
  {
   "cell_type": "code",
   "execution_count": null,
   "id": "7d66d126",
   "metadata": {
    "jupyter": {
     "source_hidden": true
    }
   },
   "outputs": [],
   "source": [
    "def average_v0(*numbers):\n",
    "    if numbers:\n",
    "        # note that if list_of_numbers == [], we divide by 0.\n",
    "        return sum(numbers) / len(numbers)\n",
    "    return 0.0\n",
    "    \n",
    "    \n",
    "print(average_v0(1, 2, 3))\n",
    "print(average_v0())\n",
    "\n",
    "# one liner\n",
    "def average_v1(*numbers):\n",
    "    return sum(numbers) / len(numbers) if numbers else 0.0\n",
    "    \n",
    "    \n",
    "print(average_v1(1, 2, 3))\n",
    "print(average_v1())"
   ]
  },
  {
   "cell_type": "markdown",
   "id": "64a3d114",
   "metadata": {},
   "source": [
    "### \n",
    "<hr style=\"border:1px solid blue\">\n",
    "\n",
    "### \n",
    "### There are some interesting use cases of Python '_truthiness_' that most people are unaware of.\n",
    "\n",
    "### \n",
    "### Let us look at the following truth table:\n",
    "### `bool0 or bool1`\n",
    "### `True or True` => `True`\n",
    "### `True or False` => `True`\n",
    "### `False or True` => `True`\n",
    "### `False or False` => `False`\n",
    "### Observation: if `bool0 is True` we return `bool0`. Else, we return `bool1`.\n",
    "***\n",
    "### Python takes it a step further. Consider `object0 or object1`\n",
    "### python's behaviour: if `bool(object0) is True: return object0`,\n",
    "###                     if `bool(object0) is False: return object1`.\n",
    "#### Convince yourself that this also reproduces the expected behaviour when both `object0` and `object1` are booleans (obviously, `bool(False) = False` and `bool(True) = True`).\n",
    "### \n",
    "\n",
    "<hr style=\"border:1px solid blue\">\n",
    "\n",
    "### \n",
    "## <u>Exercise 4.3</u>:\n",
    "### Write a function `average(*numbers)` that uses an `or` statement to avoid division by zero if `numbers == []`."
   ]
  },
  {
   "cell_type": "code",
   "execution_count": null,
   "id": "02ad08e7",
   "metadata": {},
   "outputs": [],
   "source": [
    "def average(*numbers):\n",
    "    # ONE LINE of code here.\n",
    "    pass\n",
    "\n",
    "\n",
    "print(average(1, 2, 3))\n",
    "print(average())"
   ]
  },
  {
   "cell_type": "markdown",
   "id": "3b66967c",
   "metadata": {},
   "source": [
    "### \n",
    "### solution:"
   ]
  },
  {
   "cell_type": "code",
   "execution_count": null,
   "id": "36007dd5",
   "metadata": {
    "jupyter": {
     "source_hidden": true
    }
   },
   "outputs": [],
   "source": [
    "def average(*numbers):\n",
    "    return sum(numbers) / (len(numbers) or 1)\n",
    "\n",
    "\n",
    "print(average(1, 2, 3))\n",
    "print(average())"
   ]
  },
  {
   "cell_type": "markdown",
   "id": "4de47888",
   "metadata": {},
   "source": [
    "### \n",
    "<hr style=\"border:1px solid blue\">\n",
    "\n",
    "### \n",
    "### Python truthiness comes in handy in the following setting:\n",
    "### Suppose you are trying to find the zero of a function using `scipy.optimize.minimize`.\n",
    "### The function itself is the integral over $(0, 1)$ of an integrand \n",
    "### and for integrating you use `scipy.integrate.fixed_quad`.\n",
    "### Find $\\min_{a_0, \\ldots, a_N} \\left(\\int_{(0, 1)} f(a_0, \\ldots, a_N, x) \\, \\mathrm{d}x \\right)^2$\n",
    "### Now you have two functions that take optional keyword arguments. How do you handle that ?\n",
    "\n",
    "### Let's look at a crude solution (don't focus on the details, just boilerplate):"
   ]
  },
  {
   "cell_type": "code",
   "execution_count": null,
   "id": "2d0a491e",
   "metadata": {},
   "outputs": [],
   "source": [
    "from scipy.optimize import minimize\n",
    "from scipy.integrate import fixed_quad\n",
    "import numpy as np\n",
    "from matplotlib import pyplot as plt\n",
    "\n",
    "\n",
    "# why is saying minimize_kwargs={} a shit idea ?\n",
    "def find_root_of_integral(integrand, x0, minimize_kwargs=None, integrate_kwargs=None):\n",
    "    \n",
    "    ### big boilerplate\n",
    "    if minimize_kwargs is None:  # root_kwargs not passed => set to empty dict\n",
    "        minimize_kwargs = {}\n",
    "    \n",
    "    if integrate_kwargs is None:  # idem\n",
    "        integrate_kwargs = {}\n",
    "    ###\n",
    "    \n",
    "    f = lambda a: fixed_quad(lambda x: integrand(a, x), 0, 1, **integrate_kwargs)[0]**2\n",
    "    \n",
    "    return minimize(f, x0=x0, **minimize_kwargs).x[0]\n",
    "\n",
    "\n",
    "# find the parameter `a` such that a x^2 -3 x + 1 integrates to 0 over [0, 1]\n",
    "integrand = lambda a, x: a * x**2 - 3 * x + 1\n",
    "\n",
    "# the function is quadratic so gaussian integration of n=2 suffices.\n",
    "root = find_root_of_integral(integrand, 0, minimize_kwargs={'method': 'SLSQP'}, integrate_kwargs={'n': 2})\n",
    "\n",
    "# print the root \n",
    "print(\"The function's integral with a={} evaluates to {}.\".format(root, fixed_quad(lambda x: integrand(root, x), *[0, 1], n=2)[0]))\n",
    "\n",
    "# plot\n",
    "xi = np.linspace(0, 1, 101)\n",
    "f = [integrand(root, x) for x in xi]\n",
    "\n",
    "plt.plot(xi, f)\n",
    "plt.show()"
   ]
  },
  {
   "cell_type": "markdown",
   "id": "1579cf4e",
   "metadata": {},
   "source": [
    "### \n",
    "## <u>Exercise 4.4</u>:\n",
    "### Find a solution that substantially reduces boilerplate in the `find_root_of_integral` function."
   ]
  },
  {
   "cell_type": "code",
   "execution_count": null,
   "id": "707374c5",
   "metadata": {},
   "outputs": [],
   "source": [
    "from scipy.optimize import minimize\n",
    "from scipy.integrate import fixed_quad\n",
    "import numpy as np\n",
    "from matplotlib import pyplot as plt\n",
    "\n",
    "\n",
    "def find_root_of_integral(integrand, x0, minimize_kwargs=None, integrate_kwargs=None):\n",
    "    \n",
    "    ### Your code here\n",
    "    \n",
    "    # f = ???\n",
    "    \n",
    "    return # ???\n",
    "\n",
    "\n",
    "# find the parameter `a` such that a x^2 -3 x + 1 integrates to 0 over [0, 1]\n",
    "integrand = lambda a, x: a * x**2 - 3 * x + 1\n",
    "\n",
    "# the function is quadratic so gaussian integration of n=2 suffices.\n",
    "root = find_root_of_integral(integrand, 0, minimize_kwargs={'method': 'SLSQP'}, integrate_kwargs={'n': 2})\n",
    "\n",
    "# print the root \n",
    "print(\"The function's integral with a={} evaluates to {}.\".format(root, fixed_quad(lambda x: integrand(root, x), *[0, 1], n=2)[0]))\n",
    "\n",
    "# plot\n",
    "xi = np.linspace(0, 1, 101)\n",
    "f = [integrand(root, x) for x in xi]\n",
    "\n",
    "plt.plot(xi, f)\n",
    "plt.show()"
   ]
  },
  {
   "cell_type": "markdown",
   "id": "258934f6",
   "metadata": {},
   "source": [
    "### \n",
    "### solution:"
   ]
  },
  {
   "cell_type": "code",
   "execution_count": null,
   "id": "f60ab490",
   "metadata": {
    "jupyter": {
     "source_hidden": true
    }
   },
   "outputs": [],
   "source": [
    "from scipy.optimize import minimize\n",
    "from scipy.integrate import fixed_quad\n",
    "import numpy as np\n",
    "from matplotlib import pyplot as plt\n",
    "\n",
    "\n",
    "# The entire thing can be done in 2 lines of code.\n",
    "def find_root_of_integral(integrand, x0, minimize_kwargs=None, integrate_kwargs=None):\n",
    "    \n",
    "    f = lambda a: fixed_quad(lambda x: integrand(a, x), 0, 1, **integrate_kwargs or {})[0]**2\n",
    "    \n",
    "    # `or` is evaluated before ** so we can do **kwargs or {} instead of **(kwargs or {})\n",
    "    return minimize(f, x0=x0, **minimize_kwargs or {}).x[0]\n",
    "\n",
    "\n",
    "# find the parameter `a` such that a x^2 -3 x + 1 integrates to 0 over [0, 1]\n",
    "integrand = lambda a, x: a * x**2 - 3 * x + 1\n",
    "\n",
    "# the function is quadratic so gaussian integration of n=2 suffices.\n",
    "root = find_root_of_integral(integrand, 0, minimize_kwargs={'method': 'SLSQP'}, integrate_kwargs={'n': 2})\n",
    "\n",
    "# print the root \n",
    "print(\"The function's integral with a={} evaluates to {}.\".format(root, fixed_quad(lambda x: integrand(root, x), *[0, 1], n=2)[0]))\n",
    "\n",
    "# plot\n",
    "xi = np.linspace(0, 1, 101)\n",
    "f = [integrand(root, x) for x in xi]\n",
    "\n",
    "plt.plot(xi, f)\n",
    "plt.show()"
   ]
  },
  {
   "cell_type": "markdown",
   "id": "3c232894",
   "metadata": {},
   "source": [
    "<hr style=\"border:1px solid blue\">\n",
    "\n",
    "### \n",
    "### <u>Final note</u> (for those who are interested):\n",
    "### There is an equivalent `object0 and object1` which behaves exactly opposite to `object0 or object1`. \n",
    "### It is less useful in practice.\n",
    "\n",
    "### \n",
    "### <u>Final brain teaser</u>:\n",
    "### You remember this code snipped from **Lesson 1** ? Can you explain it now ? \n",
    "#### hint: a function that does not return anything, returns None instead. Don't feel bad if it's still confusing ;)"
   ]
  },
  {
   "cell_type": "markdown",
   "id": "89320ecb",
   "metadata": {},
   "source": [
    "```python\n",
    "from itertools import count\n",
    "from collections import defaultdict\n",
    "\n",
    "map_point_index = defaultdict(count().__next__)\n",
    "seen = set()\n",
    "\n",
    "new_elems = []\n",
    "for elems, points in zip([elems0, elems1], [points0, points1]):\n",
    "    for elem in elems:\n",
    "        new_elem = [map_point_index[point] for point in map(tuple, points[elem])]\n",
    "        ### Try to explain this line\n",
    "        (identifier := tuple(sorted(new_elem))) in seen \\\n",
    "        or seen.add(identifier) or new_elems.append(new_elem)\n",
    "\n",
    "new_elems = np.array(new_elems)\n",
    "new_points = np.stack(list(map_point_index.keys()))\n",
    "\n",
    "plot_meshes([new_elems], [new_points])\n",
    "\n",
    "print('Number of points: ', len(new_points))\n",
    "print('Number of elements: ', len(new_elems))\n",
    "```"
   ]
  },
  {
   "cell_type": "markdown",
   "id": "4ea2df33",
   "metadata": {},
   "source": [
    "### \n",
    "<hr style=\"border:1px solid blue\">\n",
    "\n",
    "### \n",
    "### We come to this session's most important\n",
    "# <u>Lesson 5</u>: Advanced iteration and the use of itertools."
   ]
  },
  {
   "cell_type": "code",
   "execution_count": null,
   "id": "0763c66d",
   "metadata": {},
   "outputs": [],
   "source": [
    "%reset -f"
   ]
  },
  {
   "cell_type": "markdown",
   "id": "7b473533",
   "metadata": {},
   "source": [
    "### \n",
    "### Python's most important iteration feature is the `zip` statement\n",
    "### (Most of you have seen it).\n",
    "### \n",
    "### What happens if the iterables we iterate over have unequal length ?"
   ]
  },
  {
   "cell_type": "code",
   "execution_count": null,
   "id": "890a9b6d",
   "metadata": {},
   "outputs": [],
   "source": [
    "from itertools import repeat\n",
    "\n",
    "iter0 = [0, 1, 2, 3, 4, 5]  # length 6\n",
    "iter1 = range(20, 40)  # consumed after a max of 20 iterations\n",
    "iter2 = repeat(\"Connie\")  # this guy is repeated an infinite number of times\n",
    "\n",
    "for elem0, elem1, elem2 in zip(iter0, iter1, iter2):\n",
    "    print(elem0, elem1, elem2)"
   ]
  },
  {
   "cell_type": "markdown",
   "id": "48260f24",
   "metadata": {},
   "source": [
    "### \n",
    "### <u>We conclude</u>: the `zip(...)` loop terminates after the shortest iterable has been consumed.\n",
    "### \n",
    "<hr style=\"border:1px solid blue\">\n",
    "\n",
    "### \n",
    "## <u>Exercise 5.1</u>:\n",
    "### Given two polynomials represented by their weights\n",
    "### `pol0 = [a0, a1, ..., aN]`\n",
    "### `pol1 = [b0, b1, ..., bM]`\n",
    "### potentially `N != M`.\n",
    "### Write a function that returns their sum.\n",
    "### Note that you have to be able to handle the case `len(pol0) != len(pol1)`.\n",
    "### Hint: (in case you didn't know) $(a_0 + a_1 x + \\ldots + a_N x^N) + (b_0 + b_1 x + \\ldots + b_M x^M) = (a_0 + b_0) + (a_1 + b_1) x + \\ldots$"
   ]
  },
  {
   "cell_type": "code",
   "execution_count": null,
   "id": "3c364dbb",
   "metadata": {},
   "outputs": [],
   "source": [
    "def add_two_polynomials(pol0, pol1):\n",
    "    # your code here\n",
    "    pass\n",
    "\n",
    "# 1 + 2 x + 3 x^2\n",
    "pol0 = [1, 2, 3]\n",
    "\n",
    "# 3 x + 2 x^2 + x^3\n",
    "pol1 = (0, 3, 2, 1)  # >>note that pol1 is a tuple, not a list<<\n",
    "\n",
    "# should be [1, 5, 5, 1]\n",
    "print(add_two_polynomials(pol0, pol1))"
   ]
  },
  {
   "cell_type": "markdown",
   "id": "a76b1d3a",
   "metadata": {},
   "source": [
    "### \n",
    "### solution (gosh, it's fugly, but it gets the job done):"
   ]
  },
  {
   "cell_type": "code",
   "execution_count": null,
   "id": "b7b9896c",
   "metadata": {
    "jupyter": {
     "source_hidden": true
    }
   },
   "outputs": [],
   "source": [
    "def add_two_polynomials(pol0, pol1) -> list:\n",
    "    # we convert both to lists, just to be sure\n",
    "    pol0 = list(pol0)\n",
    "    pol1 = list(pol1)\n",
    "    # if pol0 is longer than pol1, reverse order\n",
    "    if len(pol0) > len(pol1):\n",
    "        pol1, pol0 = pol0, pol1\n",
    "    # from here on out, we assume len(pol0) <= len(pol1)\n",
    "    diff = len(pol1) - len(pol0)\n",
    "    \n",
    "    # add a tail of zeros. Note that pol0 is a list, we made sure of that\n",
    "    pol0 = pol0 + [0] * diff\n",
    "    return [a + b for a, b in zip(pol0, pol1)]\n",
    "\n",
    "# 1 + 2 x + 3 x^2\n",
    "pol0 = [1, 2, 3]\n",
    "\n",
    "# 3 x + 2 x^2 + x^3, note that pol1 is a tuple, not a list\n",
    "pol1 = [0, 3, 2, 1]\n",
    "\n",
    "print(add_two_polynomials(pol0, pol1))"
   ]
  },
  {
   "cell_type": "markdown",
   "id": "66c8653e",
   "metadata": {},
   "source": [
    "### \n",
    "<hr style=\"border:1px solid blue\">\n",
    "\n",
    "### \n",
    "### Let us see what this does:"
   ]
  },
  {
   "cell_type": "code",
   "execution_count": null,
   "id": "ef8cd516",
   "metadata": {},
   "outputs": [],
   "source": [
    "from itertools import zip_longest\n",
    "\n",
    "pol0 = [1, 2, 3]\n",
    "pol1 = (0, 3, 2, 1)\n",
    "\n",
    "for elem0, elem1 in zip_longest(pol0, pol1, fillvalue=0):\n",
    "    print(elem0, elem1)"
   ]
  },
  {
   "cell_type": "markdown",
   "id": "a7cba53d",
   "metadata": {},
   "source": [
    "### I probably won't have to explain why this is handy now ;)\n",
    "#### Note that `zip_longest = zip_longest(*iterables, fillvalue=None)` \n",
    "#### (accepts as many iterables as we want, same as `zip(...)`)\n",
    "### \n",
    "\n",
    "<hr style=\"border:1px solid blue\">\n",
    "\n",
    "### \n",
    "## <u>Exercise 5.2</u>:\n",
    "### Rewrite the sum of polynomials using zip_longest.\n",
    "### To challenge yourself, write a function `add_polynomials(*polynomials)` that accepts an arbitrary number of polynomials for addition."
   ]
  },
  {
   "cell_type": "code",
   "execution_count": null,
   "id": "1b6323d2",
   "metadata": {},
   "outputs": [],
   "source": [
    "def add_polynomials(*polynomials):\n",
    "    # your code here\n",
    "    pass\n",
    "\n",
    "# note that some are lists, others tuples ...\n",
    "pol0 = (1, 2, 3)\n",
    "pol1 = [0, 3, 2, 1]\n",
    "pol2 = [-1, 2]\n",
    "pol3 = [-1, -2, 5, 7, 10]\n",
    "\n",
    "# should give [-1, 5, 10, 8, 10]\n",
    "print(add_polynomials(pol0, pol1, pol2, pol3))"
   ]
  },
  {
   "cell_type": "markdown",
   "id": "34f4e9c8",
   "metadata": {},
   "source": [
    "### \n",
    "### solution(s):"
   ]
  },
  {
   "cell_type": "code",
   "execution_count": null,
   "id": "8bcf40be",
   "metadata": {
    "jupyter": {
     "source_hidden": true
    }
   },
   "outputs": [],
   "source": [
    "# one line of code\n",
    "def add_polynomials(*polynomials):\n",
    "    return [sum(weights) for weights in zip_longest(*polynomials, fillvalue=0)]\n",
    "\n",
    "# note that some are lists, others tuples ...\n",
    "pol0 = (1, 2, 3)\n",
    "pol1 = [0, 3, 2, 1]\n",
    "pol2 = [-1, 2]\n",
    "pol3 = [-1, -2, 5, 7, 10]\n",
    "\n",
    "# should give [-1, 5, 10, 8, 10]\n",
    "print(add_polynomials(pol0, pol1, pol2, pol3))\n",
    "\n",
    "\n",
    "# for good measure\n",
    "def add_polynomials_map(*polynomials):\n",
    "    return list(map(sum, zip_longest(*polynomials, fillvalue=0)))\n",
    "\n",
    "# should give [-1, 5, 10, 8, 10]\n",
    "print(add_polynomials_map(pol0, pol1, pol2, pol3))"
   ]
  },
  {
   "cell_type": "markdown",
   "id": "0f039d01",
   "metadata": {},
   "source": [
    "### \n",
    "<hr style=\"border:1px solid blue\">"
   ]
  },
  {
   "cell_type": "markdown",
   "id": "a8ecd47a",
   "metadata": {},
   "source": [
    "### \n",
    "### The difference between a fugly implementation and one that is orders of magnitude simpler\n",
    "### often just amounts to using the right function from the `itertools` module.\n",
    "### \n",
    "<hr style=\"border:1px solid blue\">"
   ]
  },
  {
   "cell_type": "markdown",
   "id": "8e8e9f4f",
   "metadata": {},
   "source": [
    "### \n",
    "### A very useful iterator from the `itertools` module is `itertools.count`.\n",
    "### "
   ]
  },
  {
   "cell_type": "code",
   "execution_count": null,
   "id": "9721f444",
   "metadata": {},
   "outputs": [],
   "source": [
    "from itertools import count\n",
    "\n",
    "# standard implementation\n",
    "i = 0\n",
    "while i < 10:\n",
    "    # do something\n",
    "    print(i)\n",
    "    i += 1\n",
    "    \n",
    "\n",
    "print('\\n')\n",
    "    \n",
    "\n",
    "# A more pythonic solution:\n",
    "for i in count():\n",
    "    # do something\n",
    "    print(i)\n",
    "    if i == 9: break"
   ]
  },
  {
   "cell_type": "markdown",
   "id": "14c7bd63",
   "metadata": {},
   "source": [
    "### \n",
    "### Task: given a set of unique edges `(i0, i1), (i1, i2), ...`, create a dictionary that\n",
    "### assigns an index to each edge."
   ]
  },
  {
   "cell_type": "code",
   "execution_count": null,
   "id": "60792023",
   "metadata": {},
   "outputs": [],
   "source": [
    "from itertools import pairwise\n",
    "\n",
    "edges = tuple(map(tuple, pairwise(range(11))))  # the map statement will come in handy later\n",
    "print(edges)"
   ]
  },
  {
   "cell_type": "markdown",
   "id": "a1dedf97",
   "metadata": {},
   "source": [
    "### \n",
    "### The naive solution"
   ]
  },
  {
   "cell_type": "code",
   "execution_count": null,
   "id": "0c80d8eb",
   "metadata": {},
   "outputs": [],
   "source": [
    "index = 0\n",
    "map_edge_index = {}\n",
    "\n",
    "for edge in edges:\n",
    "    map_edge_index[edge] = index\n",
    "    index += 1\n",
    "    \n",
    "print(map_edge_index)"
   ]
  },
  {
   "cell_type": "markdown",
   "id": "9759ce85",
   "metadata": {},
   "source": [
    "### \n",
    "### A more pythonic solution"
   ]
  },
  {
   "cell_type": "code",
   "execution_count": null,
   "id": "4994dd5a",
   "metadata": {},
   "outputs": [],
   "source": [
    "from itertools import count\n",
    "map_edge_index = {}\n",
    "counter = count()\n",
    "\n",
    "for edge in edges:\n",
    "    map_edge_index[edge] = next(counter)  # return the current index, starting at 0 and immediately increase it by one\n",
    "    \n",
    "print(map_edge_index)"
   ]
  },
  {
   "cell_type": "markdown",
   "id": "6da10e84",
   "metadata": {},
   "source": [
    "### \n",
    "### The optimal solution"
   ]
  },
  {
   "cell_type": "code",
   "execution_count": null,
   "id": "b44a1099",
   "metadata": {},
   "outputs": [],
   "source": [
    "from itertools import count\n",
    "\n",
    "# one line of code !\n",
    "map_edge_index = dict(zip(edges, count()))\n",
    "\n",
    "print(map_edge_index)"
   ]
  },
  {
   "cell_type": "markdown",
   "id": "c9e9c219",
   "metadata": {},
   "source": [
    "### (Another option is a dict comprehension)\n",
    "### \n",
    "### Let's break down what happened in the last example:\n",
    "* We can instantiate a `dict` via `(key, value)` pairs. For instance `dict([(1, 2), (2, 3)]) == {1: 2, 2: 3}`.\n",
    "* The `zip` statement can be used to produce these pairs.\n",
    "* We remember from before that `zip` terminates once the first iterator has been consumed. \n",
    "* Here: `edges` has finite length (unlike count) and is therefore consumed first.\n",
    "* The `zip(edges, count())` statement produces the pairs `(edge0, 0), (edge1, 1), ...`\n",
    "### \n",
    "\n",
    "<hr style=\"border:1px solid blue\">\n",
    "\n",
    "### \n",
    "### We have also seen the `map(...)` statement several times now, let's see what it does."
   ]
  },
  {
   "cell_type": "code",
   "execution_count": null,
   "id": "611cec03",
   "metadata": {},
   "outputs": [],
   "source": [
    "# the map statement can be used to apply a function to all inputs\n",
    "\n",
    "# print the squares of 0...9 using `map(...)`.\n",
    "for val in map(lambda x: x**2, range(10)):\n",
    "    print(val)"
   ]
  },
  {
   "cell_type": "markdown",
   "id": "0904e895",
   "metadata": {},
   "source": [
    "### The `map(func, arguments)` statement creates an iterator that applies `func` to each `arg in arguments`.\n",
    "### \n",
    "## <u>Exercise 5.3</u>:\n",
    "### Suppose you are given the edges as before but this time, they are given as a list of lists.\n",
    "### Your task is to assign to each edge an index, as before. However, since lists are not immutable (they can be changed),\n",
    "### you are not allowed to use them as keys in a dictionary. Therefore, write a one-liner that uses dict, zip, map and count\n",
    "### to assign an index to each edge converted to a tuple."
   ]
  },
  {
   "cell_type": "code",
   "execution_count": null,
   "id": "e660fa7f",
   "metadata": {},
   "outputs": [],
   "source": [
    "from itertools import pairwise\n",
    "edges = list(map(list, pairwise(range(11))))\n",
    "\n",
    "print(edges)"
   ]
  },
  {
   "cell_type": "markdown",
   "id": "808c064a",
   "metadata": {},
   "source": [
    "### \n",
    "### The wrong solution first:"
   ]
  },
  {
   "cell_type": "code",
   "execution_count": null,
   "id": "6feca2e8",
   "metadata": {},
   "outputs": [],
   "source": [
    "from itertools import count\n",
    "\n",
    "map_edge_index = {}\n",
    "counter = count()\n",
    "\n",
    "for edge in edges:\n",
    "    map_edge_index[tuple(edge)] = next(counter)\n",
    "    \n",
    "print(map_edge_index)"
   ]
  },
  {
   "cell_type": "markdown",
   "id": "c6ccfd31",
   "metadata": {},
   "source": [
    "### \n",
    "### do it better:"
   ]
  },
  {
   "cell_type": "code",
   "execution_count": null,
   "id": "e03a3e71",
   "metadata": {},
   "outputs": [],
   "source": [
    "from itertools import count\n",
    "\n",
    "# your one liner here\n",
    "# map_edge_index = ???\n",
    "\n",
    "print(map_edge_index)"
   ]
  },
  {
   "cell_type": "markdown",
   "id": "22628ec6",
   "metadata": {},
   "source": [
    "### solution:"
   ]
  },
  {
   "cell_type": "code",
   "execution_count": null,
   "id": "1f4103b8",
   "metadata": {},
   "outputs": [],
   "source": [
    "from itertools import count\n",
    "\n",
    "map_edge_index = dict(zip(map(tuple, edges), count()))\n",
    "# or \n",
    "map_edge_index = {tuple(edge): i for i, edge in enumerate(edges)}\n",
    "\n",
    "print(map_edge_index)"
   ]
  },
  {
   "cell_type": "markdown",
   "id": "c0762f1b",
   "metadata": {},
   "source": [
    "### \n",
    "<hr style=\"border:1px solid blue\">\n",
    "\n",
    "### \n",
    "### The `map(...)` statement also accepts more than one input.\n",
    "### For instance, `map(func, iter0, iter1, ...)` calls `func(object0, object1, ...)` where `object_i` is generated by `iter_i`.\n",
    "### Example:"
   ]
  },
  {
   "cell_type": "code",
   "execution_count": null,
   "id": "5132eb5c",
   "metadata": {},
   "outputs": [],
   "source": [
    "import numpy as np\n",
    "\n",
    "def abc_formula(a, b, c):\n",
    "    \"Return the roots of a quadratic equation of the form ax^2 + bx + c\"\n",
    "    discriminant = (b ** 2 - 4 * a * c)**.5\n",
    "    return (-b - discriminant) / (2 * a), (-b + discriminant) / (2 * a)\n",
    "\n",
    "N = 10\n",
    "\n",
    "# Make three random arrays containing 10 entries each. \n",
    "# Convert to complex numbers to handle complex roots.\n",
    "a, b, c = np.abs(np.random.randn(3, 10)).astype(np.complex_)\n",
    "\n",
    "print(\"Finding the complex roots of: \\n{}\\n\".\n",
    "      format('\\n'.join([f'{i}: {a0:.5g} x^2 + {b0:.5g} x + {c0:.5g}'\n",
    "                        for i, (a0, b0, c0) in enumerate(zip(*map(np.real, (a, b, c))))])))\n",
    "\n",
    "print('The complex roots are: \\n')\n",
    "\n",
    "# pythonic solution:\n",
    "for i, (root0, root1) in enumerate( map(abc_formula, a, b, c) ):\n",
    "    print(f\"{i}:\", f'({root0.real:.5g} + {root0.imag:.5g}j) and ({root1.real:.5g} + {root1.imag:.5g}j)')"
   ]
  },
  {
   "cell_type": "markdown",
   "id": "74796fcb",
   "metadata": {},
   "source": [
    "### \n",
    "<hr style=\"border:1px solid blue\">\n",
    "\n",
    "### \n",
    "### A highly useful but quite unknown Python feature is the `for-else` clause.\n",
    "### \n",
    "### <u>Task</u>:\n",
    "### Given a list of words `list_of_words` write a function that finds the first word\n",
    "### that starts on an `'a'` (case-insensitive) and prints it.\n",
    "### If no such word is found, raise an error."
   ]
  },
  {
   "cell_type": "code",
   "execution_count": null,
   "id": "4dbe380d",
   "metadata": {},
   "outputs": [],
   "source": [
    "# we create our own exception that indicates no word was found\n",
    "class NoWordFoundException(Exception):\n",
    "    pass\n",
    "\n",
    "\n",
    "# first we do a very bad implementation\n",
    "def find_word_that_starts_with_a_non_pythonic(list_of_words):\n",
    "    \"\"\"Given a iterator `list_of_words` containing strings, print the first\n",
    "       word that starts with an `a` or raise an Error if not found. Case-insensitive.\"\"\"\n",
    "    found = False\n",
    "    for word in list_of_words:\n",
    "        if word != '':  # if empty string, I can't index into the string, i.e., ''[0] gives an error.\n",
    "            if word[0] == 'a' or word[0] == 'A':\n",
    "                print('Found the word `{}`.'.format(word))\n",
    "                found = True\n",
    "                break\n",
    "    if found is False:  # use truthiness ;)\n",
    "        raise NoWordFoundException(\"Couldn't find a word that starts with `a`.\")\n",
    "\n",
    "\n",
    "words_with_a = ['Connie', 'is', 'a', 'bear']\n",
    "words_without_a = ['This', 'is', 'no', 'suitcase', 'curseword']\n",
    "\n",
    "for words in (words_with_a, words_without_a):\n",
    "    try:\n",
    "        find_word_that_starts_with_a_non_pythonic(words)\n",
    "    except NoWordFoundException:\n",
    "        print('The list of words {} contains no word that starts on an `a`.'.format(words))"
   ]
  },
  {
   "cell_type": "code",
   "execution_count": null,
   "id": "c098ea22",
   "metadata": {},
   "outputs": [],
   "source": [
    "# now the pythonic implementation\n",
    "\n",
    "class NoWordFoundException(Exception):\n",
    "    pass\n",
    "\n",
    "\n",
    "# there are several improvements w.r.t. to the above\n",
    "# 1. we use string formatting tools to find a string\n",
    "# that satisfies str[0] == 'a' (or 'A')\n",
    "# 2. we avoided one if clause\n",
    "# 3. we avoided introducing the found = False variable\n",
    "def find_word_that_starts_with_a_pythonic(list_of_words):\n",
    "    for word in list_of_words:\n",
    "        if word.lower().startswith('a'):\n",
    "            print('Found the word `{}`.'.format(word))\n",
    "            break\n",
    "    else:  # no break occured\n",
    "        raise NoWordFoundException(\"Couldn't find a word that starts with `a`.\")\n",
    "        \n",
    "        \n",
    "words_with_a = ['Connie', 'is', 'a', 'bear']\n",
    "words_without_a = ['This', 'is', 'no', 'suitcase', 'curseword']\n",
    "\n",
    "for words in (words_with_a, words_without_a):\n",
    "    try:\n",
    "        find_word_that_starts_with_a_pythonic(words)\n",
    "    except NoWordFoundException:\n",
    "        print('The list of words {} contains no word that starts on an `a`.'.format(words))"
   ]
  },
  {
   "cell_type": "markdown",
   "id": "b97300df",
   "metadata": {},
   "source": [
    "### \n",
    "### The `else` part of the `for-else` clause is only entered if the for loop\n",
    "### is completed (not terminated early)\n",
    "### **Ways to terminate early**: the use of `break` (break out of the loop) or `return`.\n",
    "### \n",
    "<hr style=\"border:1px solid blue\">\n",
    "\n",
    "### \n",
    "## <u>Exercise 5.4</u>:\n",
    "### Use the for-else construct to write a method `quasi_newton(func, x0, maxiter=10, h=1e-6, tol=1e-5)` that\n",
    "### uses a quasi-newton method with finite-difference size `eps > 0` to find a function's root and return it.\n",
    "### If `maxiter` is exceeded, we throw an error.\n",
    "### **FYI**: $\\quad x_{n+1} = x_n - \\tfrac{f(x_n)}{f^\\prime(x_n)}$, $\\quad$ with $\\quad f^\\prime(x_n) \\approx \\frac{f(x_n + \\varepsilon) - f(x_n)}{\\varepsilon}$."
   ]
  },
  {
   "cell_type": "code",
   "execution_count": null,
   "id": "e79872fb",
   "metadata": {},
   "outputs": [],
   "source": [
    "from typing import Callable\n",
    "from numbers import Number\n",
    "\n",
    "\n",
    "# throw this error if convergence is not reached\n",
    "class FailedToConvergeError(Exception):\n",
    "    pass\n",
    "\n",
    "\n",
    "def quasi_newton(func: Callable, x0: Number, maxiter: int = 10, eps: float = 1e-6, tol: float = 1e-5):\n",
    "    assert (eps := float(eps)) > 0\n",
    "    assert (tol := float(tol)) > 0\n",
    "    assert (maxiter := int(maxiter)) > 0\n",
    "    \n",
    "    # your code here\n",
    "    \n",
    "    \n",
    "maxiter = 20\n",
    "    \n",
    "# clearly, one root of   f(x) = 10x^3 -5x^2 + 6x   is x = 0\n",
    "func = lambda x: 10 * x**3 - 5 * x**2 + 6 * x\n",
    "\n",
    "for x0 in (5, 10000):\n",
    "    try:\n",
    "        print('Found the root: ', quasi_newton(func, x0, maxiter=maxiter))\n",
    "    except FailedToConvergeError:\n",
    "        print('The quasi-Newton method failed to converge after {} iterations.'.format(maxiter))\n",
    "    except Exception as ex:\n",
    "        raise Exception from ex"
   ]
  },
  {
   "cell_type": "markdown",
   "id": "499b8832",
   "metadata": {},
   "source": [
    "### solution:"
   ]
  },
  {
   "cell_type": "code",
   "execution_count": null,
   "id": "bae28e19",
   "metadata": {
    "jupyter": {
     "source_hidden": true
    }
   },
   "outputs": [],
   "source": [
    "from typing import Callable\n",
    "\n",
    "\n",
    "# throw this error if convergence is not reached\n",
    "class FailedToConvergeError(Exception):\n",
    "    pass\n",
    "\n",
    "\n",
    "def quasi_newton(func: Callable, x0, maxiter: int = 10, eps: float = 1e-6, tol: float = 1e-5):\n",
    "    assert (eps := float(eps)) > 0\n",
    "    assert (tol := float(tol)) > 0\n",
    "    assert (maxiter := int(maxiter)) > 0\n",
    "    \n",
    "    x, y = x0, func(x0)\n",
    "    \n",
    "    for _ in range(maxiter):\n",
    "        fprime = (func(x + eps) - y) / eps  # approximate derivative\n",
    "        x -= y / fprime\n",
    "        if abs(( y := func(x) )) < tol:  # define and use y := func(x) in the same line\n",
    "            return x\n",
    "    else:\n",
    "        raise FailedToConvergeError(f\"Failed to converge after {maxiter} iterations.\")\n",
    "    \n",
    "    \n",
    "maxiter = 20\n",
    "    \n",
    "# clearly, one root of   f(x) = 10x^3 -5x^2 + 6x   is x = 0\n",
    "func = lambda x: 10 * x**3 - 5 * x**2 + 6 * x\n",
    "\n",
    "# The first one should converge, the second one will not\n",
    "for x0 in (5, 10000):\n",
    "    try:\n",
    "        print('Found the root: ', quasi_newton(func, x0, maxiter=maxiter))\n",
    "    except FailedToConvergeError:\n",
    "        print('The quasi-Newton method failed to converge after {} iterations.'.format(maxiter))\n",
    "    except Exception as ex:\n",
    "        raise Exception from ex"
   ]
  },
  {
   "cell_type": "markdown",
   "id": "0b36b345",
   "metadata": {},
   "source": [
    "### \n",
    "<hr style=\"border:1px solid blue\">\n",
    "\n",
    "### \n",
    "### We have seen how the `itertools` module provides tools for substantially reducing the required number of lines of code.\n",
    "### Besides that, it also provides an infrastructure for writing code that is more scalable in the number of inputs.\n",
    "### \n",
    "### We will now discuss the `itertools.product` iterator which can make it laughably easy to make a \n",
    "### function scale to arbitrary dimensionality.\n",
    "\n",
    "### \n",
    "### <u>Task</u>:\n",
    "### Given a tuple of arbitrary length $N$ where each element is itself a tuple of arbitrary length\n",
    "### containing numbers. Write a function that yields all length $N$ combinations of elements from the tuples.\n",
    "### For instance: `(1, 2), (3, 4) -> (1, 3), (1, 4), (2, 3), (2, 4)`\n",
    "\n",
    "### If we knew the number $N$ in advance, we could approach this problem like so:"
   ]
  },
  {
   "cell_type": "code",
   "execution_count": null,
   "id": "a4b19ee1",
   "metadata": {},
   "outputs": [],
   "source": [
    "elements0 = ()\n",
    "elements1 = (1, 2),\n",
    "elements2 = (1, 2), (3, 4)\n",
    "elements3 = (1, 2, 3), (3, 4, 5), (7, 8)\n",
    "\n",
    "def generate_combinations0(*elements):\n",
    "    yield ()\n",
    "\n",
    "def generate_combinations1(*elements):\n",
    "    elems0, = elements\n",
    "    for elem in elems0:\n",
    "        yield (elem,)\n",
    "\n",
    "def generate_combinations2(*elements):\n",
    "    assert len(elements) == 2\n",
    "    for elem0 in elements[0]:\n",
    "        for elem1 in elements[1]:\n",
    "            yield (elem0, elem1)\n",
    "            \n",
    "def generate_combinations3(*elements):\n",
    "    assert len(elements) == 3\n",
    "    for elem0 in elements[0]:\n",
    "        for elem1 in elements[1]:\n",
    "            for elem2 in elements[2]:\n",
    "                yield (elem0, elem1, elem2)\n",
    "                \n",
    "# and so on ...\n",
    "\n",
    "# you can dereference iterators. They'll be consumed.\n",
    "print(*generate_combinations0(*elements0))\n",
    "print(*generate_combinations1(*elements1))\n",
    "print(*generate_combinations2(*elements2))\n",
    "print(*generate_combinations3(*elements3))"
   ]
  },
  {
   "cell_type": "markdown",
   "id": "33f3f9f9",
   "metadata": {},
   "source": [
    "### We can see how it would be kinda cumbersome to write a separate function for handling each number $N$ of input tuples.\n",
    "### Let us solve this using a (pythonic) C-style implementation that calls itself."
   ]
  },
  {
   "cell_type": "code",
   "execution_count": null,
   "id": "cd154a29",
   "metadata": {},
   "outputs": [],
   "source": [
    "elements0 = ()\n",
    "elements1 = (1, 2),\n",
    "elements2 = (1, 2), (3, 4)\n",
    "elements3 = (1, 2, 3), (3, 4, 5), (7, 8)\n",
    "\n",
    "# cumbersome but at least pythonic ;)\n",
    "# you don't need to understand this function (unless you're interested)\n",
    "def generate_combinations(*elements):\n",
    "    if len(elements) == 0:\n",
    "        yield ()\n",
    "        return\n",
    "    head, *tail = elements\n",
    "    for elem0 in head:\n",
    "        for rest in generate_combinations(*tail):\n",
    "            yield (elem0,) + rest\n",
    "\n",
    "\n",
    "print(*generate_combinations(*elements0))\n",
    "print(*generate_combinations(*elements1))\n",
    "print(*generate_combinations(*elements2))\n",
    "print(*generate_combinations(*elements3))"
   ]
  },
  {
   "cell_type": "markdown",
   "id": "b7931258",
   "metadata": {},
   "source": [
    "### This one is indeed capable of handling all input lengths. However, is it very readable ?\n",
    "### Maybe this example is still manageable but as soon as you go to more complex stuff, you'll easily lose track.\n",
    "### \n",
    "### Instead, we may generate all combinations using `itertools.product(*elements)`:"
   ]
  },
  {
   "cell_type": "code",
   "execution_count": null,
   "id": "e1dea72a",
   "metadata": {},
   "outputs": [],
   "source": [
    "from itertools import product\n",
    "\n",
    "elements0 = ()\n",
    "elements1 = (1, 2),\n",
    "elements2 = (1, 2), (3, 4)\n",
    "elements3 = (1, 2, 3), (3, 4, 5), (7, 8)\n",
    "\n",
    "# we can simply replace generate_combinations -> product\n",
    "\n",
    "print(*product(elements0))\n",
    "print(*product(elements1))\n",
    "print(*product(elements2))\n",
    "print(*product(elements3))"
   ]
  },
  {
   "cell_type": "markdown",
   "id": "7b592a97",
   "metadata": {},
   "source": [
    "### Laughably easy ;-)\n",
    "### `itertools.product` generates the elements in the order they would be generated by the use\n",
    "### of nested for loops.\n",
    "### \n",
    "<hr style=\"border:1px solid blue\">\n",
    "\n",
    "\n",
    "### \n",
    "## <u>Exercise 5.5</u>:\n",
    "### You are given $N$ lists containing strings. Each string in the list represents a basis function (in mathematical typesetting).\n",
    "### Create a list containing the basis functions resulting from a tensor product of all basis functions.\n",
    "### Note that if you have `str0` and `str1`, the product is `'{} * {}'.format(str0, str1)` (don't forget the ` * `)."
   ]
  },
  {
   "cell_type": "code",
   "execution_count": null,
   "id": "914121dc",
   "metadata": {},
   "outputs": [],
   "source": [
    "import numpy as np\n",
    "\n",
    "\n",
    "# First 5 complex Fourier basis functions over x0 = [0, 2]\n",
    "fourier_basis0 = ['exp({} * pi * 1j * x0)'.format(n) if n else '1' for n in range(5)]\n",
    "\n",
    "# First 3 canonical polynomial basis functions over x1\n",
    "pol_basis1 = ['x1**{}'.format(n) if n else '1' for n in range(3)]\n",
    "\n",
    "# gaussian basis functions exp(-(x - a)^2) for various a over x2\n",
    "gauss_basis2 = ['exp(-(x2 - {:.5g})**2)'.format(a) for a in np.linspace(0, 1, 3) ]\n",
    "\n",
    "univariate_bases = [fourier_basis0, pol_basis1, gauss_basis2]\n",
    "for i, basis in enumerate(univariate_bases):\n",
    "    print(\"univariate basis number {}: \\n\\n{}\\n\\n\".format(i, '\\n \\n'.join(basis)))"
   ]
  },
  {
   "cell_type": "code",
   "execution_count": null,
   "id": "a76fc67e",
   "metadata": {},
   "outputs": [],
   "source": [
    "# YOUR ONE LINER HERE\n",
    "# trivariate_basis = ???\n",
    "\n",
    "print('Trivariate basis function \\n')\n",
    "for i, func in enumerate(trivariate_basis):\n",
    "    print(f'v{i}: {func}', '\\n')"
   ]
  },
  {
   "cell_type": "markdown",
   "id": "1493813a",
   "metadata": {},
   "source": [
    "### solution:"
   ]
  },
  {
   "cell_type": "code",
   "execution_count": null,
   "id": "3786c262",
   "metadata": {
    "jupyter": {
     "source_hidden": true
    }
   },
   "outputs": [],
   "source": [
    "from itertools import product\n",
    "\n",
    "trivariate_basis = list(map(' * '.join, product(*univariate_bases)))\n",
    "\n",
    "print('Trivariate basis function \\n')\n",
    "for i, func in enumerate(trivariate_basis):\n",
    "    print(f'v{i}: {func}', '\\n')"
   ]
  },
  {
   "cell_type": "markdown",
   "id": "7a26755e",
   "metadata": {},
   "source": [
    "### This is actually useful in the symbolic math library `sympy`:"
   ]
  },
  {
   "cell_type": "code",
   "execution_count": null,
   "id": "f9510d15",
   "metadata": {},
   "outputs": [],
   "source": [
    "from sympy import lambdify, symbols\n",
    "x0, x1, x2 = symbols('x0 x1 x2')\n",
    "func = trivariate_basis[35]\n",
    "\n",
    "# convert string to an actual function\n",
    "f = lambdify([x0, x1, x2], func)\n",
    "\n",
    "# we can actually evaluate that function.\n",
    "print('v35 in (x0, x1, x2) = (1/7, .5, 0): ', f(1/7, .5, 0))"
   ]
  },
  {
   "cell_type": "markdown",
   "id": "acf43923",
   "metadata": {},
   "source": [
    "### \n",
    "<hr style=\"border:1px solid blue\">\n",
    "\n",
    "### \n",
    "### <u>One last thing</u>:\n",
    "### Suppose you have a function of the form `f(*args)` and you would like to pass\n",
    "### dereferenced lists of varying length to `f` in a for loop using the `map(...)` function."
   ]
  },
  {
   "cell_type": "code",
   "execution_count": null,
   "id": "ed4f113c",
   "metadata": {},
   "outputs": [],
   "source": [
    "# example\n",
    "\n",
    "def square(*args):\n",
    "    return [i**2 for i in args]\n",
    "\n",
    "inputs = [1, 2], [1, 2, 3], [0], [7, 8, 9, 10]\n",
    "\n",
    "for squares in map(lambda x: square(*x), inputs):\n",
    "    print(squares)"
   ]
  },
  {
   "cell_type": "markdown",
   "id": "d5e93fb1",
   "metadata": {},
   "source": [
    "### We can use the `itertools.starmap` function which dereferences automatically:"
   ]
  },
  {
   "cell_type": "code",
   "execution_count": null,
   "id": "2cf22f89",
   "metadata": {},
   "outputs": [],
   "source": [
    "from itertools import starmap\n",
    "\n",
    "for squares in starmap(square, inputs):\n",
    "    print(squares)"
   ]
  },
  {
   "cell_type": "markdown",
   "id": "4a11f954",
   "metadata": {},
   "source": [
    "### \n",
    "<hr style=\"border:1px solid blue\">\n",
    "\n",
    "### \n",
    "\n",
    "# <u>Lesson 6</u>: The use of `functools` and decorators\n",
    "\n",
    "\n",
    "### In this lession, we learn how to modify the behavior of functions without using too much boilerplate.\n",
    "### \n",
    "### We have seen how we can write functions that accept lists, tuples maybe even np.ndarrays and\n",
    "### handle them all equally well. This is called **type agnosticism**, i.e., one function with the same name\n",
    "### that handles all kinds of different input types (returning differing output types from that function is considered bad design though).\n",
    "### It can be very useful.\n",
    "### \n",
    "### A good example is the `add_polynomials` function."
   ]
  },
  {
   "cell_type": "code",
   "execution_count": null,
   "id": "82034e1a",
   "metadata": {},
   "outputs": [],
   "source": [
    "from itertools import zip_longest\n",
    "import numpy as np\n",
    "\n",
    "\n",
    "# It doesn't matter what type a polynomial\n",
    "# has as long as we can iterate over it.\n",
    "def add_polynomials(*polynomials):\n",
    "    return tuple(map(sum, zip_longest(*polynomials, fillvalue=0)))\n",
    "\n",
    "\n",
    "# np.array, list, tuple are all fine\n",
    "pol0 = np.array([1.0, 2.0, 4.0, -1.0])\n",
    "pol1 = [1, 2, 3]\n",
    "pol2 = (0, 0, 0, 0, 0, 1)\n",
    "\n",
    "print(add_polynomials(pol0, pol1, pol2))"
   ]
  },
  {
   "cell_type": "markdown",
   "id": "7dd3bb41",
   "metadata": {},
   "source": [
    "### \n",
    "### In more general cases, it may be useful to handle only one type of input inside of the function.\n",
    "### Type agnosticism is then easily achieved by converting the inputs to the desired type.\n",
    "### If an input can't be converted, too bad, we get a runtime error early on. But that's **desired behaviour**.\n",
    "### \n",
    "<hr style=\"border:1px solid blue\">\n",
    "\n",
    "### \n",
    "### For reasons that will become apparent shortly, in many cases it is desirable to convert the input(s)\n",
    "### of a function to tuples **before** they are passed to the function."
   ]
  },
  {
   "cell_type": "code",
   "execution_count": null,
   "id": "f05dc60c",
   "metadata": {},
   "outputs": [],
   "source": [
    "from more_itertools import convolve  # multiplying two polynomials is the same as convolving their weights\n",
    "import numpy as np\n",
    "\n",
    "\n",
    "def convert_to_tuples(*polynomials):\n",
    "    \"([1, 2, 3], (2, 3, 4)) -> ((1, 2, 3), (2, 3, 4))\"\n",
    "    return tuple(map(tuple, polynomials))\n",
    "\n",
    "\n",
    "def multiply_polynomials(*polynomials):\n",
    "    ### special cases first\n",
    "    if not polynomials:\n",
    "        return ()\n",
    "    if len(polynomials) == 1:\n",
    "        return polynomials[0]\n",
    "    ###\n",
    "    if len(polynomials) == 2:\n",
    "        return tuple(convolve(*polynomials))\n",
    "    return multiply_polynomials(multiply_polynomials(*polynomials[:2]), *polynomials[2:])\n",
    "\n",
    "\n",
    "pol0 = np.array([1.0, 2.0, 4.0, -1.0])\n",
    "pol1 = [1, 2, 3]\n",
    "pol2 = (0, 0, 0, 0, 0, 1)\n",
    "\n",
    "\n",
    "# we have to convert first (annyoing)\n",
    "polynomials = convert_to_tuples(pol0, pol1, pol2)\n",
    "print(\"The product of all polynomials is given by: \\n\", multiply_polynomials(*polynomials))"
   ]
  },
  {
   "cell_type": "markdown",
   "id": "2c4b0ff4",
   "metadata": {},
   "source": [
    "### \n",
    "<hr style=\"border:1px solid blue\">\n",
    "\n",
    "### \n",
    "### The `multiply_polynomials` function can be significantly simplified using the `functools.reduce` function:\n",
    "### `reduce(lambda x, y: x + y, [1, 2, 3, 4, 5])` $\\implies$ `((((1 + 2) + 3) + 4) + 5)`\n",
    "### "
   ]
  },
  {
   "cell_type": "code",
   "execution_count": 1,
   "id": "2167fecd",
   "metadata": {},
   "outputs": [
    {
     "name": "stdout",
     "output_type": "stream",
     "text": [
      "The product of all polynomials is given by: \n",
      " (0.0, 0.0, 0.0, 0.0, 0.0, 1.0, 4.0, 11.0, 13.0, 10.0, -3.0)\n"
     ]
    }
   ],
   "source": [
    "from more_itertools import convolve  # multiplying two polynomials is the same as convolving their weights\n",
    "from functools import reduce\n",
    "import numpy as np\n",
    "\n",
    "\n",
    "def convert_to_tuples(*polynomials):\n",
    "    \"([1, 2, 3], (2, 3, 4)) -> ((1, 2, 3), (2, 3, 4))\"\n",
    "    return tuple(map(tuple, polynomials))\n",
    "\n",
    "\n",
    "def _multiply_pols(pol0, pol1):\n",
    "    return tuple(convolve(pol0, pol1))\n",
    "\n",
    "\n",
    "def multiply_polynomials(*polynomials):\n",
    "    if not polynomials:\n",
    "        return ()\n",
    "    return reduce(_multiply_pols, polynomials)  # apply `_multiply_pols` recursively to entire tuple\n",
    "\n",
    "\n",
    "\n",
    "pol0 = np.array([1.0, 2.0, 4.0, -1.0])\n",
    "pol1 = [1, 2, 3]\n",
    "pol2 = (0, 0, 0, 0, 0, 1)\n",
    "\n",
    "\n",
    "# we have to convert first (annyoing)\n",
    "polynomials = convert_to_tuples(pol0, pol1, pol2)\n",
    "print(\"The product of all polynomials is given by: \\n\", multiply_polynomials(*polynomials))"
   ]
  },
  {
   "cell_type": "markdown",
   "id": "92a644f0",
   "metadata": {},
   "source": [
    "### \n",
    "<hr style=\"border:1px solid blue\">\n",
    "\n",
    "### \n",
    "\n",
    "### That's better !\n",
    "### However, it's annoying to always have to pass the tuple conversion into the function.\n",
    "### Can we do it smarter ?\n",
    "### Maybe like this ?"
   ]
  },
  {
   "cell_type": "code",
   "execution_count": null,
   "id": "08bdd672",
   "metadata": {},
   "outputs": [],
   "source": [
    "from more_itertools import convolve\n",
    "from functools import reduce\n",
    "import numpy as np\n",
    "\n",
    "\n",
    "def convert_to_tuples(*polynomials):\n",
    "    return tuple(map(tuple, polynomials))\n",
    "\n",
    "\n",
    "def convert_to_tuples(*polynomials):\n",
    "    \"([1, 2, 3], (2, 3, 4)) -> ((1, 2, 3), (2, 3, 4))\"\n",
    "    return tuple(map(tuple, polynomials))\n",
    "\n",
    "\n",
    "def _multiply_pols(pol0, pol1):\n",
    "    return tuple(convolve(pol0, pol1))\n",
    "\n",
    "\n",
    "def _multiply_polynomials(*polynomials):\n",
    "    if not polynomials:\n",
    "        return ()\n",
    "    return reduce(_multiply_pols, polynomials)\n",
    "\n",
    "\n",
    "multiply_polynomials = lambda *polynomials: _multiply_polynomials(*convert_to_tuples(*polynomials))\n",
    "\n",
    "\n",
    "pol0 = np.array([1.0, 2.0, 4.0, -1.0])\n",
    "pol1 = [1, 2, 3]\n",
    "pol2 = (0, 0, 0, 0, 0, 1)\n",
    "\n",
    "# we do no longer have to take the composition\n",
    "print(\"The product of all polynomials is given by: \\n\", multiply_polynomials(pol0, pol1, pol2))"
   ]
  },
  {
   "cell_type": "markdown",
   "id": "1c189ca3",
   "metadata": {},
   "source": [
    "### Now we have have created a function that automatically converts the input to tuples\n",
    "### which is then forwarded to the actual function which then does the work.\n",
    "### It's better but I still see a lot of boilerplate.\n",
    "### \n",
    "<hr style=\"border:1px solid blue\">\n",
    "\n",
    "### \n",
    "### Let's try something else. How about we define a **function that takes a function**\n",
    "### and returns a **new function** ?\n",
    "### Check this out:"
   ]
  },
  {
   "cell_type": "code",
   "execution_count": null,
   "id": "0fc3913b",
   "metadata": {},
   "outputs": [],
   "source": [
    "from more_itertools import convolve\n",
    "from functools import reduce\n",
    "import numpy as np\n",
    "from typing import Callable\n",
    "\n",
    "\n",
    "# function that takes a function and returns a new function\n",
    "def convert_input_to_tuples(f: Callable) -> Callable:\n",
    "    def converted_function(*polynomials):\n",
    "        return f(*map(tuple, polynomials))  # convert into tuple and drop into `f`\n",
    "    return converted_function\n",
    "\n",
    "\n",
    "def _multiply_pols(pol0, pol1):\n",
    "    return tuple(convolve(pol0, pol1))\n",
    "\n",
    "\n",
    "def multiply_polynomials(*polynomials):\n",
    "    if not polynomials:\n",
    "        return ()\n",
    "    return reduce(_multiply_pols, polynomials)\n",
    "\n",
    "\n",
    "multiply_polynomials = convert_input_to_tuples(multiply_polynomials)\n",
    "\n",
    "\n",
    "pol0 = np.array([1.0, 2.0, 4.0, -1.0])\n",
    "pol1 = [1, 2, 3]\n",
    "pol2 = (0, 0, 0, 0, 0, 1)\n",
    "\n",
    "# we do no longer have to take the composition\n",
    "print(\"The product of all polynomials is given by: \\n\", multiply_polynomials(pol0, pol1, pol2))"
   ]
  },
  {
   "cell_type": "markdown",
   "id": "b3872483",
   "metadata": {},
   "source": [
    "### \n",
    "### The line `multiply_polynomials = convert_input_to_tuples(multiply_polynomials)`\n",
    "### is equivalent to the following **decorator**:\n",
    "### "
   ]
  },
  {
   "cell_type": "code",
   "execution_count": 2,
   "id": "545c11ff",
   "metadata": {},
   "outputs": [
    {
     "name": "stdout",
     "output_type": "stream",
     "text": [
      "The product of all polynomials is given by: \n",
      " (0.0, 0.0, 0.0, 0.0, 0.0, 1.0, 4.0, 11.0, 13.0, 10.0, -3.0)\n"
     ]
    }
   ],
   "source": [
    "from more_itertools import convolve\n",
    "from functools import reduce\n",
    "import numpy as np\n",
    "from time import sleep\n",
    "from typing import Callable\n",
    "\n",
    "\n",
    "def convert_input_to_tuples(f: Callable) -> Callable:\n",
    "    def converted_function(*polynomials):\n",
    "        return f(*map(tuple, polynomials))\n",
    "    return converted_function\n",
    "\n",
    "\n",
    "### This is what I call clean code\n",
    "\n",
    "\n",
    "def _multiply_pols(pol0, pol1):\n",
    "    return tuple(convolve(pol0, pol1))\n",
    "\n",
    "\n",
    "@convert_input_to_tuples\n",
    "def multiply_polynomials(*polynomials):\n",
    "    # bool(polynomials) False => return polynomials = ()\n",
    "    return polynomials and reduce(_multiply_pols, polynomials)\n",
    "\n",
    "\n",
    "@convert_input_to_tuples\n",
    "def other_heavy_computation(*polynomials):\n",
    "    pass\n",
    "\n",
    "\n",
    "@convert_input_to_tuples\n",
    "def yet_another_heavy_computation(*polynomials):\n",
    "    pass\n",
    "\n",
    "\n",
    "pol0 = np.array([1.0, 2.0, 4.0, -1.0])\n",
    "pol1 = [1, 2, 3]\n",
    "pol2 = (0, 0, 0, 0, 0, 1)\n",
    "\n",
    "\n",
    "print(\"The product of all polynomials is given by: \\n\", multiply_polynomials(pol0, pol1, pol2))"
   ]
  },
  {
   "cell_type": "markdown",
   "id": "216e19b6",
   "metadata": {},
   "source": [
    "### \n",
    "<hr style=\"border:1px solid blue\">\n",
    "\n",
    "### \n",
    "\n",
    "## <u>Exercise 6.1</u>:\n",
    "### Extend the above to not only convert the polynomials to tuples but also sort the tuples\n",
    "### to make the function agnostic to the order in which arguments are passed.\n",
    "### This will come in handy very soon.\n",
    "### \n",
    "### Do not write one decorator but two separate ones.\n",
    "### \n",
    "### The `sorted` function can sort a list / tuple of tuples containing numbers\n",
    "### `sorted( [(1, 2, 3), (0, 1, 2)] ) = [(0, 1, 2), (1, 2, 3)]`"
   ]
  },
  {
   "cell_type": "code",
   "execution_count": null,
   "id": "b8ac9d93",
   "metadata": {},
   "outputs": [],
   "source": [
    "from more_itertools import convolve\n",
    "from functools import reduce\n",
    "import numpy as np\n",
    "from time import sleep\n",
    "from typing import Callable\n",
    "\n",
    "\n",
    "# function that takes a function and returns a new function\n",
    "def convert_input_to_tuples(f: Callable) -> Callable:\n",
    "    def wrapper(*polynomials):\n",
    "        return f(*map(tuple, polynomials))\n",
    "    return wrapper\n",
    "\n",
    "\n",
    "# your code here\n",
    "def sort_input(f: Callable) -> Callable:\n",
    "    # your code here\n",
    "    pass\n",
    "\n",
    "\n",
    "def _multiply_pols(pol0, pol1):\n",
    "    return tuple(convolve(pol0, pol1))\n",
    "\n",
    "\n",
    "# which decorators to add ?\n",
    "def multiply_polynomials(*polynomials):\n",
    "    if not polynomials:\n",
    "        return ()\n",
    "    return reduce(_multiply_pols, polynomials)\n",
    "\n",
    "\n",
    "pol0 = np.array([1.0, 2.0, 4.0, -1.0])\n",
    "pol1 = [1, 2, 3]\n",
    "pol2 = (0, 0, 0, 0, 0, 1)\n",
    "\n",
    "\n",
    "print(\"The product of all polynomials is given by: \\n\", multiply_polynomials(pol0, pol1, pol2))"
   ]
  },
  {
   "cell_type": "markdown",
   "id": "a532ab32",
   "metadata": {},
   "source": [
    "### solution:"
   ]
  },
  {
   "cell_type": "code",
   "execution_count": null,
   "id": "b3f88498",
   "metadata": {
    "jupyter": {
     "source_hidden": true
    }
   },
   "outputs": [],
   "source": [
    "from more_itertools import convolve\n",
    "from functools import reduce\n",
    "import numpy as np\n",
    "from time import sleep\n",
    "from typing import Callable\n",
    "from functools import wraps\n",
    "\n",
    "\n",
    "def convert_input_to_tuples(f: Callable) -> Callable:\n",
    "    \n",
    "    @wraps(f)  # wrapper will retain f's docstring etc\n",
    "    def wrapper(*polynomials):\n",
    "        return f(*map(tuple, polynomials))\n",
    "    \n",
    "    return wrapper\n",
    "\n",
    "\n",
    "def sort_input(f: Callable) -> Callable:\n",
    "    \n",
    "    @wraps(f)\n",
    "    def wrapper(*polynomials):\n",
    "        return f(*sorted(polynomials))\n",
    "    \n",
    "    return wrapper\n",
    "\n",
    "\n",
    "def _multiply_pols(pol0, pol1):\n",
    "    return tuple(convolve(pol0, pol1))\n",
    "\n",
    "\n",
    "@convert_input_to_tuples  # first convert to tuples\n",
    "@sort_input  # then sort those tuples and forward to function\n",
    "def multiply_polynomials(*polynomials):\n",
    "    if not polynomials:\n",
    "        return ()\n",
    "    return reduce(_multiply_pols, polynomials)\n",
    "\n",
    "\n",
    "pol0 = np.array([1.0, 2.0, 4.0, -1.0])\n",
    "pol1 = [1, 2, 3]\n",
    "pol2 = (0, 0, 0, 0, 0, 1)\n",
    "\n",
    "\n",
    "print(\"The product of all polynomials is given by: \\n\", multiply_polynomials(pol0, pol1, pol2))"
   ]
  },
  {
   "cell_type": "markdown",
   "id": "0cdb1c34",
   "metadata": {},
   "source": [
    "### \n",
    "<hr style=\"border:1px solid blue\">\n",
    "\n",
    "### \n",
    "### A popular application of decorators is function caching.\n",
    "### Suppose you have a function that performs a heavy computation.\n",
    "### It is possible that the same computation has to be performed more than once.\n",
    "### It would be nice if the function \"remembered\" the output given its inputs.\n",
    "### \n",
    "### <u>Task</u>: Write a decorator that does exactly that."
   ]
  },
  {
   "cell_type": "code",
   "execution_count": null,
   "id": "677a54df",
   "metadata": {},
   "outputs": [],
   "source": [
    "from more_itertools import convolve\n",
    "from functools import reduce, wraps\n",
    "from typing import Callable\n",
    "from time import sleep\n",
    "import numpy as np\n",
    "\n",
    "\n",
    "def convert_input_to_tuples(f: Callable) -> Callable:\n",
    "\n",
    "    @wraps(f)  # make sure the new function has the same name, docstring, ... as `f`\n",
    "    def wrapper(*polynomials):\n",
    "        return f(*map(tuple, polynomials))\n",
    "\n",
    "    return wrapper\n",
    "\n",
    "\n",
    "def sort_input(f: Callable) -> Callable:\n",
    "\n",
    "    @wraps(f)\n",
    "    def wrapper(*polynomials):\n",
    "        return f(*sorted(polynomials))\n",
    "\n",
    "    return wrapper\n",
    "\n",
    "\n",
    "# Functions are first class citizens in python.\n",
    "# we can edit them by adding attributes etc just like other objects.\n",
    "def cache_input(f: Callable) -> Callable:\n",
    "    f._cache = {}  # add an empty dictionary to the function\n",
    "\n",
    "    @wraps(f)\n",
    "    def wrapper(*polynomials):\n",
    "        # try to return existing entry from `_cache` and if missing,\n",
    "        # add the entry using dict.setdefault and return it.\n",
    "        try:\n",
    "            return f._cache[polynomials]\n",
    "        except KeyError:\n",
    "            return f._cache.setdefault(polynomials, f(*polynomials))\n",
    "\n",
    "    return wrapper\n",
    "\n",
    "\n",
    "def _multiply_pols(pol0, pol1):\n",
    "    return tuple(convolve(pol0, pol1))\n",
    "\n",
    "\n",
    "@convert_input_to_tuples  # convert input to tuples so we can use input as keys in a dict\n",
    "@sort_input  # sort input for commutative operations\n",
    "@cache_input  # remember outputs for inputs that have been seen before.\n",
    "def multiply_polynomials(*polynomials):\n",
    "    sleep(3)  # fake a heavy computation by freezing everything for 3 seconds\n",
    "    if not polynomials:\n",
    "        return ()\n",
    "    return reduce(_multiply_pols, polynomials)\n",
    "\n",
    "\n",
    "pol0 = [1, 2, 3]\n",
    "pol1 = (0, 0, 0, 0, 0, 1)\n",
    "pol2 = np.array([1.0, 2.0, 4.0, -1.0])\n",
    "\n",
    "# we have to take the function composition\n",
    "print(\"The product of all polynomials is given by: \\n\", multiply_polynomials(pol0, pol1, pol2))"
   ]
  },
  {
   "cell_type": "markdown",
   "id": "ed5a5d75",
   "metadata": {},
   "source": [
    "### This took a few seconds to compute.\n",
    "### To prove to you that the function remembers its input, we call it again.\n",
    "### The output should be immediate.\n",
    "### Since we are sorting the input, the order in which we pass the polynomials should not matter."
   ]
  },
  {
   "cell_type": "code",
   "execution_count": null,
   "id": "c30ea7ef",
   "metadata": {},
   "outputs": [],
   "source": [
    "# call the function again but with pol1, pol2, pol0 rather than pol0, pol1, pol2\n",
    "print( multiply_polynomials(pol1, pol2, pol0) )"
   ]
  },
  {
   "cell_type": "markdown",
   "id": "2531f3e2",
   "metadata": {},
   "source": [
    "### \n",
    "<hr style=\"border:1px solid blue\">\n",
    "\n",
    "### \n",
    "\n",
    "### The `cache_input` decorator we wrote is a simplistic representation of\n",
    "### the `functools.lru_cache` decorator.\n",
    "### The `functools.lru_cache` decorator optionally takes a `maxsize` keyword argument\n",
    "### which specifies the number of input / output pairs to memoize.\n",
    "### As in our self-written decorator, the input arguments need to be **hashable**.\n",
    "### Example:"
   ]
  },
  {
   "cell_type": "code",
   "execution_count": null,
   "id": "ec205d11",
   "metadata": {},
   "outputs": [],
   "source": [
    "from functools import lru_cache\n",
    "\n",
    "# Compute the n-th term in the Fibonacci sequence\n",
    "# without and with caching. To see how often the function\n",
    "# is called with a specific input, use a print statement.\n",
    "\n",
    "def fibonacci(n):\n",
    "    \"\"\"\n",
    "        Compute the n-th term in the Fibonacci sequence.\n",
    "        Starting on (n0, n1) = (1, 1), n_{i+1} = n_{i} + n_{i-1}.\n",
    "    \"\"\"\n",
    "    print('Computing the fibonacci term with n={}'.format(n))\n",
    "    assert n >= 0\n",
    "    if n < 2:\n",
    "        return n\n",
    "    return fibonacci(n-2) + fibonacci(n-1)\n",
    "\n",
    "\n",
    "@lru_cache(maxsize=2)\n",
    "def fibonacci_cached(n):\n",
    "    \"\"\"\n",
    "        Compute the n-th term in the Fibonacci sequence.\n",
    "        Starting on (n0, n1) = (1, 1), n_{i+1} = n_{i} + n_{i-1}.\n",
    "        Cache the input / output pairs.\n",
    "    \"\"\"\n",
    "    print('Computing the fibonacci term with n={}'.format(n))\n",
    "    assert n >= 0\n",
    "    if n < 2:\n",
    "        return n\n",
    "    return fibonacci_cached(n-2) + fibonacci_cached(n-1)\n",
    "\n",
    "\n",
    "print('Computing the eigth term in the Fibonacci sequence without caching. \\n')\n",
    "print('Eight Fibonacci term:', fibonacci(8))\n",
    "print('\\n')\n",
    "\n",
    "print('Computing the eigth term in the Fibonacci sequence with caching. \\n')\n",
    "print('Eight Fibonacci term:', fibonacci_cached(8))"
   ]
  },
  {
   "cell_type": "code",
   "execution_count": null,
   "id": "dcccca55",
   "metadata": {},
   "outputs": [],
   "source": []
  }
 ],
 "metadata": {
  "kernelspec": {
   "display_name": "Python 3 (ipykernel)",
   "language": "python",
   "name": "python3"
  },
  "language_info": {
   "codemirror_mode": {
    "name": "ipython",
    "version": 3
   },
   "file_extension": ".py",
   "mimetype": "text/x-python",
   "name": "python",
   "nbconvert_exporter": "python",
   "pygments_lexer": "ipython3",
   "version": "3.12.2"
  }
 },
 "nbformat": 4,
 "nbformat_minor": 5
}
