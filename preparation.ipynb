{
 "cells": [
  {
   "cell_type": "markdown",
   "id": "6393bb7e-6692-499c-b3de-83dc2bd8a598",
   "metadata": {},
   "source": [
    "# **<u>Part 0</u>:** Python Bootcamp: Get Ready for Advanced Concepts"
   ]
  },
  {
   "cell_type": "markdown",
   "id": "2bcb06f4-dc89-4101-8af6-2bb86384cebf",
   "metadata": {},
   "source": [
    "### Before diving into the depths of advanced Python, it’s essential to ensure that everyone is on solid ground.\n",
    "### This lecture serves as a quick refresher, revisiting key Python concepts that will be fundamental throughout the course.\n",
    "### \n",
    "### While Python is known for its simplicity, truly \"Pythonic\" code often relies on deeper language\n",
    "### features—some of which you may use instinctively, and others that might still be unfamiliar.\n",
    "### The goal of this session is to bridge any gaps and reinforce best practices, \n",
    "### so you can fully engage with the more advanced topics ahead.\n",
    "### \n",
    "### This preparatory lecture will cover the following topics:\n",
    "### \n",
    "### 1. Data Structures & Manipulation I: Sequential Container Types.\n",
    "### 2. Data Structures & Manipulation II: Hash-based Container types.\n",
    "### 3. (List, tuple, ...) Comprehensions.\n",
    "### 4. Iteration using `enumerate` and `zip`.\n",
    "### 5. Generators and Generator Expressions.\n",
    "### 6. Numpy Concepts.\n",
    "### \n",
    "### As always, we start the lecture with an inspirational quote:\n",
    "### _\"There’s a better way to do it—find it!\"_\n",
    "### $\\quad$ - Raymond Hettinger (former Python core developer)\n",
    "### \n",
    "\n",
    "<hr style=\"border:1px solid blue\">\n",
    "\n",
    "### \n",
    "### <u>A few words about this lecture</u>:\n",
    "### This lecture will start off slowly and you may get bored, thinking you already know\n",
    "### all this stuff. However, bare with me. It is quite likely that you will discover\n",
    "### some details that you didn't quite know about yet.\n",
    "### \n",
    "<hr style=\"border:1px solid blue\">"
   ]
  },
  {
   "cell_type": "markdown",
   "id": "be044245-75f2-4de3-814c-7db707223aea",
   "metadata": {},
   "source": [
    "### \n",
    "# <u>Lesson 1</u>: Data Structures & Manipulation I: Sequential Container Types\n",
    "### \n",
    "### The first primitive (i.e. built-in) data structures that people who are new to `Python`\n",
    "### typically learn about are the `Sequence` types, in particular:\n",
    "### `list`, `tuple` and `range`.\n",
    "### \n",
    "### A `list` is a `mutable` container type that can hold references to any other object.\n",
    "### When containing several object references, their types need not be the same.\n",
    "### As such, `list` (and `tuple`) is a `heterogeneous` container type.\n",
    "### \n",
    "### A `list` can be conveniently created using square brackets:"
   ]
  },
  {
   "cell_type": "code",
   "execution_count": null,
   "id": "fa178450-c7f1-4741-b8e6-e9ddf07a8f13",
   "metadata": {},
   "outputs": [],
   "source": [
    "# heterogeneous: int, str, float\n",
    "lst = [1, 'a', 3.14]\n",
    "\n",
    "print(f\"The list `lst` is made up of the following contents: {lst}.\")"
   ]
  },
  {
   "cell_type": "markdown",
   "id": "02108ead-d38a-4014-8680-5588d147b468",
   "metadata": {},
   "source": [
    "### \n",
    "\n",
    "<hr style=\"border:1px solid blue\">\n",
    "\n",
    "### \n",
    "### In the above example, we used a so-called `f-string` (formatted string)\n",
    "### to print the contents of `lst`. This type of string was introduced in\n",
    "### `Python 3.6` and is a more convenient way of formatting strings with\n",
    "### variables than using the `str.format` function. Here an example:"
   ]
  },
  {
   "cell_type": "code",
   "execution_count": null,
   "id": "ee7bf159-3f49-4def-b006-793871cebe63",
   "metadata": {},
   "outputs": [],
   "source": [
    "print(\"I am printing `{}` using the `str.format` statement.\".format(5))"
   ]
  },
  {
   "cell_type": "code",
   "execution_count": null,
   "id": "a3de7951-0051-4517-ad45-b399298101a4",
   "metadata": {},
   "outputs": [],
   "source": [
    "print(f\"Now I am simply using a `f-string` to print `{5}`.\")"
   ]
  },
  {
   "cell_type": "markdown",
   "id": "ae4dc396-f967-465e-aab6-19e735cda091",
   "metadata": {},
   "source": [
    "### \n",
    "\n",
    "<hr style=\"border:1px solid blue\">\n",
    "\n",
    "### \n",
    "### To prove that `list`'s (and other container types) take **references** to objects\n",
    "### without copying them, here a little demonstration:"
   ]
  },
  {
   "cell_type": "code",
   "execution_count": null,
   "id": "4d9da706-16e8-4b0f-9178-66b5ab24d779",
   "metadata": {},
   "outputs": [],
   "source": [
    "# Create a custom class, with custom input.\n",
    "class MyObject:\n",
    "    def __init__(self, a: int):\n",
    "        self.a = int(a)\n",
    "\n",
    "\n",
    "# create an instantiation of the custom class\n",
    "a = MyObject(5)"
   ]
  },
  {
   "cell_type": "markdown",
   "id": "6aebe8c5-8449-4cb9-97af-f6d09d37b8a2",
   "metadata": {},
   "source": [
    "### We make two containers containing the newly-created object:"
   ]
  },
  {
   "cell_type": "code",
   "execution_count": null,
   "id": "074c0626-0cc0-4655-89b5-2e2c07af0566",
   "metadata": {},
   "outputs": [],
   "source": [
    "lst0 = [a]\n",
    "lst1 = [a]"
   ]
  },
  {
   "cell_type": "markdown",
   "id": "6368f8f5-f15b-4313-ac4f-12563159716f",
   "metadata": {},
   "source": [
    "### Are they the same object ?"
   ]
  },
  {
   "cell_type": "code",
   "execution_count": null,
   "id": "d2e355ab-1b75-406b-8fb5-d0e070cd349a",
   "metadata": {},
   "outputs": [],
   "source": [
    "print(f\"`lst0[0] is lst1[0]` ?: {lst0[0] is lst1[0]}. \\n\")"
   ]
  },
  {
   "cell_type": "markdown",
   "id": "410bd267-4e56-47b4-a4e2-7dd0127c7d40",
   "metadata": {},
   "source": [
    "### \n",
    "### Nothing is being copied, hence creating several container-types with references\n",
    "### to (the same) object(s) is not a crime.\n",
    "### \n",
    "\n",
    "<hr style=\"border:1px solid blue\">\n",
    "\n",
    "### \n",
    "### Lists are `mutable`, which means that we can change them in place:"
   ]
  },
  {
   "cell_type": "code",
   "execution_count": null,
   "id": "a05bc054-66d8-4d61-a7d4-f5c0bae7e75a",
   "metadata": {},
   "outputs": [],
   "source": [
    "mylist = [1, 2, 3]\n",
    "\n",
    "print(f\"`mylist`'s contents: {mylist}.\\n\")\n",
    "\n",
    "mylist.append(4)\n",
    "\n",
    "print(f\"`mylist`'s contents after appending: {mylist}.\\n\")"
   ]
  },
  {
   "cell_type": "markdown",
   "id": "94e6b3c7-ec3c-41be-ba03-3d00389ad6fa",
   "metadata": {},
   "source": [
    "### We may also index into lists to get or change their contents:"
   ]
  },
  {
   "cell_type": "code",
   "execution_count": null,
   "id": "67025131-6e74-404b-82b6-76cf4e10d226",
   "metadata": {},
   "outputs": [],
   "source": [
    "mylist[2] = 'a'\n",
    "print(f\"`mylist`'s contents after mutating inplace: {mylist}.\\n\")"
   ]
  },
  {
   "cell_type": "markdown",
   "id": "763485c8-e1ed-498e-863c-9448b3ce346d",
   "metadata": {},
   "source": [
    "### \n",
    "\n",
    "<hr style=\"border:1px solid blue\">\n",
    "\n",
    "### \n",
    "### Let's try the same trick with a `tuple`. A `tuple` is just another\n",
    "### container type that we can conveniently create using round parentheses:"
   ]
  },
  {
   "cell_type": "code",
   "execution_count": null,
   "id": "548d06fc-da2b-471e-b1a1-14f31924e9ee",
   "metadata": {},
   "outputs": [],
   "source": [
    "mytuple = (1, 2, 3, 4)"
   ]
  },
  {
   "cell_type": "markdown",
   "id": "d7114f1c-1c0a-4a6c-acfc-f3ed99e17994",
   "metadata": {},
   "source": [
    "### \n",
    "### Let's try to mutate it in place:"
   ]
  },
  {
   "cell_type": "code",
   "execution_count": null,
   "id": "4ba31039-374c-45be-8fd1-fb205f0df61c",
   "metadata": {},
   "outputs": [],
   "source": [
    "try:\n",
    "    mytuple[2] = 'a'\n",
    "except Exception as ex:\n",
    "    raise Exception(f\"Failed with exception '{ex}'.\") from ex"
   ]
  },
  {
   "cell_type": "markdown",
   "id": "446de163-4d9c-4f01-95f7-c14acaeea2ac",
   "metadata": {},
   "source": [
    "### \n",
    "### Tuples and lists share many similarities but tuples cannot be changed.\n",
    "### This means that if you want to change a tuple, you have to create a new one.\n",
    "### \n",
    "### As such, tuples are the default choice for a container type that you'd\n",
    "### wanna use for the purpose of safety, for instance to avoid accidental\n",
    "### modifications. They are also the default container type for storing attributes\n",
    "### in a `immutable` custom `class` (discussed in Lecture 2).\n",
    "### \n",
    "\n",
    "<hr style=\"border:1px solid blue\">\n",
    "\n",
    "### \n",
    "### Lists are a convenient type for dynamical grouping of objects using, for instance,\n",
    "### a `for` loop:"
   ]
  },
  {
   "cell_type": "code",
   "execution_count": null,
   "id": "32a55f54-f702-4d73-b755-25c90c7d1b4e",
   "metadata": {},
   "outputs": [],
   "source": [
    "# in the following we make some beginners mistakes for educational purposes\n",
    "\n",
    "list_with_missing_elements = [1, None, 3, 4, 5, None, 7, None, 9, 10]\n",
    "\n",
    "\n",
    "list_without_missing_elements = []\n",
    "for i in range(len(list_with_missing_elements)):  # running index from 0..length(container) - 1\n",
    "    element = list_with_missing_elements[i]  # get i-th element\n",
    "    if element != None:  # if not None, add to container\n",
    "        list_without_missing_elements.append(element)\n",
    "\n",
    "\n",
    "print(f\"After filtering missing elements, we retain: {list_without_missing_elements}.\")"
   ]
  },
  {
   "cell_type": "markdown",
   "id": "3036d373-4893-4dda-aa5b-6360e29c7045",
   "metadata": {},
   "source": [
    "### However, this is not how you should do it.\n",
    "### Here, a solution with a more elegant syntax:"
   ]
  },
  {
   "cell_type": "code",
   "execution_count": null,
   "id": "7e95ebaa-e552-48a1-a6e2-e80342a992a6",
   "metadata": {},
   "outputs": [],
   "source": [
    "# same container as before\n",
    "list_with_missing_elements = [1, None, 3, 4, 5, None, 7, None, 9, 10]\n",
    "\n",
    "\n",
    "list_without_missing_elements = []\n",
    "for element in list_with_missing_elements:  # directly iterate over the container\n",
    "    if element is not None:  # use plain English to do the `is equal to None` check\n",
    "        list_without_missing_elements.append(element)\n",
    "\n",
    "\n",
    "print(f\"After filtering missing elements, we retain: {list_without_missing_elements}.\")"
   ]
  },
  {
   "cell_type": "markdown",
   "id": "6f9633c6-eaa6-41fe-8c65-4652b6ce4b0f",
   "metadata": {},
   "source": [
    "### \n",
    "\n",
    "<hr style=\"border:1px solid blue\">\n",
    "\n",
    "### \n",
    "### Another option to do the above is to utilise the `filter` method.\n",
    "### In the following, a cell that uses this method plus explanation of how you can read it:"
   ]
  },
  {
   "cell_type": "code",
   "execution_count": null,
   "id": "1a872de4-66c5-49f0-bd46-8066a060e954",
   "metadata": {},
   "outputs": [],
   "source": [
    "list_with_missing_elements = [1, None, 3, 4, 5, None, 7, None, 9, 10]\n",
    "\n",
    "\n",
    "# read: filter all elements `x` of `list_with_missing_elements` that satisfy `x is not None` \n",
    "# and plop the result into a new list with the name `list_without_missing_elements`.\n",
    "list_without_missing_elements = list(filter(lambda x: x is not None, list_with_missing_elements))\n",
    "\n",
    "\n",
    "print(f\"After filtering missing elements, we retain: {list_without_missing_elements}.\")"
   ]
  },
  {
   "cell_type": "markdown",
   "id": "21e6c7d6-1a65-49c5-9ead-9bf64a789230",
   "metadata": {},
   "source": [
    "### \n",
    "### We have to tell `Python` to plop whatever `filter` produces into a `list` because\n",
    "### `filter` doesn't really produce anything without explicitly \"activating\" it.\n",
    "### See below:"
   ]
  },
  {
   "cell_type": "code",
   "execution_count": null,
   "id": "9adf3258-63fd-4e9a-abc7-c8bd4e6f7e98",
   "metadata": {},
   "outputs": [],
   "source": [
    "list_with_missing_elements = [1, None, 3, 4, 5, None, 7, None, 9, 10]\n",
    "\n",
    "unactivated_filter = filter(lambda x: x is not None, list_with_missing_elements)\n",
    "\n",
    "print(f\"The `unactivated_filter` refers to: {unactivated_filter}.\")"
   ]
  },
  {
   "cell_type": "markdown",
   "id": "7f1fc892-9b03-4376-9995-0393e9f862cc",
   "metadata": {},
   "source": [
    "### See? Just a `filter` object at some memory location.\n",
    "### The `filter` object is a so-called `iterator`, something we will investigate in greater\n",
    "### detail in one of the forthcoming sections.\n",
    "### \n",
    "\n",
    "<hr style=\"border:1px solid blue\">\n",
    "\n",
    "### \n",
    "### Seeing the above, we may alternatively plop the contents into a tuple:"
   ]
  },
  {
   "cell_type": "code",
   "execution_count": null,
   "id": "f3130da8-edbf-4c18-948f-c002183bfaee",
   "metadata": {},
   "outputs": [],
   "source": [
    "container_with_missing_elements = [1, None, 3, 4, 5, None, 7, None, 9, 10]\n",
    "\n",
    "tuple_without_missing_elements = tuple(filter(lambda x: x is not None, container_with_missing_elements))\n",
    "\n",
    "print(f\"After filtering missing elements, we retain: {tuple_without_missing_elements}.\")"
   ]
  },
  {
   "cell_type": "markdown",
   "id": "c765fe48-c207-48f2-9ed1-8e45badff641",
   "metadata": {},
   "source": [
    "### \n",
    "### Lists and tuples can be conveniently converted into one another:"
   ]
  },
  {
   "cell_type": "code",
   "execution_count": null,
   "id": "63abf360-48ec-4766-9b0c-790e512c2b16",
   "metadata": {},
   "outputs": [],
   "source": [
    "lst = [1, 2, 'a', 3]\n",
    "tpl = (4, 5, 'b', 6)\n",
    "\n",
    "print(f\"`lst` converted to a tuple: {tuple(lst)}. \\n\")\n",
    "print(f\"`tpl` converted to a list: {list(tpl)}. \\n\")"
   ]
  },
  {
   "cell_type": "markdown",
   "id": "2a19d308-0474-4b13-bf2f-906ac438d60a",
   "metadata": {},
   "source": [
    "### \n",
    "\n",
    "<hr style=\"border:1px solid blue\">\n",
    "\n",
    "###\n",
    "### However, this begs the question what happens when we convert a `list` into a `list` ?!?"
   ]
  },
  {
   "cell_type": "code",
   "execution_count": null,
   "id": "ff4d9f53-b4a5-45dc-bcfc-7cd2fe0af948",
   "metadata": {},
   "outputs": [],
   "source": [
    "lst0 = [1, 2, 'a', 3]\n",
    "lst1 = list(lst0)\n",
    "\n",
    "\n",
    "# are they the same ?\n",
    "print(f\"`lst0 == lst1` ?  {lst0 == lst1}. \\n\")"
   ]
  },
  {
   "cell_type": "markdown",
   "id": "d46c6890-fc8c-4d83-a2ef-a2e98606dbba",
   "metadata": {},
   "source": [
    "### \n",
    "### However, are they identically the same object in memory ?"
   ]
  },
  {
   "cell_type": "code",
   "execution_count": null,
   "id": "001cfe4b-7766-47bf-a3cb-35b8c958cf9e",
   "metadata": {},
   "outputs": [],
   "source": [
    "print(f\"`lst0 is lst1` ?  {lst0 is lst1}. \\n\")"
   ]
  },
  {
   "cell_type": "markdown",
   "id": "0577f093-09e5-4b8b-9a7a-c3568dd81c98",
   "metadata": {},
   "source": [
    "### \n",
    "### This suggests that we can change `lst1` without affecting `lst0`:"
   ]
  },
  {
   "cell_type": "code",
   "execution_count": null,
   "id": "9d09bbe5-e9a6-4b48-b24d-cb19be0691c2",
   "metadata": {},
   "outputs": [],
   "source": [
    "lst1[2] = 2\n",
    "\n",
    "# we check if lst0 got also changed\n",
    "print(f\"`lst0 == lst1` ?  {lst0 == lst1}. \\n\")"
   ]
  },
  {
   "cell_type": "markdown",
   "id": "811c6648-ae44-4e6e-b1be-b88d1d44a98e",
   "metadata": {},
   "source": [
    "### \n",
    "### Conclusion: by invoking `list(list_object)` we actually create a new list\n",
    "### that makes copies of `list_object`'s references without copying the \n",
    "### referred-to objects themselves (as we saw before). That's why modifying\n",
    "### the copy does not have an effect on the original object.\n",
    "### \n",
    "\n",
    "<hr style=\"border:1px solid blue\">\n",
    "\n",
    "### \n",
    "### Obviously, when invoking `tuple(...)` on a `tuple` object, we should see the same behaviour:"
   ]
  },
  {
   "cell_type": "code",
   "execution_count": null,
   "id": "7852068d-5443-4fe6-a665-44758e3f4cc1",
   "metadata": {},
   "outputs": [],
   "source": [
    "# just for good measure\n",
    "\n",
    "tpl0 = (1, 2, 3)\n",
    "tpl1 = tuple(tpl0)\n",
    "\n",
    "\n",
    "# obviously the answer is `no` because we create a new object with a copy of all references\n",
    "print(f\"`tpl0 is tpl1` ? {tpl0 is tpl1}. \\n\")"
   ]
  },
  {
   "cell_type": "markdown",
   "id": "eb57c6de-fce2-4a29-b4c5-b9fc8a3d3cdb",
   "metadata": {},
   "source": [
    "### \n",
    "### \n",
    "### \n",
    "### \n",
    "### \n",
    "### \n",
    "### \n",
    "### Whoopsie-daisy !\n",
    "### Well, some say: \"Assumption is the mother of all f***-ups.\"\n",
    "### \n",
    "### But why in the world would `Python` act differently here, given that\n",
    "### with the exception of `mutability`, `list` and `tuple` serve kinda the\n",
    "### same purpose ?!? I mean, doesn't that unnecessarily complicate a language\n",
    "### that strives to be simple and straightforward ?\n",
    "### \n",
    "### The answer is <u>no</u>.\n",
    "### We don't make a copy for good reason.\n",
    "### \n",
    "### Think about it in this way:\n",
    "### Since a `tuple` never changes during its lifetime, there's no practical reason to create\n",
    "### a copy of it. Unlike lists, where making a copy helps prevent accidental modifications,\n",
    "### tuples are inherently safe to share across different parts of a program.\n",
    "### \n",
    "### If Python were to make a copy of a tuple, it would just be a waste of memory.\n",
    "### Every element inside the tuple would still be the same reference as in the original.\n",
    "### \n",
    "\n",
    "<hr style=\"border:1px solid blue\">\n",
    "\n",
    "### \n",
    "### A common use case for invoking `tuple(iterable)` is inside functions where we want to handle \n",
    "### both lists and tuples in a uniform way. If the input is a list, converting it to a tuple\n",
    "### ensures it remains unchanged inside the function and allows us to handle just one input type.\n",
    "### If it's already a tuple, great, no copy is made, saving memory and keeping the function efficient. \n",
    "### \n",
    "### Here a minimal example:"
   ]
  },
  {
   "cell_type": "code",
   "execution_count": null,
   "id": "f02feaa1-5d8b-4be2-a9df-3581599ad7a8",
   "metadata": {},
   "outputs": [],
   "source": [
    "# works with both lists and tuples\n",
    "def prepend_a_couple_of_zeros(container: list | tuple, number_of_zeros: int):\n",
    "    # always add a comma even if there's just one element in the tuple\n",
    "    return (0,) * number_of_zeros + tuple(container)\n",
    "\n",
    "\n",
    "lst = [1, 2, 3, 4, 5]\n",
    "\n",
    "print(f\"Prepending 10 zeros to the container `{lst}` gives: `{prepend_a_couple_of_zeros(lst, 10)}`.\\n\")"
   ]
  },
  {
   "cell_type": "markdown",
   "id": "95e045dc-a898-40d5-b1b4-6604a4aad4eb",
   "metadata": {},
   "source": [
    "### Note that not converting to `tuple` would raise an error because then we'd be\n",
    "### prepending the tuple `(0, 0, ...)` to a `list`, which is not allowed.\n",
    "### \n",
    "\n",
    "<hr style=\"border:1px solid blue\">\n",
    "\n",
    "### \n",
    "### While we're at it, we might as well talk about various container slicing operations,\n",
    "### as well as the behaviour when adding or multiplying. We kinda already saw an example\n",
    "### of `container arithmetic` in the previous example. \n",
    "### Multiplying a container-type by a positive integer `n` just repeats it `n` times. \n",
    "### If `n == 0`, we get an empty container."
   ]
  },
  {
   "cell_type": "code",
   "execution_count": null,
   "id": "ea1d1574-6a08-4dfa-b85f-7faa20418bfa",
   "metadata": {},
   "outputs": [],
   "source": [
    "# tuple or list, it doesn't matter, they work the same way.\n",
    "# Multiplication is an out-of-place operation, meaning it creates a new container.\n",
    "\n",
    "lst = [1, 2, 3]\n",
    "\n",
    "print(f\"`lst * 3` gives: {lst * 3}. \\n\")\n",
    "print(f\"`lst * 0` gives: {lst * 0}. \\n\")"
   ]
  },
  {
   "cell_type": "markdown",
   "id": "ee380697-6ded-43ae-bdd3-634f3fb6a5af",
   "metadata": {},
   "source": [
    "### Clearly, repeating the container as a result of multiplication by an integer\n",
    "### is a convenient and intuitive design choice.\n",
    "### The fact the multiplying by `0` gives an empty container is not only intuitive\n",
    "### but also quite useful.\n",
    "### \n",
    "\n",
    "<hr style=\"border:1px solid blue\">\n",
    "\n",
    "### \n",
    "### <u> Task </u>:\n",
    "### You are given a `list` `lst0` containing `n` entries. There is another `list`\n",
    "### `lst1` containing `m` entries, with `m >= n`. Create a new list with the same\n",
    "### number of entries as `lst1` by adding as many zeros as necessary to `lst0`.\n",
    "### "
   ]
  },
  {
   "cell_type": "code",
   "execution_count": null,
   "id": "7cf3dce8-0b77-4fa8-8867-8917291d24da",
   "metadata": {},
   "outputs": [],
   "source": [
    "lst0 = [1, 2, 3]\n",
    "\n",
    "\n",
    "# you only know the length of `lst1` at runtime. The only info you have is that\n",
    "# len(lst1) >= len(lst0).\n",
    "lst1 = [1, 2, 3, 4, 5, 6]"
   ]
  },
  {
   "cell_type": "markdown",
   "id": "fa01120e-775f-44de-8e33-fa5683e9f85a",
   "metadata": {},
   "source": [
    "###\n",
    "### we utilize container arithmetic to accomplish the desired task:\n",
    "###"
   ]
  },
  {
   "cell_type": "code",
   "execution_count": null,
   "id": "a9287cd2-4111-4fc3-b864-e27ecb7abe85",
   "metadata": {},
   "outputs": [],
   "source": [
    "# take the old list and add as many zeros as necessary\n",
    "new_lst = lst0 + [0] * (len(lst1) - len(lst0))\n",
    "\n",
    "print(f\"The new list with as many entries as `lst1`: {new_lst}. \\n\")"
   ]
  },
  {
   "cell_type": "markdown",
   "id": "204485bf-e59e-4a54-9470-89758831247a",
   "metadata": {},
   "source": [
    "### \n",
    "### The good thing about this is that if the difference in length was\n",
    "### `0`, you could use the same function to accomplish the desired task,\n",
    "### without distinguishing cases. So, the only case we would have to\n",
    "### distinguish explicitly is if `lst1` were **shorter** than `lst0`:"
   ]
  },
  {
   "cell_type": "code",
   "execution_count": null,
   "id": "2a019a87-8f37-4107-a3ec-92f5fa390267",
   "metadata": {},
   "outputs": [],
   "source": [
    "def append_zeros(lst0, lst1):\n",
    "    \"\"\" Return as list by convention, both list and tuple inputs will work \"\"\"\n",
    "    assert len(lst1) >= len(lst0)  # make sure `lst1` is NOT shorter than `lst0`\n",
    "    return list(lst0) + [0] * (len(lst1) - len(lst0))\n",
    "\n",
    "\n",
    "# we challenge above code by passing containers of equal length\n",
    "lst0 = [1, 2, 3]\n",
    "lst1 = (4, 5, 6)  # note that one is a list, the other a tuple\n",
    "\n",
    "\n",
    "print(f\"Appending as many zeros as necessary to {lst0} gives: {append_zeros(lst0, lst1)}. \\n\")"
   ]
  },
  {
   "cell_type": "markdown",
   "id": "1aca051b-30bb-4d3c-8017-4a40aa747476",
   "metadata": {},
   "source": [
    "### => The same implementation also catches the special case in which they have equal length.\n",
    "### \n",
    "\n",
    "<hr style=\"border:1px solid blue\">\n",
    "\n",
    "### \n",
    "### The above shows that adding two lists / tuples just creates bigger lists / tuples."
   ]
  },
  {
   "cell_type": "code",
   "execution_count": null,
   "id": "0ab760ff-395a-4f41-86eb-b7bb4c52eb59",
   "metadata": {},
   "outputs": [],
   "source": [
    "lst0 = [1, 2, 3]\n",
    "lst1 = [4, 5, 6]\n",
    "\n",
    "\n",
    "# addition\n",
    "print(f\"`{lst0} + {lst1} == {lst0 + lst1}`. \\n\")\n",
    "\n",
    "# mixed arithmetic\n",
    "print(f\"`{lst0} + 3 * {lst1} == {lst0 + 3 * lst1}. \\n\")\n",
    "print(f\"`{lst0} + 0 * {lst1} == {lst0 + 0 * lst1}. \\n\")"
   ]
  },
  {
   "cell_type": "markdown",
   "id": "21317726-c118-4188-a102-8f46522f66fa",
   "metadata": {},
   "source": [
    "### Now the big question:\n",
    "### Imagine you had two containers, `lst0` and `lst1`.\n",
    "### Suppose you wanted to return two new containers, say lists,\n",
    "### by appending as many zeros as necessary to the shorter one.\n",
    "### Here, a cumbersome solution:"
   ]
  },
  {
   "cell_type": "code",
   "execution_count": null,
   "id": "6b151f11-1d04-4c37-a142-f33a2a0ebfda",
   "metadata": {},
   "outputs": [],
   "source": [
    "# make fused type for type annotation\n",
    "container = list | tuple\n",
    "\n",
    "\n",
    "def return_lists_of_equal_length(lst0: container, lst1: container):\n",
    "    diff = len(lst1) - len(lst0)\n",
    "    if diff >= 0:  # lst1 longer than (or equally as long as) lst0\n",
    "        return list(lst0) + [0] * diff, list(lst1)  # add zeros to the shorter one\n",
    "    else:  # lst0 is longer. On a different note: do we really need this else clause ? ;)\n",
    "        return list(lst0), list(lst1) + [0] * (-diff)  # add zeros to lst1\n",
    "\n",
    "\n",
    "lst0 = [1, 2, 3, 4]\n",
    "lst1 = (1, 2, 3)\n",
    "\n",
    "print(f\"Equalizing the lengths of {lst0} and {lst1} gives: {return_lists_of_equal_length(lst0, lst1)}. \\n\")\n",
    "\n",
    "# we exchange the roles:\n",
    "lst0, lst1 = lst1, lst0\n",
    "\n",
    "print(f\"Equalizing the lengths of {lst0} and {lst1} gives: {return_lists_of_equal_length(lst0, lst1)}. \\n\")"
   ]
  },
  {
   "cell_type": "markdown",
   "id": "6a8ba1c6-cbe5-4043-a1d9-7da0a75aa6bb",
   "metadata": {},
   "source": [
    "###\n",
    "\n",
    "<hr style=\"border:1px solid blue\">\n",
    "\n",
    "### \n",
    "### It turns out that the if-else clause is redundant. Here a more elegant solution:"
   ]
  },
  {
   "cell_type": "code",
   "execution_count": null,
   "id": "c4dd534e-454a-46ba-b2b4-ad45d973e38d",
   "metadata": {},
   "outputs": [],
   "source": [
    "# make fused type\n",
    "container = list | tuple\n",
    "\n",
    "\n",
    "def return_lists_of_equal_length(lst0: container, lst1: container):\n",
    "    diff = len(lst1) - len(lst0)\n",
    "    return list(lst0) + [0] * diff, list(lst1) + [0] * -diff\n",
    "\n",
    "\n",
    "lst0 = [1, 2, 3, 4]\n",
    "lst1 = (1, 2, 3)\n",
    "\n",
    "print(f\"Equalizing the lengths of {lst0} and {lst1} gives: {return_lists_of_equal_length(lst0, lst1)}. \\n\")\n",
    "\n",
    "# we exchange the roles:\n",
    "lst0, lst1 = lst1, lst0\n",
    "\n",
    "print(f\"Equalizing the lengths of {lst0} and {lst1} gives: {return_lists_of_equal_length(lst0, lst1)}. \\n\")"
   ]
  },
  {
   "cell_type": "markdown",
   "id": "9b7e24f5-40dd-44bb-ae4a-28d66258e613",
   "metadata": {},
   "source": [
    "### \n",
    "### What in the - ?\n",
    "### Unless both containers have equal length, we are always adding a negative\n",
    "### multiple of `[0]` somehwere ?!?\n",
    "### \n",
    "### The `Python` developers made a very elegant design choice here.\n",
    "### Check this out:"
   ]
  },
  {
   "cell_type": "code",
   "execution_count": null,
   "id": "699ab5c9-a49a-4fd8-98f4-3d98f125fa30",
   "metadata": {},
   "outputs": [],
   "source": [
    "lst0 = [1, 2, 3]\n",
    "\n",
    "\n",
    "# parentheses around -20 are not necessary ;-)\n",
    "print(f\"`{lst0} + [4, 5] * (-20)` equals: {lst0 + [4, 5] * -20}. \\n\")"
   ]
  },
  {
   "cell_type": "markdown",
   "id": "49239179-417b-4347-8bfd-af9447fabc25",
   "metadata": {},
   "source": [
    "### \n",
    "### <u>The conclusion</u>: multiplying a container by a **negative** number is equivalent\n",
    "### to multiplying by `0`, i.e., returning an empty container.\n",
    "### This decision is mainly motivated by the above, i.e., avoiding the need to\n",
    "### distinguish cases:\n",
    "### \n",
    "```Python\n",
    "def return_lists_of_equal_length(lst0: container, lst1: container):\n",
    "    # diff >= 0, diff < 0, it doesn't matter. Both give the desired outcome\n",
    "    diff = len(lst1) - len(lst0)\n",
    "    return list(lst0) + [0] * diff, list(lst1) + [0] * -diff\n",
    "```\n",
    "### \n",
    "\n",
    "<hr style=\"border:1px solid blue\">\n",
    "\n",
    "### \n",
    "### <u>A general takeaway</u>:\n",
    "### If you require many `if-else` clauses in your code to distinguish cases\n",
    "### like the above, well, ..., a general advice I would give you: <u>think harder!</u>\n",
    "### You'll be surprised by the amount of stuff the `Python` developers managed\n",
    "### to come up with to avoid awkward `if-else` clauses like the above.\n",
    "### When you need many of them, it usually means that you should rethink your implementation\n",
    "### or there's a nifty `Python` trick that you're not using simply because you're unaware of it.\n",
    "### In these cases, there’s no shame in asking an AI (like ChatGPT) for advice.\n",
    "###\n",
    "\n",
    "<hr style=\"border:1px solid blue\">\n",
    "\n",
    "### \n",
    "### As a last topic on container-types, we will discuss container slicing.\n",
    "### Since this is exactly the same both for `tuple`s and `list`s, we will focus on `tuple`s only.\n",
    "### \n",
    "### The container slicing syntax is:\n",
    "### \n",
    "```python\n",
    "container[start:stop:stepsize]\n",
    "```\n",
    "### "
   ]
  },
  {
   "cell_type": "code",
   "execution_count": null,
   "id": "578118aa-41ad-49d1-8748-394b67fabb32",
   "metadata": {},
   "outputs": [],
   "source": [
    "# (0, ..., 9)\n",
    "container = tuple(range(10))\n",
    "\n",
    "\n",
    "print(f\"`container[1:8:2]` gives: {container[1:8:2]}. \\n\")"
   ]
  },
  {
   "cell_type": "markdown",
   "id": "19ccf1fd-f90c-4b2f-987a-a2a3f2aeb814",
   "metadata": {},
   "source": [
    "### \n",
    "### We may omit `:stepsize` in which case the behaviour defaults to steps of size `1`.\n",
    "### "
   ]
  },
  {
   "cell_type": "code",
   "execution_count": null,
   "id": "b7518488-72b6-4b40-99db-5e7aac4af017",
   "metadata": {},
   "outputs": [],
   "source": [
    "print(f\"`container[1:8]` gives: {container[1:8]}. \\n\")"
   ]
  },
  {
   "cell_type": "markdown",
   "id": "d3ecbca1-289e-49d6-a043-c2fd03baa195",
   "metadata": {},
   "source": [
    "### \n",
    "### We may alternatively omit `start`, in which case `start == 0` and `stop`, in which case\n",
    "### `stop == len(container)`:"
   ]
  },
  {
   "cell_type": "code",
   "execution_count": null,
   "id": "c300d54b-2e0d-4c0a-85d7-37c0868f2bca",
   "metadata": {},
   "outputs": [],
   "source": [
    "print(f\"`container[:8]` gives: {container[:8]}. \\n\")\n",
    "print(f\"`container[1:]` gives: {container[1:]}. \\n\")\n",
    "print(f\"`container[:]` gives: {container[:]}. \\n\")"
   ]
  },
  {
   "cell_type": "markdown",
   "id": "7e921881-6575-4b5e-8cca-006c10fabf0a",
   "metadata": {},
   "source": [
    "### We saw before how `tuple(tuple_object)` gave exactly the same object:"
   ]
  },
  {
   "cell_type": "code",
   "execution_count": null,
   "id": "2ff7d633-b6d2-4782-800b-2b5858d9cfb1",
   "metadata": {},
   "outputs": [],
   "source": [
    "print(f\"`container is tuple(container)` ?: {container is tuple(container)}. \\n\")"
   ]
  },
  {
   "cell_type": "markdown",
   "id": "4375331d-52e9-4047-99a3-03716fc4b5e3",
   "metadata": {},
   "source": [
    "### \n",
    "### So now the question is, what if we invoke `container[:]` ? Are they the same ?"
   ]
  },
  {
   "cell_type": "code",
   "execution_count": null,
   "id": "1e94be2d-4ccc-4b5e-bf8b-c96574546471",
   "metadata": {},
   "outputs": [],
   "source": [
    "print(f\"`container is container[:]` ?: {container is container[:]}. \\n\")"
   ]
  },
  {
   "cell_type": "markdown",
   "id": "c2edc0f2-8703-437b-a859-38dfec0a015c",
   "metadata": {},
   "source": [
    "### As before.\n",
    "### \n",
    "\n",
    "<hr style=\"border:1px solid blue\">\n",
    "\n",
    "### \n",
    "### <u> Task </u>:\n",
    "### You are given a `tuple` of positive integers, representing the shape of a `np.ndarray` \"`arr`\".\n",
    "### You would like to know what the shape will be when you sum-away the `m`-th axis.\n",
    "### For simplicity, we assume that `0 <= m < arr.ndim`, where `ndim` is the number of dimensions of `arr`.\n",
    "### \n",
    "### <u>Solution</u>:"
   ]
  },
  {
   "cell_type": "code",
   "execution_count": null,
   "id": "3015c443-eb1c-4249-b0a1-70353d53d1bb",
   "metadata": {
    "jupyter": {
     "source_hidden": true
    }
   },
   "outputs": [],
   "source": [
    "shape = (5, 6, 8, 3, 7, 10, 12, 6, 5, 1, 12, 4)\n",
    "\n",
    "m = 8\n",
    "\n",
    "sum_shape = shape[:m] + shape[m+1:]\n",
    "\n",
    "print(f\"Summing-away the `{m}`-th axis of an array of shape {shape} gives: {sum_shape}. \\n\")"
   ]
  },
  {
   "cell_type": "markdown",
   "id": "d7d6cfcf-557c-4bed-8aa9-5951030f6d68",
   "metadata": {},
   "source": [
    "### \n",
    "### When we take `stop < 0`, `Python` will actually take `max(stop, -len(container))` modulus `len(container)`.\n",
    "### "
   ]
  },
  {
   "cell_type": "code",
   "execution_count": null,
   "id": "0c7dcc8a-842e-4939-aff4-cd4402c2fd18",
   "metadata": {},
   "outputs": [],
   "source": [
    "nelems = 10\n",
    "container = tuple(range(nelems))\n",
    "\n",
    "print(f\"`container`: {container}. \\n\")\n",
    "\n",
    "# the last five entries are sliced out\n",
    "print(f\"`container[:-5]` equals: {container[:-5]}. \\n\")\n",
    "\n",
    "# the last `nelems` entries are sliced out (all)\n",
    "print(f\"`container[:-nelems]` equals: {container[:-nelems]}. \\n\")\n",
    "\n",
    "# when going beyond `-nelems`, it gets clipped to `-nelems` and has the same effect as before\n",
    "print(f\"`container[:-2 * nelems]` equals: {container[:-2 * nelems]}. \\n\")"
   ]
  },
  {
   "cell_type": "markdown",
   "id": "07729278-afed-4e71-adac-947a114ce12b",
   "metadata": {},
   "source": [
    "### \n",
    "### This syntax of taking negative numbers modulus `len(container)` is very useful when\n",
    "### you want to slice-out the array up to, say, the last entry, without having to\n",
    "### explicitly invoke `stop = len(container) - 1`:"
   ]
  },
  {
   "cell_type": "code",
   "execution_count": null,
   "id": "806ee5ff-ed60-44d5-9e18-86e921d6f364",
   "metadata": {},
   "outputs": [],
   "source": [
    "nelems = 10\n",
    "container = tuple(range(nelems))\n",
    "\n",
    "print(f\"`container[:len(container) - 1] == container[:-1]` ?: {container[:len(container) - 1] == container[:-1]}. \\n\")"
   ]
  },
  {
   "cell_type": "markdown",
   "id": "8943616a-19b6-4867-9bda-a811bcd563d9",
   "metadata": {},
   "source": [
    "### \n",
    "\n",
    "<hr style=\"border:1px solid blue\">\n",
    "\n",
    "### \n",
    "### As an alternative to the `container[start:stop:stepsize]` syntax, we may use\n",
    "### `slice`. The precise syntax of `slice` is also `slice(start, stop, stepsize)`\n",
    "### and invoking `container[slice(start, stop, stepsize)]` is equivalent to\n",
    "### `container[start:stop:stepsize]`.\n",
    "###\n",
    "### Some of the `start, stop, stepsize` variables take default values when\n",
    "### not passed. In the following, a number of ways to instantiate `slice`\n",
    "### and their equivalent `[start:stop:stepsize]` syntaxes:\n",
    "### \n",
    "#### `slice(None)` $\\implies$ `[:]`\n",
    "#### `slice(0, None)` $\\implies$ `[0:]`\n",
    "#### `slice(None, None, None)` $\\implies$ `[:]`\n",
    "#### `slice(1, None)` $\\implies$ `[1:]`\n",
    "#### `slice(None, -1)` $\\implies$ `[:-1]`\n",
    "#### `slice(None, None, -1)` $\\implies$ `[::-1]` $\\quad$ (reverse the container)\n",
    "### \n",
    "### Example:"
   ]
  },
  {
   "cell_type": "code",
   "execution_count": null,
   "id": "e363c338-aaac-4a26-8ecc-8f9171ba7117",
   "metadata": {},
   "outputs": [],
   "source": [
    "container = list(range(10))\n",
    "\n",
    "print(f\"`container[slice(None, None, -1)] == container[::-1]` ?: {container[slice(None, None, -1)] == container[::-1]}. \\n\")"
   ]
  },
  {
   "cell_type": "markdown",
   "id": "ecfd05bc-70cc-4e36-8cbb-4de064504b4e",
   "metadata": {},
   "source": [
    "### \n",
    "### One advantage of using `slice` is that they are reusable:"
   ]
  },
  {
   "cell_type": "code",
   "execution_count": null,
   "id": "8e1b9bdf-4b90-473b-a99f-f841cdc2ea40",
   "metadata": {},
   "outputs": [],
   "source": [
    "container0 = list(range(5))\n",
    "container1 = list(range(10))\n",
    "container2 = list(range(15))\n",
    "container3 = list(range(20))\n",
    "\n",
    "sl = slice(None, -1)  # keep all entries but the last\n",
    "\n",
    "for cont in (container0, container1, container2, container3):\n",
    "    print(f\"Slicing-out the last entry of {cont} gives: {cont[sl]}. \\n\")"
   ]
  },
  {
   "cell_type": "markdown",
   "id": "cfec628a-d23b-484b-8db5-b25515be3e2b",
   "metadata": {},
   "source": [
    "###\n",
    "\n",
    "<hr style=\"border:1px solid blue\">\n",
    "\n",
    "### \n",
    "# <u>Lesson 2</u>: Data Structures & Manipulation II: Hash-based Container Types\n",
    "### The next data structures we'll discuss are `dict`s and `set`s.\n",
    "### \n",
    "### Both are `mutable`, meaning we can add elements to them at runtime.\n",
    "### What many people don't realize is that their underlying data structures are quite similar—\n",
    "### both are based on a `hash table`, something we'll discuss in greater detail at the end of **lecture 1**.\n",
    "### Many other programming languages refer to them as `hashmap` (for `dict`) and `hashset` (for `set`).\n",
    "### \n",
    "### The key difference is that a `dict` (or `hashmap`) stores `key-value` pairs,\n",
    "### whereas a `set` (or `hashset`) stores only unique `key`s.\n",
    "### Internally, Python’s `set` works similarly to a `dict` but only tracks keys, not associated values.\n",
    "### \n",
    "### Both data structures provide **very fast lookups** due to their use of hash tables.\n",
    "### The average lookup time is **amortized $\\mathcal{O}(1)$**, meaning that while individual lookups\n",
    "### may sometimes take longer, the average lookup time remains constant over many operations,\n",
    "### regardless of the number of entries.\n",
    "### \n",
    "### Let's start with `set`. A `set` is also kinda a container type, however the difference is that\n",
    "### (as in mathematical sets) no element can be contained twice. Furthermore, `set`s are unordered\n",
    "### and therefore cannot be indexed into. They are very useful for instance when you wanna keep track\n",
    "### of whether you have seen some object before or not.\n",
    "### Of course, you could also use a `list` or `tuple` to keep track of stuff you've seen before but\n",
    "### checking if an element is contained inside of a `list` or `tuple` is an $\\mathcal{O}(n)$ operation,\n",
    "### where $n$ is the number of entries.\n",
    "### \n",
    "\n",
    "<hr style=\"border:1px solid blue\">\n",
    "\n",
    "### \n",
    "### Before we show an explicit example of the utility of `set`s, let's develop an intuition for the difference\n",
    "### in lookup times:"
   ]
  },
  {
   "cell_type": "code",
   "execution_count": null,
   "id": "eca7cb70-32c7-47a7-9a91-14bcfcaead17",
   "metadata": {},
   "outputs": [],
   "source": [
    "# forget about this pairwise for now\n",
    "from itertools import pairwise\n",
    "\n",
    "\n",
    "nedges = 1000\n",
    "\n",
    "# make some edges (i0, i1)\n",
    "# the edges are given by (0, 1), (1, 2), (2, 3), ..., (998, 999), (999, 0) - they form a ring\n",
    "edges_tpl = tuple(map(lambda x: tuple(_x % nedges for _x in x), pairwise(range(nedges + 1))))\n",
    "\n",
    "print(f\"The edges as a tuple are given by: {edges_tpl}. \\n\")\n",
    "\n",
    "\n",
    "# just convert to set\n",
    "edges_set = set(edges_tpl)\n",
    "print(f\"The edges as a set are given by: {edges_set}. \\nNote that we loose ordering !\")"
   ]
  },
  {
   "cell_type": "markdown",
   "id": "e9924f2b-6fc4-4b0b-b1fb-e77a311e7a5a",
   "metadata": {},
   "source": [
    "### \n",
    "### We can use the %timeit magic function to get an idea of the lookup time discrepancies:"
   ]
  },
  {
   "cell_type": "code",
   "execution_count": null,
   "id": "e0f45e6d-8d92-46e1-b1de-7bd3da472f0b",
   "metadata": {},
   "outputs": [],
   "source": [
    "edge = (54, 55)\n",
    "\n",
    "\n",
    "def find_edge_tpl():\n",
    "    return edge in edges_tpl\n",
    "\n",
    "\n",
    "def find_edge_set():\n",
    "    return edge in edges_set\n",
    "    \n",
    "\n",
    "# first time the tuple lookup, then the set lookup\n",
    "%timeit find_edge_tpl()\n",
    "%timeit find_edge_set()"
   ]
  },
  {
   "cell_type": "markdown",
   "id": "df2ea7fb-5bfc-4a06-8b83-2cf78ee9ad17",
   "metadata": {},
   "source": [
    "### \n",
    "### On my machine the `set` lookup is more than 10x faster and the discrepancy will only grow as we add more elements.\n",
    "### \n",
    "\n",
    "<hr style=\"border:1px solid blue\">\n",
    "\n",
    "### \n",
    "### As an example, we consider the problem where we are given two triangulations characterised by their elements\n",
    "### `(i0, i1, i2)`. For simplicity, we assume that the `i0, i1, ...` refer to the same set of points. \n",
    "### Our task is to keep only the unique occurences of the elements, keeping in mind that two elements\n",
    "### `(i0, i1, i2)` and `(i1, i2, i0)` are the same and should therefore not be counted twice."
   ]
  },
  {
   "cell_type": "code",
   "execution_count": null,
   "id": "c1d8d920-2707-446e-8760-32bebd86f448",
   "metadata": {},
   "outputs": [],
   "source": [
    "# make two meshes with shared elements\n",
    "\n",
    "mesh0 = [\n",
    "    (19, 29, 27),\n",
    "    (1, 18, 20),\n",
    "    (12, 14, 22),\n",
    "    (5, 7, 25),\n",
    "    (6, 15, 19),\n",
    "    (0, 4, 8),\n",
    "    (9, 21, 26),\n",
    "    (2, 11, 24),\n",
    "    (3, 13, 17),\n",
    "    (10, 16, 28),\n",
    "    (5, 11, 22),\n",
    "    (7, 12, 27),\n",
    "    (6, 13, 25),\n",
    "    (1, 9, 23),\n",
    "    (4, 10, 14),\n",
    "    (2, 8, 19),\n",
    "    (3, 15, 20),\n",
    "    (0, 16, 21),\n",
    "    (18, 24, 28),\n",
    "    (17, 23, 29)\n",
    "]\n",
    "\n",
    "mesh1 = [\n",
    "    (29, 27, 19),  # Same as (19, 29, 27) but different order\n",
    "    (20, 1, 18),   # Same as (1, 18, 20) but different order\n",
    "    (14, 22, 12),  # Same as (12, 14, 22) but different order\n",
    "    (7, 25, 5),    # Same as (5, 7, 25) but different order\n",
    "    (6, 15, 19),   # Same as (6, 15, 19) \n",
    "    (0, 4, 8),\n",
    "    (9, 21, 26),\n",
    "    (2, 11, 24),\n",
    "    (3, 13, 17),\n",
    "    (10, 16, 28),\n",
    "    (5, 11, 22),\n",
    "    (7, 12, 27),\n",
    "    (6, 13, 25),\n",
    "    (1, 9, 23),\n",
    "    (4, 10, 14),\n",
    "    (2, 8, 19),\n",
    "    (3, 15, 20),\n",
    "    (0, 16, 21),\n",
    "    (18, 24, 28),\n",
    "    (17, 23, 29)\n",
    "]"
   ]
  },
  {
   "cell_type": "markdown",
   "id": "cfe16fb1-91fc-4da3-aefe-27ecd2aec7f8",
   "metadata": {},
   "source": [
    "### \n",
    "### In the following, an implementation that uses a `set` for keeping track of seen elements\n",
    "### "
   ]
  },
  {
   "cell_type": "code",
   "execution_count": null,
   "id": "09d92858-203f-4ed7-b4c0-69ee206fcdeb",
   "metadata": {},
   "outputs": [],
   "source": [
    "seen = set()\n",
    "unique_elements = []\n",
    "\n",
    "for elements in (mesh0, mesh1):  # for both meshes\n",
    "    for elem in elements:  # for each element of the current mesh\n",
    "        sorted_elem = tuple(sorted(elem))  # sort element out of place and represent as a tuple\n",
    "        if sorted_elem not in seen:  # sorted element hasn't been seen ?\n",
    "            unique_elements.append(elem)  # add element to unique elements\n",
    "            seen.add(sorted_elem)  # add sorted element to seen sorted elements\n",
    "\n",
    "\n",
    "print(f\"The unique elements are given by: {unique_elements}. \\n\")"
   ]
  },
  {
   "cell_type": "markdown",
   "id": "445f614f-4ea7-4aa5-b03c-3a89d754e396",
   "metadata": {},
   "source": [
    "### \n",
    "### Here we sort the element out of place to avoid adding duplicate elements.\n",
    "### \n",
    "\n",
    "<hr style=\"border:1px solid blue\">\n",
    "\n",
    "### \n",
    "### The `sorted` function returns a `list`, not a `tuple`.\n",
    "### The question is: why did we convert this `list` to a `tuple` ?\n",
    "### \n",
    "```python\n",
    "sorted_elem = tuple(sorted(elem))\n",
    "```\n",
    "### \n",
    "### To answer this, let's try to add a `list` to a `set`:"
   ]
  },
  {
   "cell_type": "code",
   "execution_count": null,
   "id": "4a2acf68-451c-4f2f-8e41-f91f0626e00d",
   "metadata": {},
   "outputs": [],
   "source": [
    "myset = set()\n",
    "mylist = [1, 2, 3]\n",
    "\n",
    "try:\n",
    "    myset.add(mylist)\n",
    "except Exception as ex:\n",
    "    raise Exception(f\"Failed with exception `{ex}`.\")"
   ]
  },
  {
   "cell_type": "markdown",
   "id": "a43ebc31-4851-459c-8acd-8dc17c666f1b",
   "metadata": {},
   "source": [
    "### \n",
    "### Since a `set` is a `hashset`, the item we wanna add has to be hashable.\n",
    "### It turns out that `list`s are not.\n",
    "### Why ? \n",
    "### The reason is because `list`s are not `immutable`.\n",
    "### We will learn why `mutable` objects are not `hashable` in lecture 1.\n",
    "### \n",
    "\n",
    "<hr style=\"border:1px solid blue\">\n",
    "\n",
    "### \n",
    "### So, we may only add `immutable` types to sets, for instance `tuple`s.\n",
    "### However, this begs the question what happens if we try to add a `tuple`\n",
    "### that contains `mutable` objects. Will it still work ?\n",
    "### No ! All elements of the `tuple` have to be `hashable` (hence immutable) themselves:"
   ]
  },
  {
   "cell_type": "code",
   "execution_count": null,
   "id": "3bd588d9-9051-492d-be16-0457fb6b3e46",
   "metadata": {},
   "outputs": [],
   "source": [
    "myset = set()\n",
    "\n",
    "# the objects are:\n",
    "# 1) list: mutable\n",
    "# 2) int: immutable\n",
    "# 3) str: immutable\n",
    "# 4) float: immutable\n",
    "mytuple = ([1, 2, 3], 5, 'a', 3.14)\n",
    "\n",
    "\n",
    "try:\n",
    "    myset.add(mytuple)\n",
    "    print(\"It worked !!\")\n",
    "except Exception as ex:\n",
    "    raise Exception(f\"Failed with exception `{ex}`.\")"
   ]
  },
  {
   "cell_type": "markdown",
   "id": "2569ae78-8d1f-4c33-a6db-e64977a214b2",
   "metadata": {},
   "source": [
    "### => The mutable list causes the error.\n",
    "### \n",
    "### We try the same again, replacing the `list` by a `tuple`:"
   ]
  },
  {
   "cell_type": "code",
   "execution_count": null,
   "id": "11fee26e-f1c1-429d-8065-51b1426e0299",
   "metadata": {},
   "outputs": [],
   "source": [
    "myset = set()\n",
    "\n",
    "# the objects are:\n",
    "# 1) tuple of ints: immutable\n",
    "# 2) int: immutable\n",
    "# 3) str: immutable\n",
    "# 4) float: immutable\n",
    "# ----------------------------\n",
    "# all immutable (for built-in types that means hashable)\n",
    "mytuple = ((1, 2, 3), 5, 'a', 3.14)\n",
    "\n",
    "\n",
    "try:\n",
    "    myset.add(mytuple)\n",
    "    print(\"It worked !!\")\n",
    "except Exception as ex:\n",
    "    raise Exception(f\"Failed with exception `{ex}`.\")"
   ]
  },
  {
   "cell_type": "markdown",
   "id": "8e0c7c70-b0dd-45cd-87e0-e0285e11a508",
   "metadata": {},
   "source": [
    "### \n",
    "### <u>We conclude</u>:\n",
    "### `Hashset`s have the advantage of much faster lookup time but we may only add\n",
    "### immutable objects.\n",
    "### \n",
    "\n",
    "<hr style=\"border:1px solid blue\">\n",
    "\n",
    "### \n",
    "### As mentioned before, `dict`s, so-called `hashmaps` are based on the same underlying\n",
    "### data structure so we may only use `immutable` types as keys.\n",
    "### However, the values may be whatever:"
   ]
  },
  {
   "cell_type": "code",
   "execution_count": null,
   "id": "84d0c391-25bf-4804-8d9e-c6594de8dc76",
   "metadata": {},
   "outputs": [],
   "source": [
    "# let's try to use a mutable type as key first and see what error we get\n",
    "\n",
    "mydict = {}\n",
    "mylist = [1, 2, 3]\n",
    "\n",
    "\n",
    "try:\n",
    "    mydict[mylist] = 5   # try to set the key-value pair ([1, 2, 3], 5).\n",
    "    print(\"It worked !!\")\n",
    "except Exception as ex:\n",
    "    raise Exception(f\"Failed with exception `{ex}`.\")"
   ]
  },
  {
   "cell_type": "markdown",
   "id": "5d929cbd-6531-4daf-8fe1-d0881812045f",
   "metadata": {},
   "source": [
    "### \n",
    "### Same problem as before.\n",
    "### \n",
    "### Now let's use an `immutable` key but a`mutable` value:"
   ]
  },
  {
   "cell_type": "code",
   "execution_count": null,
   "id": "c4748b26-51ee-46dd-a897-a7fd35e7bf01",
   "metadata": {},
   "outputs": [],
   "source": [
    "# immutable key, mutable value\n",
    "\n",
    "mydict = {}\n",
    "mytuple = (1, 2, 3)  # immutable tuple\n",
    "\n",
    "\n",
    "try:\n",
    "    mydict[mytuple] = [1, 2, 3]   # try to use mutable value type\n",
    "    print(\"It worked !!\")\n",
    "except Exception as ex:\n",
    "    raise Exception(f\"Failed with exception `{ex}`.\")"
   ]
  },
  {
   "cell_type": "markdown",
   "id": "3343c9f3-540a-40e7-8d7a-f8de2f8f7cdc",
   "metadata": {},
   "source": [
    "### \n",
    "### Works fine.\n",
    "### \n",
    "\n",
    "<hr style=\"border:1px solid blue\">\n",
    "\n",
    "### \n",
    "### The decision to disallow `mutable` keys (in both `dict` and `set`) is driven\n",
    "### by the desire for `safety`: `mutable` keys can break your `dict` or `set` **beyond repair**,\n",
    "### as we will learn in lecture 1.\n",
    "### The decision to allow for `mutable` values on the other hand is driven by the\n",
    "### fact that it is super useful:"
   ]
  },
  {
   "cell_type": "code",
   "execution_count": null,
   "id": "ee8debb8-d134-4c1c-9f76-072f28f84607",
   "metadata": {},
   "outputs": [],
   "source": [
    "# not very idiomatic, we will learn how to do it better in this lecture and lecture 1\n",
    "\n",
    "alphabet = 'abcdefghijklmnopqrstuvwxyz'\n",
    "map_starting_letter_word = {}\n",
    "\n",
    "\n",
    "words = 'bear', 'apple', 'Pavia', 'pizza', 'pasta', 'functional_analysis', \\\n",
    "        'Python', 'caramel', 'derivative', 'estimate', 'Gargamel', 'Milano'\n",
    "\n",
    "\n",
    "for word in words:\n",
    "    first_letter = word[0].lower()  # take first letter and convert to lowercase, if not already\n",
    "    # check if first letter exists as a key, if not, add it with empty list as value\n",
    "    if first_letter not in map_starting_letter_word:\n",
    "        map_starting_letter_word[first_letter] = []\n",
    "    map_starting_letter_word[first_letter].append(word)  # append to list\n",
    "\n",
    "\n",
    "print(f\"The words grouped by their first letters are: {map_starting_letter_word}. \\n\")"
   ]
  },
  {
   "cell_type": "markdown",
   "id": "8ade06b0-ffe9-4894-9bf0-86f5ee1a16a8",
   "metadata": {},
   "source": [
    "### \n",
    "### We may iterate over `dict`s in the following way:\n",
    "### 1. `dict.keys()` - iterate over the keys, in the order the keys were added to the `dict`\n",
    "### 2. `dict.values()` - iterate over the values, in the order dictated by `.keys()`.\n",
    "### 3. `dict.items()` - iterate over key-value pairs, same order.\n",
    "### \n",
    "### Example:"
   ]
  },
  {
   "cell_type": "code",
   "execution_count": null,
   "id": "54a20ec3-5306-48be-bd7a-c9d6c9011927",
   "metadata": {},
   "outputs": [],
   "source": [
    "for i, key in enumerate(map_starting_letter_word.keys()):\n",
    "    print(f\"{i}-th key: {key}. \\n\")\n",
    "\n",
    "for i, value in enumerate(map_starting_letter_word.values()):\n",
    "    print(f\"{i}-th value: {value}. \\n\")\n",
    "\n",
    "for i, (key, value) in enumerate(map_starting_letter_word.items()):\n",
    "    print(f\"{i}-th key-value pair: {(key, value)}. \\n\")"
   ]
  },
  {
   "cell_type": "markdown",
   "id": "a92a44c2-f26b-4248-87dd-a207f1f836f4",
   "metadata": {},
   "source": [
    "### \n",
    "\n",
    "<hr style=\"border:1px solid blue\">\n",
    "\n",
    "### \n",
    "# <u>Lesson 3</u>: Comprehensions\n",
    "###\n",
    "### Since Python is an interpreted language, `for` loops are slower than in compiled languages.\n",
    "### But why exactly is that?\n",
    "###\n",
    "### Consider the following loop:\n",
    "###\n",
    "``` Python\n",
    "N = 2500\n",
    "\n",
    "numbers_squared = []\n",
    "for i in range(N):\n",
    "    numbers_squared.append(i**2)\n",
    "```\n",
    "###\n",
    "### At first glance, we might expect this to be as expensive as squaring `N == 2500` integers.\n",
    "### However, Python’s dynamic nature introduces several additional steps per iteration:\n",
    "###\n",
    "### 1. The `for` loop requests the next number from `range(N)`, calling `__next__()` on the iterator.\n",
    "### 2. Python retrieves `i` and confirms it is an `int` (implicit type tracking).\n",
    "### 3. The expression `i**2` triggers a method lookup for `int.__pow__`.\n",
    "### 4. If `i**2` is a small integer, Python reuses a cached value; otherwise, a new integer object is allocated.\n",
    "### 5. Python looks up `numbers_squared.append` (method resolution).\n",
    "### 6. The new integer is appended to the list, which may trigger **resizing** (if capacity is exceeded).\n",
    "### 7. If resizing occurs:\n",
    "###    - A **new larger memory block** is allocated.\n",
    "###    - Existing elements are **copied over**.\n",
    "###    - The old block is **marked for garbage collection**.\n",
    "### 8. The interpreter processes **each bytecode instruction**, introducing additional overhead.\n",
    "###\n",
    "### In contrast, a compiled language like C would execute just one machine instruction for `i**2`\n",
    "### and use a **preallocated** array, avoiding all dynamic lookups and memory resizing.\n",
    "###\n",
    "### Because of Python's dynamic execution model, the actual runtime of a loop is often \n",
    "### 10-100 times slower than an equivalent compiled C implementation.\n",
    "### However, the **asymptotic complexity** remains $\\mathcal{O}(N)$, since the number of operations \n",
    "### still grows linearly with the input size.\n",
    "###\n",
    "### We will learn in lesson 3 how you can achieve `C`-like performance also in `Python` under\n",
    "### the right circumstances and the use of the right tools.\n",
    "### \n",
    "### In what follows, we will discuss `comprehension`s. They have two main advantages:\n",
    "### \n",
    "### 1. They're often more readable.\n",
    "### 2. They are a tad faster because they allow `Python` to skip a few of the above steps.\n",
    "### \n",
    "### One optimization that `comprehension`s enable is avoiding `resizing` because `Python`\n",
    "### can often determine the outcome's number of elements before entering the loop,\n",
    "### thus allowing for preallocation of a container with the right size.\n",
    "### \n",
    "### The speedup is limited, however, and amounts to an average of about $15-20$%:"
   ]
  },
  {
   "cell_type": "code",
   "execution_count": null,
   "id": "85894af5-e87f-49c0-8f37-30c40a8893f8",
   "metadata": {},
   "outputs": [],
   "source": [
    "def for_loop():\n",
    "    numbers_squared = []\n",
    "    for i in range(2500):\n",
    "        numbers_squared.append(i**2)\n",
    "    return numbers_squared\n",
    "\n",
    "\n",
    "def comprehension():\n",
    "    return [i**2 for i in range(2500)]\n",
    "\n",
    "\n",
    "%timeit for_loop()\n",
    "%timeit comprehension()"
   ]
  },
  {
   "cell_type": "markdown",
   "id": "9a84b983-614d-412c-b7be-86cf97aa93e0",
   "metadata": {},
   "source": [
    "### \n",
    "<hr style=\"border:1px solid blue\">\n",
    "\n",
    "### \n",
    "### In the above, we have the line\n",
    "```Python\n",
    "[i**2 for i in range(2500)]\n",
    "```\n",
    "### \n",
    "### Here is how you should read it:\n",
    "### \"Square `i` for each `i` in the range from `0` to (excl.) `2500`.\"\n",
    "### With a little practice, this syntax is very straightforward and more readable than a for loop.\n",
    "###\n",
    "### Since we're using square brackets, the result is plopped into a `list`.\n",
    "### However, `tuple`s work too:"
   ]
  },
  {
   "cell_type": "code",
   "execution_count": null,
   "id": "3ac7d16c-d2c1-4d3b-80ce-007f42f1b1e3",
   "metadata": {},
   "outputs": [],
   "source": [
    "# only 25 items for the sake of the print statement\n",
    "squared_integers = tuple(i**2 for i in range(25))\n",
    "\n",
    "print(squared_integers)"
   ]
  },
  {
   "cell_type": "markdown",
   "id": "9879d0ad-0ddd-4147-a826-30e820761c7e",
   "metadata": {},
   "source": [
    "### \n",
    "### In lesson 5, we will learn why we have to use `tuple(i**2 for ...)` and not just `(i**2 for ...)`.\n",
    "### \n",
    "<hr style=\"border:1px solid blue\">\n",
    "\n",
    "### \n",
    "### Comprehensions can be combined with an optional `if` statement:"
   ]
  },
  {
   "cell_type": "code",
   "execution_count": null,
   "id": "aff6a628-59ac-4e7f-bc95-351688ed8487",
   "metadata": {},
   "outputs": [],
   "source": [
    "incomplete_values = [1, None, 3, 4, 5, None, 7, None, 9, 10]\n",
    "\n",
    "\n",
    "# squaring would raise an error if `val is None`.\n",
    "# read: square `val` for all `val` in `incomplete_values` but only if `val is not None`.\n",
    "squared_values = [val**2 for val in incomplete_values if val is not None]\n",
    "\n",
    "print(f\"All values that are not None, squared: {squared_values}. \\n\")"
   ]
  },
  {
   "cell_type": "markdown",
   "id": "c6e1e9f9-3ece-41c6-8383-da4d2589d26a",
   "metadata": {},
   "source": [
    "### \n",
    "### The main reason why `comprehension`s tend to be more readable\n",
    "### is that they place the main operation (here: `i**2`) at the beginning.\n",
    "### \n",
    "<hr style=\"border:1px solid blue\">\n",
    "\n",
    "###\n",
    "### Comprehensions can also conveniently be combined with an `if-else` clause:"
   ]
  },
  {
   "cell_type": "code",
   "execution_count": null,
   "id": "cf26bb6b-4dac-47a8-a769-2f67f7205145",
   "metadata": {},
   "outputs": [],
   "source": [
    "incomplete_values = [1, None, 3, 4, 5, None, 7, None, 9, 10]\n",
    "\n",
    "\n",
    "# read: add `0` if `val is None` else `val**2` for all `val` in `incomplete_values`\n",
    "squared_values_with_default = [0 if val is None else val**2 for val in incomplete_values]\n",
    "\n",
    "print(f\"All squared values with None**2 == 0: {squared_values_with_default}. \\n\")"
   ]
  },
  {
   "cell_type": "markdown",
   "id": "09e4e096-4b23-4781-87e1-503984744730",
   "metadata": {},
   "source": [
    "### \n",
    "### When you fill in some missing words such as _\"if\"_ $\\implies$ _\"but only if\"_\n",
    "### or _\"for\"_ $\\implies$ _\"for all\"_, many of these comprehensions read\n",
    "### just like **comtemporary English** !\n",
    "### This is their main strength and a main contributor of `Python`'s great readability.\n",
    "### \n",
    "### Comprehensions existed before Python, notably in Haskell. \n",
    "### However, Python played a key role in popularizing them, \n",
    "### making them a central and widely used feature of the language.\n",
    "### \n",
    "<hr style=\"border:1px solid blue\">\n",
    "\n",
    "### \n",
    "### Also `hash`-based data structures have comprehensions.\n",
    "### For example `set`:"
   ]
  },
  {
   "cell_type": "code",
   "execution_count": null,
   "id": "9a32256e-2f82-4e07-817a-b36c1ac253d8",
   "metadata": {},
   "outputs": [],
   "source": [
    "incomplete_values_with_duplicates = [1, 1, None, 3, 4, 4, 5, None, None, 7, None, 9, 9, 10]\n",
    "\n",
    "\n",
    "# note that duplicates are ignored\n",
    "squared_values_without_duplicates = set(val**2 for val in incomplete_values_with_duplicates if val is not None)\n",
    "\n",
    "\n",
    "print(f\"The squared values without duplicates (in random order): {squared_values_without_duplicates}. \\n\")"
   ]
  },
  {
   "cell_type": "markdown",
   "id": "c4d406fd-f3b9-4655-8af4-02da9e5cfa54",
   "metadata": {},
   "source": [
    "### \n",
    "### Another way to do this is using curly braces without a `:` (colon) to indicate\n",
    "### key-value pairs:"
   ]
  },
  {
   "cell_type": "code",
   "execution_count": null,
   "id": "2434428a-9ca6-4776-8daa-8b8aea28cdde",
   "metadata": {},
   "outputs": [],
   "source": [
    "incomplete_values_with_duplicates = [1, 1, None, 3, 4, 4, 5, None, None, 7, None, 9, 9, 10]\n",
    "\n",
    "\n",
    "# curly braces refer to hash sets if the entries do not come in key-value pairs\n",
    "squared_values_without_duplicates = {val**2 for val in incomplete_values_with_duplicates if val is not None}\n",
    "\n",
    "\n",
    "print(f\"The squared values without duplicates (in random order): {squared_values_without_duplicates}. \\n\")"
   ]
  },
  {
   "cell_type": "markdown",
   "id": "c4acd30e-6d4c-4c9d-af03-906fe953febe",
   "metadata": {},
   "source": [
    "### \n",
    "<hr style=\"border:1px solid blue\">\n",
    "\n",
    "### \n",
    "### For `dict` comprehensions we use `key: value` pairs inside of curly braces `{key: value for ... }`:"
   ]
  },
  {
   "cell_type": "code",
   "execution_count": null,
   "id": "a7418d70-af17-4407-bcde-2eed106188e1",
   "metadata": {},
   "outputs": [],
   "source": [
    "incomplete_values_with_duplicates = [1, 1, None, 3, 4, 4, 5, None, None, 7, None, 9, 9, 10]\n",
    "\n",
    "\n",
    "map_value_to_square = {val: val**2 for val in incomplete_values_with_duplicates if val is not None}\n",
    "\n",
    "\n",
    "# note that the `dict`'s key-value pairs appear ordered !\n",
    "print(f\"All value - squared value pairs: {map_value_to_square}. \\n\")"
   ]
  },
  {
   "cell_type": "markdown",
   "id": "e05167f9-2c0d-4283-b9ea-3c64edc4f2eb",
   "metadata": {},
   "source": [
    "### Here, `dict` comprehensions are conveniently combined with\n",
    "### `dict.keys()`, `dict.values()`, `dict.items()`:"
   ]
  },
  {
   "cell_type": "code",
   "execution_count": null,
   "id": "1e7142f2-cc9f-4ec7-a69c-4d98287d5271",
   "metadata": {},
   "outputs": [],
   "source": [
    "incomplete_values_with_duplicates = [1, 1, None, 3, 4, 4, 5, None, None, 7, None, 9, 9, 10]\n",
    "\n",
    "\n",
    "map_value_to_square = {val: val**2 for val in incomplete_values_with_duplicates if val is not None}\n",
    "\n",
    "\n",
    "map_square_to_root = {val: key for key, val in map_value_to_square.items()}\n",
    "\n",
    "print(f\"Inverting `{map_value_to_square}` gives: `{map_square_to_root}`. \\n\")"
   ]
  },
  {
   "cell_type": "markdown",
   "id": "fad7f4cd-03b5-4969-98dc-344c805a4229",
   "metadata": {},
   "source": [
    "### \n",
    "<hr style=\"border:1px solid blue\">\n",
    "\n",
    "### \n",
    "### This begs the question - when should you NOT use comprehensions ?\n",
    "### The answer is **when they don't enhance readability**.\n",
    "### It can sometimes be hard to make that distinction and this needs to be decided\n",
    "### on a case-to-case basis. However, below an example where I would recommend\n",
    "### the use of a simple `for`-loop:"
   ]
  },
  {
   "cell_type": "code",
   "execution_count": null,
   "id": "1e44e993-a9cb-4ace-b7ab-d4e747aa801d",
   "metadata": {},
   "outputs": [],
   "source": [
    "incomplete_values = [1, None, 3, 4, 5, None, 7, None, 9, 10]\n",
    "\n",
    "\n",
    "# read: add `0` if `val is None` else `val**2` for all `val` in `incomplete_values` if `val is None` or `val < 5`\n",
    "sqrd_vals_smaller_5 = [0 if val is None else val**2 for val in incomplete_values if val is None or val < 5]\n",
    "\n",
    "# comprehension doesn't help much here ...\n",
    "\n",
    "\n",
    "\n",
    "# now the more readable for-loop version:\n",
    "sqrd_vals_smaller_5_for = []\n",
    "\n",
    "for val in incomplete_values:\n",
    "    if val is None: \n",
    "        sqrd_vals_smaller_5_for.append(0)\n",
    "    elif val < 5:  # inequality check will not raise an error because val is not None\n",
    "        sqrd_vals_smaller_5_for.append(val**2)\n",
    "    # else: do nothing ...\n",
    "\n",
    "print(f\"Filtering with comprehension yields: {sqrd_vals_smaller_5}. \\n\")\n",
    "print(f\"Filtering with for loop yields: {sqrd_vals_smaller_5_for}. \\n\")"
   ]
  },
  {
   "cell_type": "markdown",
   "id": "82238e05-5912-4ecd-8852-89dd8f63fbe6",
   "metadata": {},
   "source": [
    "### Note that we need to say `if val is None or val < 5` instead of `if val < 5` because `None < 5` raises an error.\n",
    "### \n",
    "### As a little appetizer for lecture 1, here a version showing how an experienced programmer might solve this problem:"
   ]
  },
  {
   "cell_type": "code",
   "execution_count": null,
   "id": "9ef74135-c745-4354-8ebe-d55b1c8746da",
   "metadata": {},
   "outputs": [],
   "source": [
    "incomplete_values = [1, None, 3, 4, 5, None, 7, None, 9, 10]\n",
    "\n",
    "\n",
    "# this version uses the so-called walrus operator `:=` and Python `truthiness` for a more elegant solution\n",
    "sqrd_vals_smaller_5 = [y**2 for val in incomplete_values if (y := val or 0) < 5]\n",
    "# we will learn about both in lecture 1\n",
    "\n",
    "print(f\"Filtering with idiomatic comprehension yields: {sqrd_vals_smaller_5}. \\n\")"
   ]
  },
  {
   "cell_type": "markdown",
   "id": "b6f82043-4ed7-450e-9a39-9372c3512651",
   "metadata": {},
   "source": [
    "### \n",
    "\n",
    "<hr style=\"border:1px solid blue\">\n",
    "\n",
    "### \n",
    "# <u>Lesson 4</u>: Iteration using `enumerate` and `zip`\n",
    "### \n",
    "### A common mistake that inexperienced `Python` programmers make\n",
    "### is indexing into container-types instead of simply iterating\n",
    "### over them directly:"
   ]
  },
  {
   "cell_type": "code",
   "execution_count": null,
   "id": "6bcb11d8-6cfb-4eab-8165-06a13976afb8",
   "metadata": {},
   "outputs": [],
   "source": [
    "# Fibonacci sequence\n",
    "container = [0, 1, 1, 2, 3, 5, 8, 13]\n",
    "\n",
    "for i in range(len(container)):\n",
    "    myentry = container[i]\n",
    "    print(f\"The {i}-th entry of `container` is: {myentry}. \\n\")"
   ]
  },
  {
   "cell_type": "markdown",
   "id": "b3e4b4f5-bd68-4df7-94d9-9d188beecb02",
   "metadata": {},
   "source": [
    "### \n",
    "### Above example would suggest that we have to use a `range` statement\n",
    "### because we need to have acces of the entry's index `i` in the `print` statement.\n",
    "### However, there is nevertheless a better way. Observe the following:"
   ]
  },
  {
   "cell_type": "code",
   "execution_count": null,
   "id": "2dd57a5d-cef4-42e2-a2eb-a32cbc9df58a",
   "metadata": {},
   "outputs": [],
   "source": [
    "# Fibonacci sequence\n",
    "container = [0, 1, 1, 2, 3, 5, 8, 13]\n",
    "\n",
    "for i, myentry in enumerate(container):\n",
    "    print(f\"The {i}-th entry of `container` is: {myentry}. \\n\")"
   ]
  },
  {
   "cell_type": "markdown",
   "id": "fda38c96-af9d-4722-8644-1c35eaa31ffa",
   "metadata": {},
   "source": [
    "### \n",
    "### Here we were able to avoid one line of boilerplate code `myentry = container[i]`\n",
    "### by using an `enumerate` statement which returns the index of the iteration\n",
    "### along with the container's corresponding entry in pairs.\n",
    "###\n",
    "\n",
    "<hr style=\"border:1px solid blue\">\n",
    "\n",
    "### \n",
    "### This may not seem like a big deal (in terms of readability) but observe what\n",
    "### happens if we have a couple of these:"
   ]
  },
  {
   "cell_type": "code",
   "execution_count": null,
   "id": "687ca5f7-9c66-4c28-8b35-54dec42a10b6",
   "metadata": {},
   "outputs": [],
   "source": [
    "basis0 = ('1',\n",
    "          'exp(1 * pi * 1j * x0)', \n",
    "          'exp(2 * pi * 1j * x0)')\n",
    "\n",
    "basis1 = ('1', 'x1', 'x1^2')\n",
    "\n",
    "basis2 = ('exp(-(x2 - 0.0)^2)', 'exp(-(x2 - 0.5)^2)')\n",
    "\n",
    "\n",
    "# make all tensor-product basis functions\n",
    "for i in range(len(basis0)):\n",
    "    func0 = basis0[i]\n",
    "    for j in range(len(basis1)):\n",
    "        func1 = basis1[j]\n",
    "        for k in range(len(basis2)):\n",
    "            func2 = basis2[k]\n",
    "            print(f\"The {(i, j, k)}-th basis function reads: {' * '.join([func0, func1, func2])}. \\n\")"
   ]
  },
  {
   "cell_type": "markdown",
   "id": "216ffe67-8683-4bb8-96d1-6d7a634eb5ba",
   "metadata": {},
   "source": [
    "### \n",
    "### Compare it to this:"
   ]
  },
  {
   "cell_type": "code",
   "execution_count": null,
   "id": "43a569bc-e213-49eb-86d8-f83b813e7186",
   "metadata": {},
   "outputs": [],
   "source": [
    "basis0 = ('1',\n",
    "          'exp(1 * pi * 1j * x0)', \n",
    "          'exp(2 * pi * 1j * x0)')\n",
    "\n",
    "basis1 = ('1', 'x1', 'x1^2')\n",
    "\n",
    "basis2 = ('exp(-(x2 - 0.0)^2)', 'exp(-(x2 - 0.5)^2)')\n",
    "\n",
    "\n",
    "for i, func0 in enumerate(basis0):\n",
    "    for j, func1 in enumerate(basis1):\n",
    "        for k, func2 in enumerate(basis2):\n",
    "            print(f\"The {(i, j, k)}-th basis function reads: {' * '.join([func0, func1, func2])}. \\n\")"
   ]
  },
  {
   "cell_type": "markdown",
   "id": "9b60d263-c58c-4e17-af40-3ca336d52163",
   "metadata": {},
   "source": [
    "### \n",
    "\n",
    "<hr style=\"border:1px solid blue\">\n",
    "\n",
    "### \n",
    "### In this lesson's first example, we were printing the `i`-th entry of the Fibonacci sequence.\n",
    "### However, we were doing so in the `Python` `0`-based indexing.\n",
    "### \n",
    "### If we want to print using `1`-based indexing, we could do it like this:"
   ]
  },
  {
   "cell_type": "code",
   "execution_count": null,
   "id": "53670ab0-e7fb-4132-b94f-ff8038a4d353",
   "metadata": {},
   "outputs": [],
   "source": [
    "# Fibonacci sequence\n",
    "container = [0, 1, 1, 2, 3, 5, 8, 13]\n",
    "\n",
    "for i, myentry in enumerate(container):\n",
    "    # just add 1 to i\n",
    "    print(f\"The {i + 1}-th entry of `container` is: {myentry}. \\n\")"
   ]
  },
  {
   "cell_type": "markdown",
   "id": "355d0868-1359-4efb-ba16-8174d33e75ac",
   "metadata": {},
   "source": [
    "### However, there is a better way to do it.\n",
    "### The `enumerate` iterator takes an optional keyword argument: `enumerate(iterable, start=0)`.\n",
    "### \n",
    "### We may therefore optionally pass a differing starting value:"
   ]
  },
  {
   "cell_type": "code",
   "execution_count": null,
   "id": "2b9976aa-82c0-4e14-91b2-4beb2ec905a3",
   "metadata": {},
   "outputs": [],
   "source": [
    "# Fibonacci sequence\n",
    "container = [0, 1, 1, 2, 3, 5, 8, 13]\n",
    "\n",
    "for i, myentry in enumerate(container, start=1):\n",
    "    print(f\"The {i + 1}-th entry of `container` is: {myentry}. \\n\")"
   ]
  },
  {
   "cell_type": "markdown",
   "id": "fc8e59a4-5a04-4498-915f-46267b41b08a",
   "metadata": {},
   "source": [
    "### \n",
    "### Since keyword arguments can also optionally be called like positional arguments,\n",
    "### it is common to simply overwrite the default like so:"
   ]
  },
  {
   "cell_type": "code",
   "execution_count": null,
   "id": "14eabd9f-bfdc-4f6d-b14e-1af60459a198",
   "metadata": {},
   "outputs": [],
   "source": [
    "# Fibonacci sequence\n",
    "container = [0, 1, 1, 2, 3, 5, 8, 13]\n",
    "\n",
    "for i, myentry in enumerate(container, 1):  # avoid the `start` keyword\n",
    "    print(f\"The {i}-th entry of `container` is: {myentry}. \\n\")"
   ]
  },
  {
   "cell_type": "markdown",
   "id": "b5a72900-fdcd-48ab-a041-e6c0ce9ff799",
   "metadata": {},
   "source": [
    "### \n",
    "### We may also use `enumerate` in a `dict` comprehension, for instance:"
   ]
  },
  {
   "cell_type": "code",
   "execution_count": null,
   "id": "88a584c4-82fb-4af3-bd48-3f4371ed0736",
   "metadata": {},
   "outputs": [],
   "source": [
    "# Fibonacci sequence\n",
    "container = [0, 1, 1, 2, 3, 5, 8, 13]\n",
    "\n",
    "map_index_to_fib_number = {i: val for i, val in enumerate(container, 1)}\n",
    "\n",
    "\n",
    "print(f\"A dict mapping the index to the number in the Fibonacci sequence: {map_index_to_fib_number}. \\n\")"
   ]
  },
  {
   "cell_type": "markdown",
   "id": "f456fb8a-4e93-4a52-9adc-671545d10177",
   "metadata": {},
   "source": [
    "### \n",
    "### We may also reverse the order:"
   ]
  },
  {
   "cell_type": "code",
   "execution_count": null,
   "id": "22737e2b-07bf-4b80-be77-2f5ed2dab8e4",
   "metadata": {},
   "outputs": [],
   "source": [
    "# Fibonacci sequence\n",
    "container = [0, 1, 1, 2, 3, 5, 8, 13]\n",
    "\n",
    "map_fib_number_to_index = {val: i for i, val in enumerate(container, 1)}\n",
    "\n",
    "\n",
    "print(f\"A dict mapping each Fibonacci number to its position in the sequence: {map_fib_number_to_index}. \\n\")"
   ]
  },
  {
   "cell_type": "markdown",
   "id": "d8201628-a39b-4f12-b2be-1e672cf7947f",
   "metadata": {},
   "source": [
    "### \n",
    "\n",
    "<hr style=\"border:1px solid blue\">\n",
    "\n",
    "### \n",
    "### Now imagine you wanna iterate over several containers at once.\n",
    "### Let's suppose, for now, that all containers have equal length.\n",
    "### Here is how an inexperienced programmer would likely do that:"
   ]
  },
  {
   "cell_type": "code",
   "execution_count": null,
   "id": "ba34290d-05ab-4cda-b8dd-15545fe6c952",
   "metadata": {},
   "outputs": [],
   "source": [
    "container0 = [0, 1, 2, 3, 4, 5]\n",
    "container1 = [0, 1, 4, 9, 16, 25]\n",
    "container2 = [0, 1, 8, 27, 64, 125]\n",
    "\n",
    "for i in range(len(container0)):\n",
    "    val = container0[i]\n",
    "    val_sqr = container1[i]\n",
    "    val_cub = container2[i]\n",
    "    print(f\"val = {val}, val**2 = {val_sqr}, val**3 = {val_cub}. \\n\")"
   ]
  },
  {
   "cell_type": "markdown",
   "id": "92a92879-05cb-488b-8a7f-c6a977bb44b6",
   "metadata": {},
   "source": [
    "### \n",
    "### To avoid container indexing, we may instead utilize a `zip` statement.\n",
    "### A `zip` statement allows us to simultaneously iterate over several container types.\n",
    "### The syntax of `zip` is `zip(iterator0, iterator1, ..., iteratorN, strict=False)`,\n",
    "### i.e., it takes as many objects we can iterate over (like containers) as we want\n",
    "### and has an optional `strict` argument that we'll discuss later.\n",
    "### Here is how you can improve above code:"
   ]
  },
  {
   "cell_type": "code",
   "execution_count": null,
   "id": "e2cf100b-4a31-4061-9700-9fb8097a828c",
   "metadata": {},
   "outputs": [],
   "source": [
    "container0 = [0, 1, 2, 3, 4, 5]\n",
    "container1 = [0, 1, 4, 9, 16, 25]\n",
    "container2 = [0, 1, 8, 27, 64, 125]\n",
    "\n",
    "for (val, val_sqr, val_cub) in zip(container0, container1, container2):\n",
    "    print(f\"val = {val}, val**2 = {val_sqr}, val**3 = {val_cub}. \\n\")"
   ]
  },
  {
   "cell_type": "markdown",
   "id": "5a57b850-19b9-4e6c-8552-7a3b38fb7902",
   "metadata": {},
   "source": [
    "### \n",
    "### The outer parentheses in `for (val, val_sqr, val_cub)` are optional and can be omitted:"
   ]
  },
  {
   "cell_type": "code",
   "execution_count": null,
   "id": "7ae06043-ba56-499b-a1a8-37bb40168ff5",
   "metadata": {},
   "outputs": [],
   "source": [
    "container0 = [0, 1, 2, 3, 4, 5]\n",
    "container1 = [0, 1, 4, 9, 16, 25]\n",
    "container2 = [0, 1, 8, 27, 64, 125]\n",
    "\n",
    "for val, val_sqr, val_cub in zip(container0, container1, container2):\n",
    "    print(f\"val = {val}, val**2 = {val_sqr}, val**3 = {val_cub}. \\n\")"
   ]
  },
  {
   "cell_type": "markdown",
   "id": "eba763b2-7c69-4098-a22d-6fb4ec239986",
   "metadata": {},
   "source": [
    "### \n",
    "### We will learn in lecture 1 when parentheses can be omitted and how `Python` infers them.\n",
    "### Here, omitting them serves the purpose of readability.\n",
    "### \n",
    "\n",
    "<hr style=\"border:1px solid blue\">\n",
    "\n",
    "### \n",
    "### The `strict=False` keyword argument can be set to `True`. The `zip` statement will then raise\n",
    "### an error in case one of the containers is longer than the others. This mainly serves the purpose\n",
    "### of debugging, making sure that you didn't accidentally create a container that's too long / short:"
   ]
  },
  {
   "cell_type": "code",
   "execution_count": null,
   "id": "53f1fc0a-2654-47ca-968c-76605b3d0c13",
   "metadata": {},
   "outputs": [],
   "source": [
    "container0 = [0, 1, 2, 3, 4, 5]\n",
    "container1 = [0, 1, 4, 9, 16, 25]\n",
    "container2_too_long = [0, 1, 8, 27, 64, 125, 216]  # you accidentally added one entry too much\n",
    "\n",
    "\n",
    "# will raise an error in the last iteration\n",
    "for val, val_sqr, val_cub in zip(container0, container1, container2_too_long, strict=True):\n",
    "    print(f\"val = {val}, val**2 = {val_sqr}, val**3 = {val_cub}. \\n\")"
   ]
  },
  {
   "cell_type": "markdown",
   "id": "c1c0af2d-7c05-4424-a146-37d630628847",
   "metadata": {},
   "source": [
    "### \n",
    "\n",
    "<hr style=\"border:1px solid blue\">\n",
    "\n",
    "### \n",
    "### Now imagine you do not only want to iterate over several containers at once but also keep track\n",
    "### of the iteration's index.\n",
    "### You can combine a `zip` statement with an `enumerate`:"
   ]
  },
  {
   "cell_type": "code",
   "execution_count": null,
   "id": "43a18fb9-f849-4ab6-8fa8-29c8eea06f03",
   "metadata": {},
   "outputs": [],
   "source": [
    "container0 = [0, 1, 2, 3, 4, 5]\n",
    "container1 = [0, 1, 4, 9, 16, 25]\n",
    "container2 = [0, 1, 16, 27, 64, 125]\n",
    "\n",
    "# here the parentheses (val, val_sqr, val_cub) are non-optional\n",
    "# (to separate what zip produces from what enumerate does)\n",
    "for i, (val, val_sqr, val_cub) in enumerate(zip(container0, container1, container2), 1):  # start counting at 1\n",
    "    print(f\"{i}-th iteration: val = {val}, val**2 = {val_sqr}, val**3 = {val_cub}. \\n\")"
   ]
  },
  {
   "cell_type": "markdown",
   "id": "a16d389a-b98b-4759-ba64-3bb01aeea83b",
   "metadata": {},
   "source": [
    "### \n",
    "### Note that `enumerate` is essentially a `zip` that combines one iterator\n",
    "### with a `range` statement:"
   ]
  },
  {
   "cell_type": "code",
   "execution_count": null,
   "id": "97b056f2-8be0-40d3-80e7-9be5ab934603",
   "metadata": {},
   "outputs": [],
   "source": [
    "container = [0, 1, 4, 9, 16, 25]\n",
    "\n",
    "# emulate an enumerate\n",
    "for i, val in zip(range(len(container)), container):\n",
    "    print(i, val)"
   ]
  },
  {
   "cell_type": "markdown",
   "id": "b8692af7-f9d3-4e12-b8f8-ec1aa682d91b",
   "metadata": {},
   "source": [
    "### \n",
    "\n",
    "<hr style=\"border:1px solid blue\">\n",
    "\n",
    "### \n",
    "### As before, we may also utilize `zip` in a comprehension.\n",
    "### This is particularly useful for `dict` comprehensions, to create key-value pairs:"
   ]
  },
  {
   "cell_type": "code",
   "execution_count": null,
   "id": "cc81da2f-bf61-4e12-a6b5-4593c7cb73f7",
   "metadata": {},
   "outputs": [],
   "source": [
    "keys_with_missing_data = [5, None, 7, 8, None, 10]\n",
    "values = [0, 1, 1, 2, 3, 5]\n",
    "\n",
    "map_existing_key_to_val = {key: val for key, val in zip(keys_with_missing_data, values) if key is not None}\n",
    "\n",
    "print(map_existing_key_to_val)"
   ]
  },
  {
   "cell_type": "markdown",
   "id": "a5fbba86-7a7e-483a-a08b-6f9c981992ae",
   "metadata": {},
   "source": [
    "### \n",
    "### If we don't require the `if` statement, another way of doing this is to \n",
    "### immediately plop the `zip` into a `dict`:"
   ]
  },
  {
   "cell_type": "code",
   "execution_count": null,
   "id": "bb6bfc3c-d982-48f1-851c-f0cd1a4b2f9e",
   "metadata": {},
   "outputs": [],
   "source": [
    "keys = [5, 6, 7, 8, 9, 10]\n",
    "values = [0, 1, 1, 2, 3, 5]\n",
    "\n",
    "map_key_to_val = dict(zip(keys, values))\n",
    "\n",
    "print(map_key_to_val)"
   ]
  },
  {
   "cell_type": "markdown",
   "id": "b706602b-32c0-4ae8-a643-dc94f0c819c7",
   "metadata": {},
   "source": [
    "### \n",
    "\n",
    "<hr style=\"border:1px solid blue\">\n",
    "\n",
    "### "
   ]
  },
  {
   "cell_type": "markdown",
   "id": "5312ce14-825f-481c-bc17-34e535216f1c",
   "metadata": {},
   "source": [
    "# <u>Lesson 5</u>: Generators and Generator Expressions\n",
    "###\n",
    "### We'll keep this lesson brief, as an in-depth understanding is not required for this Python course.\n",
    "### \n",
    "### We have seen in previous lessons how we can utilize comprehensions\n",
    "### to conveniently create containers (such as `list, tuple, set, ...`) in\n",
    "### one line of code. \n",
    "### \n",
    "### <u> Task </u>:\n",
    "### Given some positive integer `N`, starting from `val = 0`, for all integers `i` from `1` to `N` do:\n",
    "### 1. If the digits of `i` squared sum to a number `y` that divisible by three, add `i % 3`.\n",
    "### 2. Else, subtract `i % 2` (the remainder of `i` divided by `2`).\n",
    "### \n",
    "### Below, a `for`-loop version:"
   ]
  },
  {
   "cell_type": "code",
   "execution_count": null,
   "id": "f05f5cb4-5357-4453-bdea-2fb88ab11c6c",
   "metadata": {},
   "outputs": [],
   "source": [
    "N = 5000000\n",
    "\n",
    "\n",
    "def digit_sum_divisible_by_3(val: int):\n",
    "    # Convert `val` to string, iterate over the letters, convert them\n",
    "    # back to int`s, square them and take the sum.\n",
    "    \n",
    "    # If the sum is divisible by 3, return True. Else return False.\n",
    "    return sum([ int(digit)**2 for digit in str(val) ]) % 3 == 0\n",
    "\n",
    "\n",
    "val = 0\n",
    "for i in range(1, N+1):\n",
    "    if digit_sum_divisible_by_3(i):\n",
    "        val += i % 3\n",
    "    else:\n",
    "        val -= i % 2\n",
    "\n",
    "print(f\"For N == {N}, the outcome equals: {val}. \\n\")"
   ]
  },
  {
   "cell_type": "markdown",
   "id": "95adbed8-bf07-4e9e-bace-1053d7136e92",
   "metadata": {},
   "source": [
    "### \n",
    "### To be continued ..."
   ]
  },
  {
   "cell_type": "code",
   "execution_count": null,
   "id": "a415863e-5d45-4b30-9bbe-c3ad0e6b1345",
   "metadata": {},
   "outputs": [],
   "source": []
  }
 ],
 "metadata": {
  "kernelspec": {
   "display_name": "Python 3 (ipykernel)",
   "language": "python",
   "name": "python3"
  },
  "language_info": {
   "codemirror_mode": {
    "name": "ipython",
    "version": 3
   },
   "file_extension": ".py",
   "mimetype": "text/x-python",
   "name": "python",
   "nbconvert_exporter": "python",
   "pygments_lexer": "ipython3",
   "version": "3.12.0"
  }
 },
 "nbformat": 4,
 "nbformat_minor": 5
}
