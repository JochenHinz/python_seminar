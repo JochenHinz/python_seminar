{
 "cells": [
  {
   "cell_type": "markdown",
   "id": "10fccbb0",
   "metadata": {},
   "source": [
    "# <u>An introduction to Numpy vectorisation</u>\n",
    "## Or: the science of avoiding for loops in Python\n",
    "### \n",
    "\n",
    "<hr style=\"border:1px solid blue\">\n",
    "\n",
    "### \n",
    "### This notebook serves as supplementary material for the class `Advanced Scientific Programming in Python` class.\n",
    "### It is based on various guest lectures I have given on `Numpy` vectorization at EPFL and other institutions.\n",
    "### \n",
    "\n",
    "<hr style=\"border:1px solid blue\">\n",
    "\n",
    "### \n",
    "###\n",
    "### `Numpy` is the de-facto standard for doing \"`Matlab`\" stuff in Python.\n",
    "### It is widely regarded as one of the best open-source libraries for scientific computing / academic programming in existence\n",
    "### and has contributed substantially to the establishment of Python as a standard language in the academic sector.\n",
    "\n",
    "### \n",
    "\n",
    "<hr style=\"border:1px solid blue\">\n",
    "\n",
    "### \n",
    "\n",
    "### As we all know, the most important `object` that `numpy` provides is the `numpy.ndarray`.\n",
    "\n",
    "### A `numpy.ndarray` can be regarded as a `list of lists` containing numeric data or (in more exotic cases), other python `objects`.\n",
    "### The `list of lists` statement is evidenced by the fact that we can convert `numpy.ndarray`'s to lists and vice-versa."
   ]
  },
  {
   "cell_type": "code",
   "execution_count": null,
   "id": "13ba32a8",
   "metadata": {},
   "outputs": [],
   "source": [
    "import numpy as np\n",
    "\n",
    "# array [0, 1, 2, ..., 9]\n",
    "arr = np.arange(10)\n",
    "\n",
    "print('`arr` as a list: ', arr.tolist(), '\\n')\n",
    "\n",
    "# list [0, 1, 2, ..., 9]\n",
    "arr_list = list(range(10))\n",
    "\n",
    "print('`arr_list` as an array: ', np.asarray(arr_list))"
   ]
  },
  {
   "cell_type": "markdown",
   "id": "e604784f",
   "metadata": {},
   "source": [
    "*** \n",
    "### \n",
    "### A key difference is the way we can manipulate `numpy.ndarray`'s using mathematical operations.\n",
    "\n",
    "### \n",
    "\n",
    "### <u> Example </u>:"
   ]
  },
  {
   "cell_type": "code",
   "execution_count": null,
   "id": "099baf61",
   "metadata": {},
   "outputs": [],
   "source": [
    "import numpy as np\n",
    "\n",
    "arr = np.arange(10)\n",
    "\n",
    "print('`arr + arr` as a numpy array: ', arr + arr, '\\n')\n",
    "\n",
    "print('`arr + arr` as a list: ', arr.tolist() + arr.tolist())"
   ]
  },
  {
   "cell_type": "markdown",
   "id": "ec48eefc",
   "metadata": {},
   "source": [
    "*** \n",
    "### \n",
    "\n",
    "### `numpy.ndarray`'s can have **ANY** shape. \n",
    "### And when I say **any** I mean (virtually) any.\n",
    "### <u> Example </u>:"
   ]
  },
  {
   "cell_type": "code",
   "execution_count": null,
   "id": "bac6f6b9",
   "metadata": {},
   "outputs": [],
   "source": [
    "import numpy as np\n",
    "\n",
    "a0 = np.array(0)\n",
    "a1 = np.array([0, 1])\n",
    "a2 = np.array([[0, 1], [0, 1]])\n",
    "\n",
    "# and so on ....\n",
    "\n",
    "a10 = np.array([[[[[[[[[[0, 1], [0, 1]]]]]]]]]])\n",
    "\n",
    "print(a0.shape)\n",
    "print(a1.shape)\n",
    "print(a2.shape)\n",
    "print(a10.shape)"
   ]
  },
  {
   "cell_type": "markdown",
   "id": "121a0a2e",
   "metadata": {},
   "source": [
    "*** \n",
    "### \n",
    "\n",
    "## One last thing:\n",
    "### What happens when I do this ?"
   ]
  },
  {
   "cell_type": "code",
   "execution_count": null,
   "id": "4cbf6675",
   "metadata": {},
   "outputs": [],
   "source": [
    "import numpy as np\n",
    "\n",
    "arr = np.array([[0, 1, 2], [3, 4]])"
   ]
  },
  {
   "cell_type": "markdown",
   "id": "3d57385b",
   "metadata": {},
   "source": [
    "### It didn't work because `[[0, 1, 2], [3, 4]]` is not a valid tensor. "
   ]
  },
  {
   "cell_type": "markdown",
   "id": "678a6318",
   "metadata": {},
   "source": [
    "<hr style=\"border:1px solid blue\">\n",
    "\n",
    "### \n",
    "\n",
    "# <u>Lesson 1</u>: Numpy broadcasting.\n",
    "\n",
    "### "
   ]
  },
  {
   "cell_type": "code",
   "execution_count": null,
   "id": "f3e3d071",
   "metadata": {},
   "outputs": [],
   "source": [
    "%reset -f"
   ]
  },
  {
   "cell_type": "markdown",
   "id": "90287cbf",
   "metadata": {},
   "source": [
    "*** \n",
    "### \n",
    "## <u> Task </u> (towards matrix multiplication):\n",
    "### Given an array `mat` of shape `(n, m)` and an array `vec` of shape `(m,)`,\n",
    "### create the 2D array (matrix) `A`, with `A[i, j] = mat[i, j] * vec[j]`\n",
    "\n",
    "### "
   ]
  },
  {
   "cell_type": "code",
   "execution_count": null,
   "id": "22139db3",
   "metadata": {},
   "outputs": [],
   "source": [
    "import numpy as np\n",
    "\n",
    "n = 4\n",
    "m = 5\n",
    "\n",
    "# create arrays of shape (n, m) and (m,) with n = 4, m = 5\n",
    "mat = np.array([ [1, 2, 0, 0, 0],\n",
    "                 [2, 1, 0, 0, 0],\n",
    "                 [0, 1, 2, 3, 0],\n",
    "                 [4, 1, 3, 2, 5] ], dtype=float)\n",
    "\n",
    "vec = np.array([1, 3, 2, 5, 6], dtype=float)"
   ]
  },
  {
   "cell_type": "markdown",
   "id": "e4856924",
   "metadata": {},
   "source": [
    "*** \n",
    "### We start with the (non-pythonic) **C / C++ style solution**\n",
    "#### (seeing it breaks my heart)\n",
    "### "
   ]
  },
  {
   "cell_type": "code",
   "execution_count": null,
   "id": "19a9c51b",
   "metadata": {},
   "outputs": [],
   "source": [
    "# create an empty array of shape (n, m) and data type `float`\n",
    "A = np.empty((n, m), dtype=float)\n",
    "\n",
    "# populate the array using two nested for loops\n",
    "for i in range(n):\n",
    "    for j in range(m):\n",
    "        A[i, j] = mat[i, j] * vec[j]\n",
    "\n",
    "print(\"A equals: \\n \\n\", A)"
   ]
  },
  {
   "cell_type": "markdown",
   "id": "61824ec6",
   "metadata": {},
   "source": [
    "*** \n",
    "### It gets the job done but it **defeats the purpose of using python** !\n",
    "### "
   ]
  },
  {
   "cell_type": "markdown",
   "id": "7f026a72",
   "metadata": {},
   "source": [
    "***\n",
    "### On to the pythonic, vectorised solution.\n",
    "\n",
    "### The most important ingredient of vectorisation is adding new `artificial` axes.\n",
    "### For this, we utilise the `np.newaxis` variable.\n",
    "### \n",
    "*** \n",
    "### For the sake of readability, it is very common to set `_ = np.newaxis`\n",
    "### "
   ]
  },
  {
   "cell_type": "code",
   "execution_count": null,
   "id": "25c89afc",
   "metadata": {},
   "outputs": [],
   "source": [
    "# create the variable `_` as a reference to `np.newaxis`\n",
    "_ = np.newaxis"
   ]
  },
  {
   "cell_type": "markdown",
   "id": "4326b07b",
   "metadata": {},
   "source": [
    "*** \n",
    "### \n",
    "### Using our previous definition of `vec`, let us see what this does"
   ]
  },
  {
   "cell_type": "code",
   "execution_count": null,
   "id": "ed372937",
   "metadata": {},
   "outputs": [],
   "source": [
    "# read: `vec of newaxis comma everything`\n",
    "_vec = vec[_, :]"
   ]
  },
  {
   "cell_type": "markdown",
   "id": "2e8a1220",
   "metadata": {},
   "source": [
    "*** \n",
    "### \n",
    "### We print `_vec`'s shape to see what prepending an artificial axis did."
   ]
  },
  {
   "cell_type": "code",
   "execution_count": null,
   "id": "c58b6ea1",
   "metadata": {},
   "outputs": [],
   "source": [
    "print(\"The shape of _vec is: \", _vec.shape)"
   ]
  },
  {
   "cell_type": "markdown",
   "id": "94b472ad",
   "metadata": {},
   "source": [
    "*** \n",
    "### \n",
    "### Now both `mat` and `_vec` are matrices of shape `(4, 5)` and `(1, 5)`, respectively.\n",
    "### Common sense suggests that it shouldn't be possible to multiply them (elementwise).\n",
    "### \n",
    "*** \n",
    "### We'll try it anyways:"
   ]
  },
  {
   "cell_type": "code",
   "execution_count": null,
   "id": "044e5e40",
   "metadata": {},
   "outputs": [],
   "source": [
    "print(\"mat * _vec: \\n \\n\", mat * _vec, '\\n\\n')\n",
    "print(\"The C++ style A equals: \\n\\n\", A)"
   ]
  },
  {
   "cell_type": "markdown",
   "id": "354afd15",
   "metadata": {},
   "source": [
    "### \n",
    "### They are the same !!\n",
    "### \n",
    "*** \n",
    "### Can we understand why ?\n",
    "\n",
    "### \n",
    "\n",
    "### the `numpy.broadcast_shapes` function gives us the output shape of performing\n",
    "### `+, -, *, / , ...` between two (or more) arrays of given shapes."
   ]
  },
  {
   "cell_type": "code",
   "execution_count": null,
   "id": "662955aa",
   "metadata": {},
   "outputs": [],
   "source": [
    "# get the input shapes of `mat * _vec` and print the output shape as predicted by numpy\n",
    "input_shape0 = mat.shape\n",
    "input_shape1 = _vec.shape\n",
    "\n",
    "output_shape = np.broadcast_shapes(input_shape0, input_shape1)\n",
    "\n",
    "print(\"Multiplying arrays of shape {} and {} gives the output shape: {}.\".format(input_shape0, input_shape1, output_shape))"
   ]
  },
  {
   "cell_type": "markdown",
   "id": "05ea04fe",
   "metadata": {},
   "source": [
    "*** \n",
    "### \n",
    "### Somehow `numpy` must have filled in the missing values in the `1` axis of `_vec`.\n",
    "### We can utilise the `numpy.broadcast_to(arr, output_shape)` function to see what `_vec` was broadcast to under the hood:"
   ]
  },
  {
   "cell_type": "code",
   "execution_count": null,
   "id": "4a2c9b90",
   "metadata": {},
   "outputs": [],
   "source": [
    "_vec_broadcast = np.broadcast_to(_vec, output_shape)\n",
    "\n",
    "print('_vec broadcast to shape {} equals: \\n \\n'.format(output_shape), _vec_broadcast)"
   ]
  },
  {
   "cell_type": "markdown",
   "id": "c0984cc3",
   "metadata": {},
   "source": [
    "*** \n",
    "### \n",
    "### $\\implies$ Numpy has repeated the artificial `1` axis **as many times as necessary** to match the `output_shape`."
   ]
  },
  {
   "cell_type": "markdown",
   "id": "f12f6f26",
   "metadata": {},
   "source": [
    "*** \n",
    "### \n",
    "\n",
    "### In general, if two arrays have shapes \n",
    "### `(n0, n1, ..., nM)` and \n",
    "### `(m0, m1, ..., mM)`,\n",
    "### the output shape is: \n",
    "### `(max(n0, m0), max(n1, m1), ..., max(nM, mM))`. \n",
    "### If `ni != mi` then either `ni == 1` or `mi == 1` must hold.\n",
    "<hr style=\"border:1px solid blue\">"
   ]
  },
  {
   "cell_type": "markdown",
   "id": "81c43e52",
   "metadata": {},
   "source": [
    "### \n",
    "## <u>Exercise 1.1</u>:\n",
    "### What are the output shapes of performing `+, -, *, /, ...` between arrays of the following shapes ?\n",
    "\n",
    "### 1. `(5, 6)` and `(1, 6)`\n",
    "### 2. `(7, 1)` and `(1, 6)`\n",
    "### 3. `(1, 6)` and `(7, 2)`\n",
    "### 4. `(4, 5)` and `(5,)`  (make a guess)\n",
    "*** \n",
    "\n",
    "### \n",
    "## <u>Solution</u>:"
   ]
  },
  {
   "cell_type": "markdown",
   "id": "a2f8b6b5",
   "metadata": {},
   "source": [
    "### 1. `(5, 6)`\n",
    "### 2. `(7, 6)`\n",
    "### 3. Not allowed because `6 != 2` and none of them are `1` !\n",
    "### 4. `(4, 5)`"
   ]
  },
  {
   "cell_type": "markdown",
   "id": "121ea8f1",
   "metadata": {},
   "source": [
    "<hr style=\"border:1px solid blue\">\n",
    "\n",
    "### \n",
    "### In the last example, numpy has **prepended** as many `1` axes as necessary to match the shape of the longer array.\n",
    "### `(4, 5)` and `(5,)` becomes `(4, 5)` and `(1, 5)` becomes `(4, 5)` and `(4, 5)` (repeating the artificial `1` axis).\n",
    "\n",
    "### \n",
    "*** \n",
    "\n",
    "## <u>Example</u>:"
   ]
  },
  {
   "cell_type": "code",
   "execution_count": null,
   "id": "53eb5212",
   "metadata": {},
   "outputs": [],
   "source": [
    "mat = np.random.randn(4, 5)\n",
    "vec = np.random.randn(5)\n",
    "\n",
    "print('mat * vec == mat * vec[_, :] ? \\n\\n', mat * vec == mat * vec[_, :])"
   ]
  },
  {
   "cell_type": "markdown",
   "id": "8206c81a",
   "metadata": {},
   "source": [
    "*** \n",
    "### \n",
    "\n",
    "## <u>Exercise 1.2</u>:\n",
    "### What are the output shapes ?"
   ]
  },
  {
   "cell_type": "code",
   "execution_count": null,
   "id": "9835079b",
   "metadata": {},
   "outputs": [],
   "source": [
    "import numpy as np\n",
    "\n",
    "\n",
    "### 1.\n",
    "shape0, shape1 = (1, 6, 5), (5,)\n",
    "print('1: ', np.broadcast_shapes(shape0, shape1), '\\n')\n",
    "\n",
    "### 2.\n",
    "shape0, shape1 = (1, 5, 1), (6,)\n",
    "print('2: ', np.broadcast_shapes(shape0, shape1), '\\n')\n",
    "\n",
    "### 3. Multiply (5, 6) array by a number. Output shape ?\n",
    "arr0 = np.random.randn(5, 6)\n",
    "a = 5\n",
    "print('3: ', (a * arr0).shape)"
   ]
  },
  {
   "cell_type": "markdown",
   "id": "77290c41",
   "metadata": {},
   "source": [
    "<hr style=\"border:1px solid blue\">\n",
    "\n",
    "### \n",
    "### Now that we have gained an intuition for numpy broadcasting, we conclude this lession with a very important\n",
    "### \n",
    "## <u>Exercise 1.3</u>: \n",
    "### Given arrays `arr0` of shape `(5,)` and `arr1` of shape `(7,)`, create the `(5, 7)` array `abs_outer`\n",
    "### with `abs_outer[i, j] = abs(arr0[i] - arr1[j])`."
   ]
  },
  {
   "cell_type": "code",
   "execution_count": null,
   "id": "7e78bedd",
   "metadata": {},
   "outputs": [],
   "source": [
    "import numpy as np\n",
    "_ = np.newaxis\n",
    "\n",
    "arr0 = np.arange(5)\n",
    "arr1 = np.arange(7)"
   ]
  },
  {
   "cell_type": "markdown",
   "id": "46d0c0a8",
   "metadata": {},
   "source": [
    "*** \n",
    "### \n",
    "### The (wrong) *C*-style implementation first:"
   ]
  },
  {
   "cell_type": "code",
   "execution_count": null,
   "id": "cc7f09f2",
   "metadata": {},
   "outputs": [],
   "source": [
    "abs_outer_C = np.empty((5, 7), dtype=int)\n",
    "\n",
    "for i in range(5):\n",
    "    for j in range(7):\n",
    "        abs_outer_C[i, j] = abs(arr0[i] - arr1[j])"
   ]
  },
  {
   "cell_type": "markdown",
   "id": "d6178909",
   "metadata": {},
   "source": [
    "*** \n",
    "### \n",
    "### Now the correct implementation. \n",
    "### **HINT**: `np.abs` is the vectorised version of `abs` that can be applied elementwise to any array.\n",
    "### \n",
    "### <u>Solution</u>:"
   ]
  },
  {
   "cell_type": "code",
   "execution_count": null,
   "id": "66ed563a",
   "metadata": {},
   "outputs": [],
   "source": [
    "abs_outer = np.abs(arr0[:, _] - arr1[_, :])\n",
    "\n",
    "print('abs_outer equals abs_outer_C ? \\n\\n', abs_outer == abs_outer_C)"
   ]
  },
  {
   "cell_type": "markdown",
   "id": "bc1a01d9",
   "metadata": {},
   "source": [
    "<hr style=\"border:1px solid blue\">\n",
    "\n",
    "### \n",
    "\n",
    "# <u>Lesson 2</u>: Array contractions.\n",
    "\n",
    "### "
   ]
  },
  {
   "cell_type": "code",
   "execution_count": null,
   "id": "6b67ed19",
   "metadata": {},
   "outputs": [],
   "source": [
    "%reset -f"
   ]
  },
  {
   "cell_type": "markdown",
   "id": "4839b1dd",
   "metadata": {},
   "source": [
    "*** \n",
    "### \n",
    "### An often-encountered operation in scientific computing is summing an array over a specified axis.\n",
    "### We start with the most basic example.\n",
    "## <u>Task</u>: Given an array `arr` of shape `(n,)` sum all its elements."
   ]
  },
  {
   "cell_type": "code",
   "execution_count": null,
   "id": "28367035",
   "metadata": {},
   "outputs": [],
   "source": [
    "import numpy as np\n",
    "\n",
    "n = 5\n",
    "\n",
    "# the numbers [0, 1, 2, 3, 4]\n",
    "arr = np.arange(n)"
   ]
  },
  {
   "cell_type": "markdown",
   "id": "cfe384f9",
   "metadata": {},
   "source": [
    "*** \n",
    "### \n",
    "### We start with the (incorrect) **C**-style implementation\n",
    "#### (doing this will result in capital punishment)"
   ]
  },
  {
   "cell_type": "code",
   "execution_count": null,
   "id": "fb039b4d",
   "metadata": {},
   "outputs": [],
   "source": [
    "arr_sum_C = 0\n",
    "for i in range(n):\n",
    "    arr_sum_C += arr[i]\n",
    "    \n",
    "print('The C-style sum of {} equals: {}'.format(arr, arr_sum_C))"
   ]
  },
  {
   "cell_type": "markdown",
   "id": "234c7618",
   "metadata": {},
   "source": [
    "*** \n",
    "### \n",
    "### We may instead utilise the `numpy.sum` function to sum the elements of an array:"
   ]
  },
  {
   "cell_type": "code",
   "execution_count": null,
   "id": "29780bee",
   "metadata": {},
   "outputs": [],
   "source": [
    "arr_sum = np.sum(arr)\n",
    "\n",
    "print('The pythonic-style sum of {} equals: {}'.format(arr, arr_sum))"
   ]
  },
  {
   "cell_type": "markdown",
   "id": "fb8fe839",
   "metadata": {},
   "source": [
    "*** \n",
    "### \n",
    "### A more consise (but equivalent) syntax is immediately invoking the .sum function on `arr`:"
   ]
  },
  {
   "cell_type": "code",
   "execution_count": null,
   "id": "6c6a542e",
   "metadata": {},
   "outputs": [],
   "source": [
    "arr_sum = arr.sum()\n",
    "\n",
    "print('The pythonic-style sum of {} equals: {}'.format(arr, arr_sum))"
   ]
  },
  {
   "cell_type": "markdown",
   "id": "b1d0beae",
   "metadata": {},
   "source": [
    "<hr style=\"border:1px solid blue\">\n",
    "\n",
    "### "
   ]
  },
  {
   "cell_type": "markdown",
   "id": "db7a6372",
   "metadata": {},
   "source": [
    "### The `.sum()` function takes the optional keyword argument `axis=None`, where `None` sums over all of the array's axes.\n",
    "### Alternatively, `axis` can be an `int`, specifying one axis to sum over, or a `Sequence` of `int`'s for summing over several axes.\n",
    "*** "
   ]
  },
  {
   "cell_type": "markdown",
   "id": "7c69c82b",
   "metadata": {},
   "source": [
    "### \n",
    "## <u>Exercise 2.1</u>: \n",
    "### Given an array `arr` of shape `(n, m)` compute the array of shape `(n,)` containing\n",
    "### the $l^1(\\mathbb{R}^m)$-norm of each **row** of `arr`."
   ]
  },
  {
   "cell_type": "code",
   "execution_count": null,
   "id": "26397e2e",
   "metadata": {},
   "outputs": [],
   "source": [
    "import numpy as np\n",
    "\n",
    "# create the array\n",
    "\n",
    "# [[0, 1, -2, 3, -4], [-5, 6, -7, 8, -9]]\n",
    "\n",
    "# of shape (2, 5)\n",
    "\n",
    "arr = np.array([ [ 0, 1, -2, 3, -4],\n",
    "                 [-5, 6, -7, 8, -9] ])"
   ]
  },
  {
   "cell_type": "markdown",
   "id": "4996edf9",
   "metadata": {},
   "source": [
    "*** \n",
    "### \n",
    "### <u>Solution</u>:"
   ]
  },
  {
   "cell_type": "code",
   "execution_count": null,
   "id": "bbf815b5",
   "metadata": {},
   "outputs": [],
   "source": [
    "l1_norm_rows = np.abs(arr).sum(1)\n",
    "\n",
    "print('\\n'.join([\"The l^1 norm of {} equals {}.\".format(row, norm) for row, norm in zip(arr, l1_norm_rows)]))"
   ]
  },
  {
   "cell_type": "markdown",
   "id": "676d007e",
   "metadata": {},
   "source": [
    "<hr style=\"border:1px solid blue\">\n",
    "\n",
    "### \n",
    "## <u>Exercise 2.2</u>:\n",
    "### We are given an array `arr_of_matrices` of shape `(n, m, p)`.\n",
    "### \n",
    "### The `i`-th element along the zeroth axis represents a matrix of shape `(m, p)`\n",
    "### i.e, `arr_of_matrices[i, :, :]` is the `i`-th matrix.\n",
    "*** \n",
    "### \n",
    "### Compute the array `arr_frob` of shape `(n,)` containing the Frobenius norm of each matrix. \n",
    "### **FYI**: $ ||A||_F^2 = \\sum_i \\sum_j \\vert A_{ij} \\vert^2 $"
   ]
  },
  {
   "cell_type": "code",
   "execution_count": null,
   "id": "6e660733",
   "metadata": {},
   "outputs": [],
   "source": [
    "import numpy as np\n",
    "\n",
    "n, m, p = 9, 4, 6\n",
    "\n",
    "arr_of_matrices = np.arange(n * m * p).reshape((n, m, p))"
   ]
  },
  {
   "cell_type": "markdown",
   "id": "2171ae53",
   "metadata": {},
   "source": [
    "*** \n",
    "### \n",
    "### <u>Solution</u>:"
   ]
  },
  {
   "cell_type": "code",
   "execution_count": null,
   "id": "cbda0c5e",
   "metadata": {},
   "outputs": [],
   "source": [
    "arr_frob = np.sqrt((arr_of_matrices ** 2).sum(axis=(1, 2)))\n",
    "\n",
    "for matrix, norm in zip(arr_of_matrices, arr_frob):\n",
    "    print('The matrix \\n\\n{}\\n\\n has Frobenius norm ||A|| = {}. \\n\\n'.format(matrix, norm))"
   ]
  },
  {
   "cell_type": "markdown",
   "id": "a0f16338",
   "metadata": {},
   "source": [
    "<hr style=\"border:1px solid blue\">\n",
    "\n",
    "### \n",
    "\n",
    "### In this course, a particularly important application of vectorisation is\n",
    "### integration via quadrature.\n",
    "*** \n",
    "### \n",
    "### In one of the homework exercises, we have seen the following function\n",
    "### returning the `weights` and `points` of a Gaussian quadrature scheme over $(a, b)$."
   ]
  },
  {
   "cell_type": "code",
   "execution_count": null,
   "id": "bb07019b",
   "metadata": {},
   "outputs": [],
   "source": [
    "from typing import Tuple\n",
    "from numbers import Number\n",
    "import numpy as np\n",
    "\n",
    "\n",
    "def gauss_quadrature(a: Number, b: Number, order: int = 3) -> Tuple[np.ndarray, np.ndarray]:\n",
    "    \"\"\" Given the element boundaries `(a, b)`, return the weights and evaluation points\n",
    "        corresponding to a gaussian quadrature scheme of order `order`.\n",
    "\n",
    "        Parameters\n",
    "        ----------\n",
    "\n",
    "        a : `float`\n",
    "          the left boundary of the element\n",
    "        b : `float`\n",
    "          the right boundary of the element\n",
    "        order : `int`\n",
    "          the order of the Gaussian quadrature scheme\n",
    "\n",
    "        Returns\n",
    "        -------\n",
    "\n",
    "        weights : `np.ndarray`\n",
    "          the weights of the quadrature scheme\n",
    "        points : `np.ndarray`\n",
    "          the points (abscissae) over (a, b)\n",
    "    \"\"\"\n",
    "    assert b > a\n",
    "    points, weights = np.polynomial.legendre.leggauss(order)\n",
    "    points = (points + 1) / 2\n",
    "    return (b - a) / 2 * weights, a + points * (b - a)\n",
    "\n",
    "\n",
    "\n",
    "weights, points = gauss_quadrature(0, 1, 5)"
   ]
  },
  {
   "cell_type": "markdown",
   "id": "3af89009",
   "metadata": {},
   "source": [
    "*** \n",
    "### \n",
    "## <u>Task</u>:\n",
    "### Using the `weights` and `points` and vectorisation, approximate the cirumference `C(a, b)` of an ellipse\n",
    "### with major axes `a` and `b`.\n",
    "### \n",
    "\n",
    "### **FYI**: $C = \\int_{0}^1 2 \\pi \\sqrt{a^2 \\sin^2(2 \\pi x) + b^2 \\cos^2(2 \\pi x)} \\, \\mathrm{d} x$\n",
    "### \n",
    "### The integral needs to be computed in at most **two lines of code** !\n",
    "\n",
    "### We can utilise the `np.stack([arr0, arr1], axis=0)` function to stack two arrays along the\n",
    "### zeroth (first) axis.\n",
    "### "
   ]
  },
  {
   "cell_type": "code",
   "execution_count": null,
   "id": "7aa3e053",
   "metadata": {},
   "outputs": [],
   "source": [
    "def compute_ellipse_circumference(a: float, b: float, order: int = 5) -> float:\n",
    "    \"\"\"\n",
    "    Approximately compute the circumference of an ellipse with major axes of length `a` and `b`.\n",
    "    \n",
    "    Parameters\n",
    "    ----------\n",
    "    \n",
    "    a : `float`\n",
    "      the length of the first major axis\n",
    "    b : `float`\n",
    "      the length of the second major axis\n",
    "    order : `int`\n",
    "      the order of the gaussian quadrature scheme\n",
    "    \"\"\"\n",
    "    \n",
    "    # get gauss quadrature scheme over (0, 1) of order `order`\n",
    "    weights, points = gauss_quadrature(0, 1, order=order)\n",
    "    \n",
    "    # two lines\n",
    "    circle_points = np.stack([a * np.sin(2 * np.pi * points),\n",
    "                              b * np.cos(2 * np.pi * points)], axis=0)\n",
    "    \n",
    "    # We print the shape to see what `np.stack` did\n",
    "    print(circle_points.shape)\n",
    "    \n",
    "    return 2 * np.pi * (weights * ((circle_points**2).sum(0)**.5)).sum()\n",
    "\n",
    "\n",
    "# test:\n",
    "\n",
    "# a = b = 1 should give 2 pi\n",
    "\n",
    "for (a, b) in [(1, 1), (4, 5), (3, 3), (1, 9)]:\n",
    "    print(\"\\nThe circumference of the ellipse with (a, b) = {} equals approximately {}. \\n\".format((a, b), compute_ellipse_circumference(a, b)))"
   ]
  },
  {
   "cell_type": "markdown",
   "id": "c93a3810",
   "metadata": {},
   "source": [
    "<hr style=\"border:1px solid blue\">\n",
    "\n",
    "### \n",
    "\n",
    "### The concepts of broadcasting and `numpy.sum` contractions can be combined to\n",
    "### perform various important operations between arrays.\n",
    "*** \n",
    "### \n",
    "## <u>Task</u> (matrix multiplication):\n",
    "### Given `mat` of shape `(n, m)` and `vec` of shape `(m,)` use broadcasting + `numpy.sum`\n",
    "### to write a one-liner for matrix multiplication. Note that the output has shape `(n,)`.\n",
    "### We come back to the example from the beginning."
   ]
  },
  {
   "cell_type": "code",
   "execution_count": null,
   "id": "0dfbb581",
   "metadata": {},
   "outputs": [],
   "source": [
    "import numpy as np\n",
    "_ = np.newaxis\n",
    "\n",
    "n = 4\n",
    "m = 5\n",
    "\n",
    "# create arrays of shape (n, m) and (m,) with n = 4, m = 5\n",
    "mat = np.array([ [1, 2, 0, 0, 0],\n",
    "                 [2, 1, 0, 0, 0],\n",
    "                 [0, 1, 2, 3, 0],\n",
    "                 [4, 1, 3, 2, 5] ], dtype=float)\n",
    "\n",
    "vec = np.array([1, 3, 2, 5, 6], dtype=float)"
   ]
  },
  {
   "cell_type": "markdown",
   "id": "eb1261c0",
   "metadata": {},
   "source": [
    "***\n",
    "### \n",
    "### Three equivalent implementations:"
   ]
  },
  {
   "cell_type": "code",
   "execution_count": null,
   "id": "dd912200",
   "metadata": {},
   "outputs": [],
   "source": [
    "# option 0\n",
    "matvec0 = (mat * vec[_, :]).sum(1)\n",
    "\n",
    "# option 1 => vec of shape (5,) is automatically broadcast to (1, 5)\n",
    "matvec1 = (mat * vec).sum(1)\n",
    "\n",
    "# option 2, syntactic sugar for the above\n",
    "matvec2 = mat @ vec\n",
    "\n",
    "print('matvec0: \\n\\n', matvec0, '\\n\\n')\n",
    "print('matvec1: \\n\\n', matvec1, '\\n\\n')\n",
    "print('matvec2: \\n\\n', matvec2, '\\n\\n')"
   ]
  },
  {
   "cell_type": "markdown",
   "id": "66070b89",
   "metadata": {},
   "source": [
    "<hr style=\"border:1px solid blue\">\n",
    "\n",
    "### \n",
    "\n",
    "### we come to this lesson's last\n",
    "### \n",
    "## <u>Exercise 2.3</u>:\n",
    "### Given `arr0` of shape `(p, n)` and `arr1` of shape `(q, n)`,\n",
    "### compute the `(p, q)`-shaped matrix `dist` of **all** Euclidean\n",
    "### distances between the points represented by the rows of `arr0` and `arr1`.\n",
    "\n",
    "### \n",
    "### `dist[i, j]` = `||arr0[i, :] - arr1[j, :]||`.\n",
    "### \n",
    "\n",
    "### **HINT**:\n",
    "### `(p, n)` and `(q, n)` become\n",
    "### `(p, 1, n)` and `(1, q, n)` become \n",
    "### `(p, q, n)` and `(p, q, n)` becomes\n",
    "### `(p, q)`."
   ]
  },
  {
   "cell_type": "code",
   "execution_count": null,
   "id": "f8163a8c",
   "metadata": {},
   "outputs": [],
   "source": [
    "import numpy as np\n",
    "_ = np.newaxis\n",
    "\n",
    "\n",
    "p, q, n = 3, 4, 15\n",
    "\n",
    "arr0 = np.arange(p * n).reshape((p, n))\n",
    "arr1 = np.arange(q * n, 2 * q * n).reshape((q, n))"
   ]
  },
  {
   "cell_type": "markdown",
   "id": "b736fd3e",
   "metadata": {},
   "source": [
    "*** \n",
    "### \n",
    "### <u>Solution</u>:"
   ]
  },
  {
   "cell_type": "code",
   "execution_count": null,
   "id": "64171ed0",
   "metadata": {},
   "outputs": [],
   "source": [
    "dist = ((arr0[:, _, :] - arr1[_, :, :])**2).sum(2)**.5\n",
    "\n",
    "print(\"The `dist` matrix of shape (p, q) is given by: \\n\\n{}.\".format(dist))"
   ]
  },
  {
   "cell_type": "markdown",
   "id": "08b04d50",
   "metadata": {},
   "source": [
    "<hr style=\"border:1px solid blue\">\n",
    "\n",
    "### \n",
    "\n",
    "## <u>Lesson 3</u>: Advanced broadcasting (if time permits):\n",
    "### \n",
    "### We have seen how broadcasting can be utilised to perform various array\n",
    "### operations **without the use of for loops**.\n",
    "### \n",
    "### So far, the arrays always had a **fixed number of dimensions**.\n",
    "### In this lesson we learn advanced broadcasting techniques that are especially\n",
    "### useful for generalising array operations to **arbitrarily-shaped arrays**.\n",
    "*** \n",
    "\n",
    "### \n",
    "### We have seen how we can utilise `_ = np.newaxis` to prepend or append a new axis."
   ]
  },
  {
   "cell_type": "code",
   "execution_count": null,
   "id": "4d4f44fd",
   "metadata": {},
   "outputs": [],
   "source": [
    "import numpy as np\n",
    "_ = np.newaxis\n",
    "\n",
    "A = np.random.randn(4, 5)\n",
    "\n",
    "print('A.shape: ', A.shape, '\\n')\n",
    "print('A[_, :, :].shape: ', A[_, :, :].shape)"
   ]
  },
  {
   "cell_type": "markdown",
   "id": "7dfe30f5",
   "metadata": {},
   "source": [
    "### \n",
    "### What if the number of dimensions of `A` is not known at runtime ?\n",
    "### We do not know how many `:` to add at the end.\n",
    "*** \n",
    "\n",
    "### \n",
    "### There is good news. Let's try the following:"
   ]
  },
  {
   "cell_type": "code",
   "execution_count": null,
   "id": "2c66bd54",
   "metadata": {},
   "outputs": [],
   "source": [
    "import numpy as np\n",
    "_ = np.newaxis\n",
    "\n",
    "A0 = np.random.randn(1)[0]\n",
    "A1 = np.random.randn(5)\n",
    "A2 = np.random.randn(5, 6)\n",
    "A3 = np.random.randn(2, 5, 6)\n",
    "A4 = np.random.randn(6, 2, 5, 4)\n",
    "\n",
    "print('A0[_].shape: ', A0[_].shape, '\\n')\n",
    "print('A1[_].shape: ', A1[_].shape, '\\n')\n",
    "print('A2[_].shape: ', A2[_].shape, '\\n')\n",
    "print('A3[_].shape: ', A3[_].shape, '\\n')\n",
    "print('A4[_].shape: ', A4[_].shape, '\\n')\n"
   ]
  },
  {
   "cell_type": "markdown",
   "id": "82aea7af",
   "metadata": {},
   "source": [
    "### $\\implies$ we don't need to provide all the `:`, `Numpy` will infer the correct number of `:` and add them.\n",
    "*** \n",
    "### \n",
    "### However, if we want to `append` an axis at the end, we are still in trouble.\n",
    "### For this, `Python / Numpy` provides the `Ellipsis` or `...` operator."
   ]
  },
  {
   "cell_type": "code",
   "execution_count": null,
   "id": "bb8a2375",
   "metadata": {},
   "outputs": [],
   "source": [
    "import numpy as np\n",
    "_ = np.newaxis\n",
    "\n",
    "A0 = np.random.randn(1)[0]\n",
    "A1 = np.random.randn(5)\n",
    "A2 = np.random.randn(5, 6)\n",
    "A3 = np.random.randn(2, 5, 6)\n",
    "A4 = np.random.randn(6, 2, 5, 4)\n",
    "\n",
    "print('A0[..., _].shape: ', A0[..., _].shape, '\\n')\n",
    "print('A1[..., _].shape: ', A1[..., _].shape, '\\n')\n",
    "print('A2[..., _].shape: ', A2[..., _].shape, '\\n')\n",
    "print('A3[..., _].shape: ', A3[..., _].shape, '\\n')\n",
    "print('A4[..., _].shape: ', A4[..., _].shape, '\\n')"
   ]
  },
  {
   "cell_type": "markdown",
   "id": "ce0c8f9d",
   "metadata": {},
   "source": [
    "*** \n",
    "### \n",
    "### The Ellipsis operator can be utilised in more advanced cases.\n",
    "### \n",
    "\n",
    "## <u>Task</u>:\n",
    "### Given an `n`-dimensional `numpy.ndarray` `A`. Prepend and append a new axis."
   ]
  },
  {
   "cell_type": "code",
   "execution_count": null,
   "id": "70566099",
   "metadata": {},
   "outputs": [],
   "source": [
    "import numpy as np\n",
    "_ = np.newaxis\n",
    "\n",
    "\n",
    "A = np.random.randn(2, 3, 4, 2, 7, 3)\n",
    "\n",
    "print('A.shape: ', A.shape, '\\n')\n",
    "print('A[_, ..., _].shape: ', A[_, ..., _].shape, '\\n')"
   ]
  },
  {
   "cell_type": "markdown",
   "id": "fa3ef720",
   "metadata": {},
   "source": [
    "### $\\implies$ The `Ellipsis` `...` operator **infers** the number of `:` from `A`'s shape.\n",
    "### In this case: `A[_, ..., _] = A[_, :, :, :, :, :, :, _]`."
   ]
  },
  {
   "cell_type": "markdown",
   "id": "4d844257",
   "metadata": {},
   "source": [
    "<hr style=\"border:1px solid blue\">\n",
    "\n",
    "### \n",
    "\n",
    "## <u>Exercise 3.1</u>:\n",
    "### Given the `numpy.nadarray` `A`, add a new axis at the second and second to last spot.\n",
    "### The number of dimensions `A.ndim` has to be at least `2`."
   ]
  },
  {
   "cell_type": "code",
   "execution_count": null,
   "id": "08ddaef3",
   "metadata": {},
   "outputs": [],
   "source": [
    "import numpy as np\n",
    "_ = np.newaxis\n",
    "\n",
    "# add axes to these guys\n",
    "A2 = np.random.randn(4, 5)\n",
    "A3 = np.random.randn(4, 5, 6)\n",
    "A4 = np.random.randn(3, 2, 5, 3)"
   ]
  },
  {
   "cell_type": "markdown",
   "id": "305dcd7a",
   "metadata": {},
   "source": [
    "## <u>solution</u>:"
   ]
  },
  {
   "cell_type": "code",
   "execution_count": null,
   "id": "bbf99dd4",
   "metadata": {},
   "outputs": [],
   "source": [
    "for A in (A2, A3, A4):\n",
    "    print('A.shape: ', A.shape, '\\n')\n",
    "    print('A[:, _, ..., _, :].shape: ', A[:, _, ..., _, :].shape, '\\n')"
   ]
  },
  {
   "cell_type": "markdown",
   "id": "c393d0f9",
   "metadata": {},
   "source": [
    "<hr style=\"border:1px solid blue\">\n",
    "\n",
    "### \n",
    "\n",
    "### We come to this lesson's last\n",
    "## <u>Task</u>:\n",
    "### Given `numpy.ndarray` `A` of shape `(..., n)` and `np.ndarray` `vec` of shape `(m,)`\n",
    "### compute `outer_abs` of shape `(..., m, n)` where\n",
    "### `outer_abs[..., i, j] == abs(A[..., j] - vec[i])`."
   ]
  },
  {
   "cell_type": "code",
   "execution_count": null,
   "id": "9651baf5",
   "metadata": {},
   "outputs": [],
   "source": [
    "import numpy as np\n",
    "_ = np.newaxis\n",
    "\n",
    "A = np.random.randn(3, 4, 2, 5, 6, 4, 3)\n",
    "vec = np.random.randn(10)\n",
    "\n",
    "print('A.shape: ', A.shape, '\\n')\n",
    "print('vec.shape: ', vec.shape, '\\n')\n",
    "\n",
    "# use boradcasting + numpy.abs to perform the required task\n",
    "outer_abs = np.abs(A[..., _, :] - vec[..., _])\n",
    "\n",
    "print('outer_abs.shape: ', outer_abs.shape, '\\n')\n",
    "print('abs(A[0, 0, 0, 0, 0, 0, 2] - vec[3]): ', abs(A[0, 0, 0, 0, 0, 0, 2] - vec[3]), '\\n')\n",
    "print('outer_abs[0, 0, 0, 0, 0, 0, 3, 2]: ', outer_abs[0, 0, 0, 0, 0, 0, 3, 2], '\\n')"
   ]
  },
  {
   "cell_type": "markdown",
   "id": "9ed9b312",
   "metadata": {},
   "source": [
    "### \n",
    "### <u>Explanation</u>:\n",
    "### 1. `A[..., _, :]`: shape `(..., n)` becomes `(..., 1, n)`,\n",
    "### 2. `vec[..., _]`: shape `(m,)` becomes `(m, 1)`\n",
    "### 3. `A[..., _, :] - vec[..., _]`: shape `(m, 1)` becomes `(1, ..., 1, m, 1)` (prepend `1` axes to match `A[..., _, :]`'s number of dimensions)\n",
    "### 4. shape `(..., 1, n)` minus shape `(1, ..., 1, m, 1)`:  broadcasts to shape `(..., m, n)`"
   ]
  },
  {
   "cell_type": "markdown",
   "id": "a41a0ccf",
   "metadata": {},
   "source": [
    "<hr style=\"border:1px solid blue\">\n",
    "\n",
    "### \n",
    "\n",
    "### Check out yourself: **fancy indexing** and `numpy.einsum`.\n",
    "### We will provide a Jupyter notebook for practice."
   ]
  },
  {
   "cell_type": "code",
   "execution_count": null,
   "id": "ad431ecb",
   "metadata": {},
   "outputs": [],
   "source": []
  }
 ],
 "metadata": {
  "kernelspec": {
   "display_name": "Python 3 (ipykernel)",
   "language": "python",
   "name": "python3"
  },
  "language_info": {
   "codemirror_mode": {
    "name": "ipython",
    "version": 3
   },
   "file_extension": ".py",
   "mimetype": "text/x-python",
   "name": "python",
   "nbconvert_exporter": "python",
   "pygments_lexer": "ipython3",
   "version": "3.12.0"
  }
 },
 "nbformat": 4,
 "nbformat_minor": 5
}
