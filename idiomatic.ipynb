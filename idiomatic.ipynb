{
 "cells": [
  {
   "cell_type": "markdown",
   "metadata": {},
   "source": [
    "# <u>Lesson 1</u>: what makes code readable ?\n",
    "\n",
    "### Task: take the union of two meshes.\n",
    "### Given two sets of elements and their corresponding points,\n",
    "### create a union mesh from the two input meshes without duplicate elements and points."
   ]
  },
  {
   "cell_type": "code",
   "execution_count": null,
   "metadata": {},
   "outputs": [],
   "source": [
    "# make two triangular meshes characterised by their element indices and points\n",
    "\n",
    "import numpy as np\n",
    "\n",
    "elems0 = np.array([ [0, 1, 4],\n",
    "                    [4, 1, 5],\n",
    "                    [1, 2, 5],\n",
    "                    [5, 2, 6],\n",
    "                    [2, 3, 6],\n",
    "                    [6, 3, 7],\n",
    "                    [4, 5, 8],\n",
    "                    [8, 5, 9],\n",
    "                    [5, 6, 9],\n",
    "                    [9, 6, 10],\n",
    "                    [6, 7, 10],\n",
    "                    [10, 7, 11] ])\n",
    "\n",
    "points0 = np.stack(list(map(np.ravel, np.meshgrid( np.linspace(0, 3, 4),\n",
    "                                                   np.linspace(0, 2, 3) ))), axis=1)\n",
    "\n",
    "\n",
    "# same mesh but shifted by +2 in the x direction\n",
    "elems1 = elems0\n",
    "points1 = points0 + np.array([[2, 0]])"
   ]
  },
  {
   "cell_type": "code",
   "execution_count": null,
   "metadata": {},
   "outputs": [],
   "source": [
    "from matplotlib import pyplot as plt\n",
    "\n",
    "def plot_meshes(list_of_elements, list_of_points):\n",
    "\n",
    "    fig, ax = plt.subplots()\n",
    "    for elems, points in zip(list_of_elements, list_of_points):\n",
    "        ax.triplot(*points.T, elems, alpha=0.5)\n",
    "\n",
    "    plt.show()"
   ]
  },
  {
   "cell_type": "markdown",
   "metadata": {},
   "source": [
    "### we plot the two meshes we just created"
   ]
  },
  {
   "cell_type": "code",
   "execution_count": null,
   "metadata": {},
   "outputs": [],
   "source": [
    "plot_meshes([elems0, elems1], [points0, points1])"
   ]
  },
  {
   "cell_type": "markdown",
   "metadata": {},
   "source": [
    "<hr style=\"border:1px solid blue\">\n",
    "\n",
    "### \n",
    "\n",
    "### The absolute bloody beginner solution\n",
    "\n",
    "#### (seeing it breaks my heart)"
   ]
  },
  {
   "cell_type": "code",
   "execution_count": null,
   "metadata": {},
   "outputs": [],
   "source": [
    "elements = [elems0, elems1]\n",
    "points = [points0, points1]\n",
    "\n",
    "map_point_index = {}\n",
    "index = 0\n",
    "new_elements = []\n",
    "new_points = []\n",
    "seen = set()\n",
    "\n",
    "for i in range(2):\n",
    "    myelems = elements[i]\n",
    "    mypoints = points[i]\n",
    "    my_new_elems = []\n",
    "    for j in range(len(myelems)):\n",
    "        my_new_elem = []\n",
    "        myelement = myelems[j]\n",
    "        for k in range(len(myelement)):\n",
    "            myindex = myelement[k]\n",
    "            mypoint = tuple(mypoints[myindex])\n",
    "            if mypoint not in map_point_index:\n",
    "                map_point_index[mypoint] = index\n",
    "                index += 1\n",
    "                new_points.append(mypoint)\n",
    "            my_new_elem.append(map_point_index[mypoint])\n",
    "        my_identifier = tuple(sorted(my_new_elem))\n",
    "        if my_identifier not in seen:\n",
    "            my_new_elems.append(my_new_elem)\n",
    "            seen.add(my_identifier)\n",
    "    new_elements.append(my_new_elems)\n",
    "\n",
    "new_elements = np.concatenate(new_elements)\n",
    "new_points = np.array(new_points)\n",
    "\n",
    "plot_meshes([new_elements], [new_points])\n",
    "\n",
    "print('Number of points: ', len(new_points))\n",
    "print('Number of elements: ', len(new_elements))"
   ]
  },
  {
   "cell_type": "markdown",
   "metadata": {},
   "source": [
    "### \n",
    "\n",
    "### The somewhat more idiomatic solution\n",
    "\n",
    "#### (still not a good code)"
   ]
  },
  {
   "cell_type": "code",
   "execution_count": null,
   "metadata": {},
   "outputs": [],
   "source": [
    "map_point_index = {}\n",
    "index = 0\n",
    "new_elements = []\n",
    "new_points = []\n",
    "seen = set()\n",
    "\n",
    "for myelems, mypoints in zip([elems0, elems1], [points0, points1]):\n",
    "    my_new_elems = []\n",
    "    for myelement in myelems:\n",
    "        my_new_elem = []\n",
    "        for myindex in myelement:\n",
    "            mypoint = tuple(mypoints[myindex])\n",
    "            if mypoint not in map_point_index:\n",
    "                map_point_index[mypoint] = index\n",
    "                index += 1\n",
    "                new_points.append(mypoint)\n",
    "            my_new_elem.append(map_point_index[mypoint])\n",
    "        my_identifier = tuple(sorted(my_new_elem))\n",
    "        if my_identifier not in seen:\n",
    "            my_new_elems.append(my_new_elem)\n",
    "            seen.add(my_identifier)\n",
    "    new_elements.append(my_new_elems)\n",
    "\n",
    "new_elements = np.concatenate(new_elements)\n",
    "new_points = np.array(new_points)\n",
    "\n",
    "plot_meshes([new_elements], [new_points])\n",
    "\n",
    "print('Number of points: ', len(new_points))\n",
    "print('Number of elements: ', len(new_elements))"
   ]
  },
  {
   "cell_type": "markdown",
   "metadata": {},
   "source": [
    "### \n",
    "\n",
    "### A decent solution\n",
    "\n",
    "#### (Close to optimal without using numpy functionality)"
   ]
  },
  {
   "cell_type": "code",
   "execution_count": null,
   "metadata": {},
   "outputs": [],
   "source": [
    "from itertools import count\n",
    "from collections import defaultdict\n",
    "\n",
    "map_point_index = defaultdict(count().__next__)\n",
    "seen = set()\n",
    "\n",
    "new_elems = []\n",
    "for elems, points in zip([elems0, elems1], [points0, points1]):\n",
    "    for elem in elems:\n",
    "        new_elem = [map_point_index[point] for point in map(tuple, points[elem])]\n",
    "        elem_identifier = tuple(sorted(new_elem))\n",
    "        if elem_identifier not in seen:\n",
    "            new_elems.append(new_elem)\n",
    "            seen.add(elem_identifier)\n",
    "\n",
    "new_elems = np.array(new_elems)\n",
    "new_points = np.stack(list(map_point_index.keys()))\n",
    "\n",
    "plot_meshes([new_elems], [new_points])\n",
    "\n",
    "print('Number of points: ', len(new_points))\n",
    "print('Number of elements: ', len(new_elems))"
   ]
  },
  {
   "cell_type": "markdown",
   "metadata": {},
   "source": [
    "### \n",
    "\n",
    "### Good non-numpy solution (similar to the previous one)"
   ]
  },
  {
   "cell_type": "code",
   "execution_count": null,
   "metadata": {},
   "outputs": [],
   "source": [
    "from itertools import count\n",
    "from collections import defaultdict\n",
    "\n",
    "map_point_index = defaultdict(count().__next__)\n",
    "seen = set()\n",
    "\n",
    "new_elems = []\n",
    "for elems, points in zip([elems0, elems1], [points0, points1]):\n",
    "    for elem in elems:\n",
    "        new_elem = [map_point_index[point] for point in map(tuple, points[elem])]\n",
    "        if ( elem_identifier := tuple(sorted(new_elem)) ) not in seen:\n",
    "            new_elems.append(new_elem)\n",
    "            seen.add(elem_identifier)\n",
    "\n",
    "new_elems = np.array(new_elems)\n",
    "new_points = np.stack(list(map_point_index.keys()))\n",
    "\n",
    "plot_meshes([new_elems], [new_points])\n",
    "\n",
    "print('Number of points: ', len(new_points))\n",
    "print('Number of elements: ', len(new_elems))"
   ]
  },
  {
   "cell_type": "markdown",
   "metadata": {},
   "source": [
    "### \n",
    "\n",
    "### A fancy but somewhat overengineered solution (matter of taste)"
   ]
  },
  {
   "cell_type": "code",
   "execution_count": null,
   "metadata": {},
   "outputs": [],
   "source": [
    "from itertools import count\n",
    "from collections import defaultdict\n",
    "\n",
    "map_point_index = defaultdict(count().__next__)\n",
    "seen = set()\n",
    "\n",
    "new_elems = []\n",
    "for elems, points in zip([elems0, elems1], [points0, points1]):\n",
    "    for elem in elems:\n",
    "        new_elem = [map_point_index[point] for point in map(tuple, points[elem])]\n",
    "        (identifier := tuple(sorted(new_elem))) in seen or seen.add(identifier) or new_elems.append(new_elem)\n",
    "\n",
    "new_elems = np.array(new_elems)\n",
    "new_points = np.stack(list(map_point_index.keys()))\n",
    "\n",
    "plot_meshes([new_elems], [new_points])\n",
    "\n",
    "print('Number of points: ', len(new_points))\n",
    "print('Number of elements: ', len(new_elems))"
   ]
  },
  {
   "cell_type": "markdown",
   "metadata": {},
   "source": [
    "### \n",
    "### The numpy solution \n",
    "#### (achieves the best readability provided comments are added, a little less memory efficient) "
   ]
  },
  {
   "cell_type": "code",
   "execution_count": null,
   "metadata": {},
   "outputs": [],
   "source": [
    "from itertools import count\n",
    "\n",
    "# get all unique points of the two sets of points\n",
    "new_points = np.unique(np.concatenate([points0, points1]), axis=0)\n",
    "\n",
    "# map each unique point to an index\n",
    "map_point_index = dict(zip(map(tuple, new_points), count()))\n",
    "\n",
    "# map both meshes' elements' points to the new index\n",
    "mapped_elems = np.apply_along_axis(lambda x: map_point_index[tuple(x)],\n",
    "                                   axis=-1,\n",
    "                                   arr=np.concatenate([points0[elems0], points1[elems1]]))\n",
    "\n",
    "# find the indices of the first occurence of the transformed elements that are unique\n",
    "_, unique_indices = np.unique(np.sort(mapped_elems, axis=1), return_index=True, axis=0)\n",
    "\n",
    "# keep only the unique occurences\n",
    "new_elems = mapped_elems[unique_indices]\n",
    "\n",
    "plot_meshes([new_elems], [new_points])\n",
    "\n",
    "print('Number of points: ', len(new_points))\n",
    "print('Number of elements: ', len(new_elems))"
   ]
  },
  {
   "cell_type": "markdown",
   "metadata": {},
   "source": [
    "### \n",
    "## What makes python code readable ?\n",
    "\n",
    "### What we know so far:\n",
    "\n",
    "* Using idioms (zip, enumerate, itertools, collections, comprehensions, := ) to reduce boilerplate.\n",
    "* Fewer (but not too few) lines of code.\n",
    "* Using => => => indentation instead of => <= => <=.\n",
    "* Descriptive variable names.\n",
    "* A program flow that almost reads like english.\n",
    "* Comments and using library functionality (for instance numpy) where possible.\n",
    "\n",
    "<hr style=\"border:1px solid blue\">"
   ]
  },
  {
   "cell_type": "markdown",
   "metadata": {},
   "source": [
    "### \n",
    "## <u>Some open questions</u>"
   ]
  },
  {
   "cell_type": "markdown",
   "metadata": {},
   "source": [
    "### \n",
    "### <u>Open question</u>: which one is more pythonic ?"
   ]
  },
  {
   "cell_type": "code",
   "execution_count": null,
   "metadata": {},
   "outputs": [],
   "source": [
    "def _first_order_derivative(func):\n",
    "    # return derivative\n",
    "    pass\n",
    "\n",
    "# version 0 or version 1 ?\n",
    "\n",
    "def nth_derivative_v0(func, n=1):\n",
    "    assert (n := int(n)) >= 0\n",
    "    if n == 0:\n",
    "        return func\n",
    "    else:\n",
    "        return nth_derivative_v0(_first_order_derivative(func), n=n-1)\n",
    "    \n",
    "\n",
    "def nth_derivative_v1(func, n=1):\n",
    "    assert (n := int(n)) >= 0\n",
    "    if n == 0:\n",
    "        return func\n",
    "    return nth_derivative_v1(_first_order_derivative(func), n=n-1)"
   ]
  },
  {
   "cell_type": "markdown",
   "metadata": {},
   "source": [
    "### \n",
    "\n",
    "### <u>Open question</u>: which meshgrid call signature do you find more readable ?"
   ]
  },
  {
   "cell_type": "code",
   "execution_count": null,
   "metadata": {},
   "outputs": [],
   "source": [
    "import numpy as np\n",
    "\n",
    "### forget about this part\n",
    "def make_meshgrid0(dims):\n",
    "    return np.stack(np.meshgrid(*map(np.arange, dims)), axis=-1).reshape(-1, len(dims))\n",
    "\n",
    "def make_meshgrid1(*dims):\n",
    "    return np.stack(np.meshgrid(*map(np.arange, dims)), axis=-1).reshape(-1, len(dims))\n",
    "###\n",
    "\n",
    "\n",
    "# THIS PART\n",
    "# option a or b ?\n",
    "a = make_meshgrid0([3, 2, 2])\n",
    "\n",
    "b = make_meshgrid1(3, 2, 2)\n",
    "\n",
    "# check if they're really the same\n",
    "print('a equals b: ', (a == b).all())\n",
    "\n",
    "# both generalise to arbitrary dimensions\n",
    "a = make_meshgrid0([3, 2])\n",
    "\n",
    "b = make_meshgrid1(3, 2, 2, 4)"
   ]
  },
  {
   "cell_type": "markdown",
   "metadata": {},
   "source": [
    "### \n",
    "### <u>Open question</u>: which one do you think is more pythonic ?"
   ]
  },
  {
   "cell_type": "code",
   "execution_count": null,
   "metadata": {},
   "outputs": [],
   "source": [
    "# Find the greatest divisor of an integer (excluding self) and return it.\n",
    "# Also, print all other (smaller) divisors, if any.\n",
    "\n",
    "def greatest_divisor_v0(val):\n",
    "    \"\"\" excluding `val` itself \"\"\"\n",
    "    *other_divisors, greatest_divisor = [i for i in range(1, val) if val % i == 0]\n",
    "    if other_divisors:\n",
    "        print(\"For {}, I also found the divisors {}.\".format(val, other_divisors))\n",
    "    return greatest_divisor\n",
    "\n",
    "\n",
    "def greatest_divisor_v1(val):\n",
    "    \"\"\" excluding `val` itself \"\"\"\n",
    "    divisors = [i for i in range(1, val) if val % i == 0]\n",
    "    divisors, greatest_divisor = divisors[:-1], divisors[-1]\n",
    "    if len(divisors) > 0:\n",
    "        print(\"For {}, I also found the divisors {}.\".format(val, divisors))\n",
    "    return greatest_divisor\n",
    "\n",
    "\n",
    "print('Greatest divisor of 10: ', greatest_divisor_v0(10), '\\n')\n",
    "print('Greatest divisor of 10: ', greatest_divisor_v1(10))"
   ]
  },
  {
   "cell_type": "markdown",
   "metadata": {},
   "source": [
    "### \n",
    "## What makes a code more pythonic ?\n",
    "##  (usually, that means more readable)\n",
    "\n",
    "### <u>Some additional insights</u>:\n",
    "\n",
    "* Early handling of special cases, avoiding if-else indentation when redundant (example 1).\n",
    "* Avoiding nested parentheses: `f(a, b, c)` instead of `f([a, b, c])` (example 2).\n",
    "* using star syntax `*args` where possible (examples 2 + 3).\n",
    "* `if object` rather than `if (object has property)`. For instance `if divisors` instead of `if len(divisors) > 0` (example 3).\n",
    "\n",
    "<hr style=\"border:1px solid blue\">"
   ]
  },
  {
   "cell_type": "markdown",
   "metadata": {},
   "source": [
    "### \n",
    "### Now that we have an idea of what makes a code pythonic, let's move on to the next\n",
    "\n",
    "## <u>Lesson 2</u>: `*args, **kwargs`, star syntax variable unpacking"
   ]
  },
  {
   "cell_type": "code",
   "execution_count": null,
   "metadata": {},
   "outputs": [],
   "source": [
    "%reset -f"
   ]
  },
  {
   "cell_type": "markdown",
   "metadata": {},
   "source": [
    "### \n",
    "### What does this dummy function do ?"
   ]
  },
  {
   "cell_type": "code",
   "execution_count": null,
   "metadata": {},
   "outputs": [],
   "source": [
    "# pass whatever arguments into this function and print the input it receives\n",
    "def dummy_function(*args, **kwargs):\n",
    "    print('Received the following args and kwargs: \\n')\n",
    "    print('args: ', args)\n",
    "    print('kwargs: ', kwargs, '\\n \\n')\n",
    "    \n",
    "\n",
    "print('Only positional arguments: \\n')\n",
    "dummy_function(1, 2, 'a', [1, 2, 3])\n",
    "\n",
    "print('Only keyword arguments: \\n')\n",
    "dummy_function(a=1, b=2, c='a', d=[1, 2, 3])\n",
    "\n",
    "print('Both positional and keyword arguments: \\n')\n",
    "dummy_function(1, 'a', (5, 6), a=5, b='a', c=[5, 6])"
   ]
  },
  {
   "cell_type": "markdown",
   "metadata": {},
   "source": [
    "### \n",
    "### <u> Observation</u>:\n",
    "### for a function of the form `f(*args, **kwargs)`:\n",
    "* all positional arguments passed are inside of the function available as a tuple called `args`\n",
    "* all keyword arguments passed are available as a dictionary `kwargs` of the form `{str(keyword): passed_value}`\n",
    "\n",
    "<hr style=\"border:1px solid blue\">"
   ]
  },
  {
   "cell_type": "markdown",
   "metadata": {},
   "source": [
    "### \n",
    "## <u>Exercise 2.1</u>: \n",
    "### write a function that takes positional arguments (numbers) and adds them.\n",
    "* for example:  f(1, 2) = 2; f(4, 5, 6) = 120; f(1, 1, 2, 3) = 6\n",
    "* by convention: f() = 0"
   ]
  },
  {
   "cell_type": "code",
   "execution_count": null,
   "metadata": {},
   "outputs": [],
   "source": [
    "#def f( ? ? ? ):\n",
    "    # your code here\n",
    "    #return  ? ? ?\n",
    "    \n",
    "print(f(1, 2))\n",
    "print(f(4, 5, 6))\n",
    "print(f(1, 1, 2, 3))"
   ]
  },
  {
   "cell_type": "markdown",
   "metadata": {},
   "source": [
    "### solution:"
   ]
  },
  {
   "cell_type": "code",
   "execution_count": null,
   "metadata": {
    "jupyter": {
     "source_hidden": true
    }
   },
   "outputs": [],
   "source": [
    "def f(*args):\n",
    "    # return sum(*args) would work too. sum( . ) accepts both tuples / list and positional arguments.\n",
    "    return sum(args)\n",
    "\n",
    "print(f(1, 2))\n",
    "print(f(4, 5, 6))\n",
    "print(f(1, 1, 2, 3))"
   ]
  },
  {
   "cell_type": "markdown",
   "metadata": {},
   "source": [
    "<hr style=\"border:1px solid blue\">\n",
    "\n",
    "### \n",
    "## <u> Exercise 2.2 </u>: \n",
    "### write a function that takes only keyword arguments `subject = (value, weight)`\n",
    "### and computes the weighted average of all passed subjects\n",
    "### $\\text{weighted_average} = \\frac{\\sum_i \\text{value}_i \\, \\times \\, \\text{weight}_i}{\\sum_i \\text{weight}_i}$\n",
    "\n",
    "#### `weighted_average(math=(80, 4), english=(60, 2), geography=(50, 1)) = (320 + 120 + 50) / (4 + 2 + 1) = 70`"
   ]
  },
  {
   "cell_type": "code",
   "execution_count": null,
   "metadata": {},
   "outputs": [],
   "source": [
    "# def weighted_average(? ? ?):\n",
    "    # your code here\n",
    "    # return ???\n",
    "\n",
    "\n",
    "\n",
    "print(weighted_average(math=(80, 4), english=(60, 2), geography=(50, 1)))"
   ]
  },
  {
   "cell_type": "markdown",
   "metadata": {},
   "source": [
    "### solution (not very pythonic !!):"
   ]
  },
  {
   "cell_type": "code",
   "execution_count": null,
   "metadata": {
    "jupyter": {
     "source_hidden": true
    }
   },
   "outputs": [],
   "source": [
    "# we'll learn how to write this function better, don't worry.\n",
    "def weighted_average(**kwargs):\n",
    "    weighted_values = 0\n",
    "    weights = 0\n",
    "    # subject: english\n",
    "    # values_weights: (60, 2)\n",
    "    for subject, values_weights in kwargs.items():\n",
    "        weighted_values += values_weights[0] * values_weights[1]\n",
    "        weights += values_weights[1]\n",
    "    return weighted_values / weights\n",
    "\n",
    "print(weighted_average(math=(80, 4), english=(60, 2), geography=(50, 1)))\n",
    "\n",
    "\n",
    "# more pythonic solution, maybe too difficult right now\n",
    "def weighted_average_py(**kwargs):\n",
    "    return sum(a * b for a, b in kwargs.values()) / sum(b for a, b in kwargs.values())"
   ]
  },
  {
   "cell_type": "markdown",
   "metadata": {},
   "source": [
    "<hr style=\"border:1px solid blue\">\n",
    "\n",
    "### \n",
    "### The `*args, **kwargs` syntax can also be used in the opposite way.\n",
    "### Observe the following:"
   ]
  },
  {
   "cell_type": "code",
   "execution_count": null,
   "metadata": {},
   "outputs": [],
   "source": [
    "def compute_area(length, width, unit='meters'):\n",
    "    area = length * width\n",
    "    return f\"The area is {area} square {unit}.\"\n",
    "\n",
    "kwargs = {'unit': 'kilometers'}\n",
    "\n",
    "compute_area(2, 5, **kwargs)"
   ]
  },
  {
   "cell_type": "markdown",
   "metadata": {},
   "source": [
    "### \n",
    "### We are allowed to drop a `{str(key): value}`  dictionary into a function that accepts keyword arguments via double dereferencing.\n",
    "#### If the dict's `.keys()` are the same or a subset of the function's (keyword) arguments, it will work.\n",
    "\n",
    "#### `test = f(a=5, b=2)` is equivalent to `kwargs = {'a': 5, 'b': 2}` and then `test = f(**kwargs)`\n",
    "\n",
    "<hr style=\"border:1px solid blue\">"
   ]
  },
  {
   "cell_type": "markdown",
   "metadata": {},
   "source": [
    "### \n",
    "## <u> Application: keyword argument forwarding</u>\n",
    "\n",
    "![scipykwargs](img/scipykwargs.png)"
   ]
  },
  {
   "cell_type": "markdown",
   "metadata": {},
   "source": [
    "### \n",
    "## <u>Exercise 2.3</u>:\n",
    "### write a function that uses `scipy.optimize.minimize` to find the argmin of $a x^2 + b x + c$.\n",
    "### The function must be able to forward relevant keyword arguments to `scipy.optimize.minimize`.\n",
    "### Find the argmin of the quadratic function using `method='SLSQP'`."
   ]
  },
  {
   "cell_type": "markdown",
   "metadata": {},
   "source": [
    "### \n",
    "### <u>The wrong way</u>:\n",
    "#### (doing this will result in capital punishment)"
   ]
  },
  {
   "cell_type": "code",
   "execution_count": null,
   "metadata": {},
   "outputs": [],
   "source": [
    "from scipy.optimize import minimize\n",
    "\n",
    "\n",
    "# uuuuugh, lots of boilerplate >.<\n",
    "def minimize_quadratic_function(a=1, b=2, c=3, args=(), \n",
    "                                               method=None, \n",
    "                                               jac=None,\n",
    "                                               hess=None,\n",
    "                                               hessp=None,\n",
    "                                               bounds=None,\n",
    "                                               constraints=(),\n",
    "                                               tol=None,\n",
    "                                               callback=None,\n",
    "                                               options=None):\n",
    "    fun = lambda x: a * x ** 2 + b * x + c\n",
    "    x0 = 0\n",
    "    return minimize(fun, x0, args=args,\n",
    "                             method=method,\n",
    "                             jac=jac,\n",
    "                             hess=hess,\n",
    "                             hessp=hessp,\n",
    "                             bounds=bounds,\n",
    "                             constraints=constraints,\n",
    "                             tol=tol,\n",
    "                             callback=callback,\n",
    "                             options=options).x[0]\n",
    "\n",
    "# min 0.5 x**2 + x + 1 is assumed at x = -1\n",
    "print('The minimum of 0.5 x^2 + x + 1 is assumed at x =',\n",
    "       minimize_quadratic_function(a=.5, b=1, c=1, method='SLSQP'))"
   ]
  },
  {
   "cell_type": "markdown",
   "metadata": {},
   "source": [
    "### \n",
    "### Implement it correctly:"
   ]
  },
  {
   "cell_type": "code",
   "execution_count": null,
   "metadata": {},
   "outputs": [],
   "source": [
    "from scipy.optimize import minimize\n",
    "\n",
    "#def minimize_quadratic_function(a=1, b=2, c=3, ????):\n",
    "    # fun = lambda x: a * x ** 2 + b * x + c\n",
    "    # x0 = 0\n",
    "    # return ???\n",
    "\n",
    "# min 0.5 x**2 + x + 1 is assumed at x = -1\n",
    "print('The minimum of 0.5 x^2 + x + 1 is assumed at x =',\n",
    "       minimize_quadratic_function(a=.5, b=1, c=1, method='SLSQP'))"
   ]
  },
  {
   "cell_type": "markdown",
   "metadata": {},
   "source": [
    "### \n",
    "### solution:"
   ]
  },
  {
   "cell_type": "code",
   "execution_count": null,
   "metadata": {
    "code_folding": [
     2
    ],
    "jupyter": {
     "source_hidden": true
    }
   },
   "outputs": [],
   "source": [
    "from scipy.optimize import minimize\n",
    "\n",
    "def minimize_quadratic_function(a=1, b=2, c=3, **scipykwargs):\n",
    "    fun = lambda x: a * x ** 2 + b * x + c\n",
    "    x0 = 0\n",
    "    return minimize(fun, x0, **scipykwargs).x[0]\n",
    "\n",
    "# min 0.5 x**2 + x + 1 is assumed at x = -1\n",
    "print('The minimum of 0.5 x^2 + x + 1 is assumed at x =',\n",
    "       minimize_quadratic_function(a=.5, b=1, c=1, method='SLSQP'))    "
   ]
  },
  {
   "cell_type": "markdown",
   "metadata": {},
   "source": [
    "<hr style=\"border:1px solid blue\">\n",
    "\n",
    "### \n",
    "### Observe the following:"
   ]
  },
  {
   "cell_type": "code",
   "execution_count": null,
   "metadata": {},
   "outputs": [],
   "source": [
    "def abc_formula(a, b, c):\n",
    "    \"Return the roots of a quadratic equation of the form ax^2 + bx + c\"\n",
    "    discriminant = (b ** 2 - 4 * a * c)**.5\n",
    "    return (-b - discriminant) / (2 * a), (-b + discriminant) / (2 * a)\n",
    "\n",
    "def abc_monomic(*args):\n",
    "    \"Same as abc_formula but a = 1.\"\n",
    "    # abc_monomic(1, 2) => args = (2, 3)\n",
    "    # we drop args back into `abc_formula`\n",
    "    # abc_formula(1, *args) is then the same as abc_formula(1, 2, 3)\n",
    "    return abc_formula(1, *args)\n",
    "\n",
    "print('The complex roots of f = x^2 + 3 * x + 1 read are {:.7f} and {:.7f}'.format(*abc_monomic(3, 1)))"
   ]
  },
  {
   "cell_type": "markdown",
   "metadata": {},
   "source": [
    "### \n",
    "### We can drop a list or tuple's values back into a function using star dereferencing\n",
    "#### `test = f(1, 2, 3)` is equivalent to `args = (1, 2, 3)` and then `test = f(*args)`\n",
    "\n",
    "#### intuition: the `*` dereferencing ~ *removes the outer parentheses* ~\n",
    "#### `f(*(1, 2, 3))` is equivalent to `f(1, 2, 3)`\n",
    "#### same for lists `f(*[1, 2, 3])` => `f(1, 2, 3)`\n",
    "\n",
    "<hr style=\"border:1px solid blue\">"
   ]
  },
  {
   "cell_type": "markdown",
   "metadata": {},
   "source": [
    "### \n",
    "## <u> Exercise 2.4 </u> :\n",
    "### Given a function `f(*args)` that sums its pos. arguments.\n",
    "### Write a function `g(head, tail)` that accepts two tuples / lists of numbers and sums all of them.\n",
    "* `g([1, 2, 3], (4, 5, 6)) => f(1, 2, 3, 4, 5, 6) = 21` (note that one is a list and one is a tuple)"
   ]
  },
  {
   "cell_type": "code",
   "execution_count": null,
   "metadata": {},
   "outputs": [],
   "source": [
    "def f(*args):\n",
    "    return sum(args)\n",
    "\n",
    "#def g(???):\n",
    "#    ???\n",
    "\n",
    "print(g([1, 2, 3], (4, 5, 6)))"
   ]
  },
  {
   "cell_type": "markdown",
   "metadata": {},
   "source": [
    "### solution:"
   ]
  },
  {
   "cell_type": "code",
   "execution_count": null,
   "metadata": {
    "jupyter": {
     "source_hidden": true
    }
   },
   "outputs": [],
   "source": [
    "def f(*args):\n",
    "    return sum(args)\n",
    "\n",
    "#we can also just dereference both head and tail\n",
    "def g(head, tail):\n",
    "    # head = [1, 2, 3]\n",
    "    # tail = (4, 5, 6)\n",
    "    # => f(*head, *tail) = f(*[1, 2, 3], *(4, 5, 6)) = f(1, 2, 3, 4, 5, 6)\n",
    "    return f(*head, *tail)\n",
    "\n",
    "print(g([1, 2, 3], (4, 5, 6)))"
   ]
  },
  {
   "cell_type": "markdown",
   "metadata": {},
   "source": [
    "<hr style=\"border:1px solid blue\">\n",
    "\n",
    "### \n",
    "### Having gained an intuition for `*args, **kwargs`, we are now in the position to learn **star syntax variable unpacking**\n",
    "\n",
    "### what does this do ?"
   ]
  },
  {
   "cell_type": "code",
   "execution_count": null,
   "metadata": {},
   "outputs": [],
   "source": [
    "tail = (4, 5, 6)\n",
    "\n",
    "joined_tuple = (1, 2, 3, *tail)\n",
    "\n",
    "print(joined_tuple)"
   ]
  },
  {
   "cell_type": "markdown",
   "metadata": {},
   "source": [
    "### => We can drop tuples' / lists' contents into tuples / lists via dereferencing\n",
    "<hr style=\"border:1px solid blue\">\n",
    "\n",
    "### \n",
    "### <u>Further examples</u>:"
   ]
  },
  {
   "cell_type": "code",
   "execution_count": null,
   "metadata": {},
   "outputs": [],
   "source": [
    "# multiple list / tuple unpacking\n",
    "print( [1, 2, *[3, 4, 5], 6, 7, *(8, 9, 10)] )\n",
    "\n",
    "# we can also dereference ranges into tuples / lists\n",
    "print( (*[1, 2, 3], *range(4, 11)) )"
   ]
  },
  {
   "cell_type": "markdown",
   "metadata": {},
   "source": [
    "### \n",
    "### What do you guys think this does ?\n",
    "\n",
    "### `(a, *tail) = [1, 2, 3, 4]`\n",
    "### What is `a` ? what is `tail` ?\n",
    "### <u>the answer</u>:"
   ]
  },
  {
   "cell_type": "code",
   "execution_count": null,
   "metadata": {},
   "outputs": [],
   "source": [
    "(a, *tail) = [1, 2, 3, 4]\n",
    "\n",
    "print(a)\n",
    "print(tail)"
   ]
  },
  {
   "cell_type": "markdown",
   "metadata": {},
   "source": [
    "### \n",
    "### we can forego the outer parentheses (both left and / or right) when no confusion is possible"
   ]
  },
  {
   "cell_type": "code",
   "execution_count": null,
   "metadata": {},
   "outputs": [],
   "source": [
    "a, *tail = 1, 2, 3, 4\n",
    "\n",
    "print(a)\n",
    "print(tail)"
   ]
  },
  {
   "cell_type": "markdown",
   "metadata": {},
   "source": [
    "### \n",
    "## <u>Exercise 2.5</u>\n",
    "### Given a `tuple` of tuples of the form\n",
    "### `tot = ((a, b, c), (d, e, f))`, \n",
    "### unpack `a, d, e, f` into variables of the same name and create a list `bc` containing `b` and `c`\n",
    "### **IN ONE LINE OF CODE**\n",
    "### \n",
    "### The wrong solution (don't do it like this)"
   ]
  },
  {
   "cell_type": "code",
   "execution_count": null,
   "metadata": {},
   "outputs": [],
   "source": [
    "tot = ((1, 2, 3), (4, 5, 6))\n",
    "\n",
    "a, d, e, f = tot[0][0], tot[1][0], tot[1][1], tot[1][2]\n",
    "bc = [tot[0][1], tot[0][2]]\n",
    "\n",
    "print(a, bc, d, e, f)"
   ]
  },
  {
   "cell_type": "markdown",
   "metadata": {},
   "source": [
    "### \n",
    "### Implement it correctly:"
   ]
  },
  {
   "cell_type": "code",
   "execution_count": null,
   "metadata": {},
   "outputs": [],
   "source": [
    "tot = ((1, 2, 3), (4, 5, 6))\n",
    "\n",
    "### your code here\n",
    "\n",
    "print(a, bc, d, e, f)"
   ]
  },
  {
   "cell_type": "markdown",
   "metadata": {},
   "source": [
    "### \n",
    "### solution:"
   ]
  },
  {
   "cell_type": "code",
   "execution_count": null,
   "metadata": {
    "jupyter": {
     "source_hidden": true
    }
   },
   "outputs": [],
   "source": [
    "tot = ((1, 2, 3), (4, 5, 6))\n",
    "\n",
    "(a, *bc), (d, e, f) = tot\n",
    "\n",
    "print(a, bc, d, e, f)"
   ]
  },
  {
   "cell_type": "markdown",
   "metadata": {},
   "source": [
    "<hr style=\"border:1px solid blue\">\n",
    "\n",
    "### \n",
    "### The same kind of unpacking works for numpy arrays"
   ]
  },
  {
   "cell_type": "code",
   "execution_count": null,
   "metadata": {},
   "outputs": [],
   "source": [
    "import numpy as np\n",
    "\n",
    "# create an array (matrix) of shape A.shape == (2, 3)\n",
    "A = np.arange(6).reshape(2, 3)\n",
    "\n",
    "print('A: \\n', A, '\\n')\n",
    "\n",
    "# a numpy array can be regarded as a `list of lists`\n",
    "# we unpack an array along its first axis\n",
    "# => a, b = A, with A.shape == (2, 3)\n",
    "# creates two new np.ndarrays of shape (3,)\n",
    "a, b = A\n",
    "\n",
    "print('a is of type `{}` and reads: '.format(a.__class__.__name__), a, '\\n')\n",
    "print('b is of type `{}` and reads: '.format(b.__class__.__name__), b, '\\n')\n",
    "\n",
    "\n",
    "# unpacking a and into their consituents again creates numbers (integers in this case)\n",
    "(a0, a1, a2), (b0, b1, b2) = A\n",
    "print('a0, a1, a2, b0, b1, b2: ','{}, {}, {}, {}, {}, {}'.format(a0, a1, a2, b0, b1, b2), '\\n')"
   ]
  },
  {
   "cell_type": "markdown",
   "metadata": {},
   "source": [
    "### \n",
    "<hr style=\"border:1px solid blue\">\n",
    "\n",
    "## <u>Application</u>\n",
    "### Given a ($2$D) triangular element in $\\mathbb{R}^3$ characterised by its vertices `A = [a, b, c]` (a, b, c row vectors, counterclockwise)\n",
    "### compute the surface area of the triangle.\n",
    "\n",
    "### \n",
    "\n",
    "### <u>the wrong solution</u>:"
   ]
  },
  {
   "cell_type": "code",
   "execution_count": null,
   "metadata": {},
   "outputs": [],
   "source": [
    "import numpy as np\n",
    "\n",
    "def surface_area(A: np.ndarray) -> float:\n",
    "    # make sure A has the correct shape\n",
    "    assert A.shape == (3, 3)\n",
    "    # create triangle's jacobian J = [b - a; c - a] (column vectors)\n",
    "    a, b, c = A[0, :], A[1, :], A[2, :]\n",
    "    J = np.stack([b - a, c - a], axis=1)\n",
    "    \n",
    "    # create the local metric tensor by taking the outer product\n",
    "    G = J @ J.T\n",
    "    \n",
    "    # unpack G's entries to compute the surface area as 1/2 sqrt(determinant)\n",
    "    a00, a01, a10, a11 = G[0, 0], G[0, 1], G[1, 0], G[1, 1]\n",
    "    return .5 * ((a00 * a11 - a01 * a10)**.5)\n",
    "\n",
    "\n",
    "A = np.array([\n",
    "              [0, 0, 0],\n",
    "              [1, 0, 1],\n",
    "              [0, 1, 0],\n",
    "             ])\n",
    "\n",
    "print('The surface area reads: ', surface_area(A))"
   ]
  },
  {
   "cell_type": "markdown",
   "metadata": {},
   "source": [
    "### \n",
    "### <u>The correct solution</u>:"
   ]
  },
  {
   "cell_type": "code",
   "execution_count": null,
   "metadata": {},
   "outputs": [],
   "source": [
    "import numpy as np\n",
    "\n",
    "def surface_area(A: np.ndarray) -> float:\n",
    "    # make sure A has the correct shape\n",
    "    assert A.shape == (3, 3)\n",
    "    \n",
    "    # unpack the rows\n",
    "    a, b, c = A\n",
    "    \n",
    "    # create triangle's jacobian J = [b - a; c - a] (column vectors)\n",
    "    J = np.stack([b - a, c - a], axis=1)\n",
    "    \n",
    "    # create the local metric tensor by taking the outer product\n",
    "    G = J @ J.T\n",
    "    \n",
    "    # unpack G's entries to compute the surface area as 1/2 sqrt(determinant)\n",
    "    (a00, a01), (a10, a11) = G\n",
    "    return .5 * ((a00 * a11 - a01 * a10)**.5)\n",
    "\n",
    "\n",
    "A = np.array([\n",
    "              [0, 0, 0],\n",
    "              [1, 0, 1],\n",
    "              [0, 1, 0],\n",
    "             ])\n",
    "\n",
    "print('The surface area reads: ', surface_area(A))"
   ]
  },
  {
   "cell_type": "markdown",
   "metadata": {},
   "source": [
    "### \n",
    "### \n",
    "### \n",
    "### Why did it not work ???"
   ]
  },
  {
   "cell_type": "code",
   "execution_count": null,
   "metadata": {},
   "outputs": [],
   "source": [
    "import numpy as np\n",
    "\n",
    "# J inside of `surface_area` is of shape J.shape == (3, 2)\n",
    "J = np.random.randn(3, 2)\n",
    "\n",
    "print((J @ J.T).shape)"
   ]
  },
  {
   "cell_type": "markdown",
   "metadata": {},
   "source": [
    "### \n",
    "### `G = J @ J.T` has shape (3, 3) which is wrong. It should have been `G = J.T @ J` of shape `(2, 2)`.\n",
    "### These errors happen easily and go unnoticed for a long long time ...\n",
    "### Our idiomatic version caught this error because the unpacking implicitly assumed `G` to be of shape `G.shape == (2, 2)`.\n",
    "### \n",
    "### <u>The correct solution</u> (this time for real):"
   ]
  },
  {
   "cell_type": "code",
   "execution_count": null,
   "metadata": {},
   "outputs": [],
   "source": [
    "import numpy as np\n",
    "\n",
    "def surface_area(A: np.ndarray) -> float:\n",
    "    # make sure A has the correct shape\n",
    "    assert A.shape == (3, 3)\n",
    "    \n",
    "    # unpack the rows\n",
    "    a, b, c = A\n",
    "    \n",
    "    # create triangle's jacobian J = [b - a; c - a] (column vectors)\n",
    "    J = np.stack([b - a, c - a], axis=1)\n",
    "    \n",
    "    # create the local metric tensor by taking the outer product\n",
    "    G = J.T @ J\n",
    "    \n",
    "    # unpack G's entries to compute the surface area as 1/2 sqrt(determinant)\n",
    "    (a00, a01), (a10, a11) = G\n",
    "    return .5 * ((a00 * a11 - a01 * a10)**.5)\n",
    "\n",
    "\n",
    "A = np.array([\n",
    "              [0, 0, 0],\n",
    "              [1, 0, 1],\n",
    "              [0, 1, 0],\n",
    "             ])\n",
    "\n",
    "print('The surface area reads: ', surface_area(A))"
   ]
  },
  {
   "cell_type": "markdown",
   "metadata": {},
   "source": [
    "### \n",
    "### Note that the non-pythonic implementation did not catch the error and gave the wrong result `area = 0.5`.\n",
    "<hr style=\"border:1px solid blue\">\n",
    "\n",
    "### \n",
    "### `*args, **kwargs` and star syntax unpacking are among the most powerful tools for a more readable and maintainable code.\n",
    "<hr style=\"border:1px solid blue\">\n",
    "\n",
    "### \n",
    "## <u>Lesson 3</u>: Advanced uses of Python dictionaries"
   ]
  },
  {
   "cell_type": "code",
   "execution_count": null,
   "metadata": {},
   "outputs": [],
   "source": [
    "%reset -f"
   ]
  },
  {
   "cell_type": "markdown",
   "metadata": {},
   "source": [
    "### \n",
    "### We have seen how dictionaries play an important role in handling keyword arguments.\n",
    "### In what follows, we discuss some advanced uses of python dictionaries.\n",
    "\n",
    "### \n",
    "### Python dictionaries can be utilised to avoid if-else clauses via tokenization.\n",
    "### \n",
    "### <u>Task</u>:\n",
    "### Write a function `solve(A, b, method='direct')` that solves $A x = b$ for $x$ using\n",
    "* `method='direct'`: `sparse.linalg.spsolve`\n",
    "* `method='cg'`: `sparse.linalg.cg`\n",
    "* `method='gmres':` `sparse.linalg.gmres`\n",
    "* `method=bicgstab:` `sparse.linalg.bicgstab`\n",
    "\n",
    "### \n",
    "### A straightforward but cumbersome solution:"
   ]
  },
  {
   "cell_type": "code",
   "execution_count": null,
   "metadata": {},
   "outputs": [],
   "source": [
    "from scipy.sparse import linalg as splinalg, spmatrix, diags\n",
    "import numpy as np\n",
    "\n",
    "# I see a big big big big boilerplate ...\n",
    "def solve(A: spmatrix, b: np.ndarray, method: str = 'direct', **solverkwargs):\n",
    "    if method == 'direct':\n",
    "        print(f'Solving sparse linear system with solver method: `{method}`.')\n",
    "        return splinalg.spsolve(A, b, **solverkwargs)\n",
    "    elif method == 'cg':\n",
    "        print(f'Solving sparse linear system with solver method: `{method}`.')\n",
    "        return splinalg.cg(A, b, **solverkwargs)\n",
    "    elif method == 'gmres':\n",
    "        print(f'Solving sparse linear system with solver method: `{method}`.')\n",
    "        return splinalg.gmres(A, b, **solverkwargs)\n",
    "    elif method == 'bicgstab':\n",
    "        print(f'Solving sparse linear system with solver method: `{method}`.')\n",
    "        return splinalg.bicgstab(A, b, **solverkwargs)\n",
    "    else:\n",
    "        raise ValueError(f'Unknown method name {method}.')\n",
    "        \n",
    "\n",
    "diagonals = 2 * np.ones(10), -np.ones(9), -np.ones(9)\n",
    "A = diags(diagonals, [0, -1, 1])\n",
    "b = np.ones(10)\n",
    "\n",
    "# solve with bicgstab and solver tolerance tol=1e-7\n",
    "print(solve(A, b, method='bicgstab', tol=1e-7))"
   ]
  },
  {
   "cell_type": "markdown",
   "metadata": {},
   "source": [
    "### \n",
    "### A pythonic solution:"
   ]
  },
  {
   "cell_type": "code",
   "execution_count": null,
   "metadata": {},
   "outputs": [],
   "source": [
    "from scipy.sparse import linalg as splinalg, spmatrix, diags\n",
    "import numpy as np\n",
    "\n",
    "# I see only clean code =)\n",
    "\n",
    "def solve(A: spmatrix, b: np.ndarray, method: str = 'direct', **solverkwargs):\n",
    "    # Get solver from token using a dict. Return None if token is not found.\n",
    "    solver = { 'bicgstab': splinalg.bicgstab,\n",
    "               'direct'  : splinalg.spsolve,\n",
    "               'gmres'   : splinalg.gmres, \n",
    "               'cg'      : splinalg.cg        }.get(method, None)\n",
    "    \n",
    "    if solver is None:  # token not found, raise error.\n",
    "        raise ValueError(f'Unknown method name {method}.')\n",
    "        \n",
    "    print(f'Solving sparse linear system with solver method: `{method}`.')\n",
    "\n",
    "    return solver(A, b, **solverkwargs)\n",
    "        \n",
    "\n",
    "diagonals = 2 * np.ones(10), -np.ones(9), -np.ones(9)\n",
    "A = diags(diagonals, [0, -1, 1])\n",
    "b = np.ones(10)\n",
    "\n",
    "# solve with bicgstab and solver tolerance tol=1e-7\n",
    "print(solve(A, b, method='bicgstab', tol=1e-7))"
   ]
  },
  {
   "cell_type": "markdown",
   "metadata": {},
   "source": [
    "### \n",
    "### The `dict.get(key, default_value)` method can be used to return a default value in case a key has not been found.\n",
    "<hr style=\"border:1px solid blue\">\n",
    "\n",
    "### \n",
    "### In the following, we discuss dict.setdefault\n",
    "### Let us see what this does:"
   ]
  },
  {
   "cell_type": "code",
   "execution_count": null,
   "metadata": {},
   "outputs": [],
   "source": [
    "test = {'a': 5, 'b': 10}\n",
    "\n",
    "print('test: ', test, '\\n')\n",
    "\n",
    "test.setdefault('a', 20)\n",
    "print('test after the first setdefault operation: ', test, '\\n')\n",
    "\n",
    "test.setdefault('c', 15)\n",
    "print('test after the second setdefault operation: ', test, '\\n')"
   ]
  },
  {
   "cell_type": "markdown",
   "metadata": {},
   "source": [
    "### \n",
    "### The first `.setdefault` didn't do anything because the key had already been contained.\n",
    "### `dict.setdefault(key, value)` only changes the `dict` if `key not in dict`\n",
    "<hr style=\"border:1px solid blue\">\n",
    "\n",
    "### \n",
    "## <u>Exercise 3.1</u>:\n",
    "### Using the `solve(A, b, ...)` function, write a function `solve_SPD(A, b, **kwargs)`\n",
    "### which calls the `solve` function but uses the `cg` method unless another method token is passed."
   ]
  },
  {
   "cell_type": "code",
   "execution_count": null,
   "metadata": {},
   "outputs": [],
   "source": [
    "# again, the solve(...) method from above, to be used in your implementation\n",
    "\n",
    "from scipy.sparse import linalg as splinalg, spmatrix, diags\n",
    "import numpy as np\n",
    "\n",
    "\n",
    "def solve(A: spmatrix, b: np.ndarray, method: str = 'direct', **solverkwargs):\n",
    "    # Get solver from token using a dict. Return None if token is not found.\n",
    "    solver = { 'direct'  : splinalg.spsolve,\n",
    "               'bicgstab': splinalg.bicgstab,\n",
    "               'gmres'   : splinalg.gmres, \n",
    "               'cg'      : splinalg.cg        }.get(method, None)\n",
    "    \n",
    "    if solver is None:  # token not found, raise error.\n",
    "        raise ValueError(f'Unknown method name {method}.')\n",
    "        \n",
    "    print(f'Solving sparse linear system with solver method: `{method}`.')\n",
    "    \n",
    "    return solver(A, b, **solverkwargs)"
   ]
  },
  {
   "cell_type": "code",
   "execution_count": null,
   "metadata": {},
   "outputs": [],
   "source": [
    "# incorrect solution ! this function does not have the correct signature\n",
    "def solve_SPD(A, b, method='cg', **kwargs):\n",
    "    return solve(A, b, method=method, **kwargs)"
   ]
  },
  {
   "cell_type": "markdown",
   "metadata": {},
   "source": [
    "### \n",
    "### Your solution here:"
   ]
  },
  {
   "cell_type": "code",
   "execution_count": null,
   "metadata": {},
   "outputs": [],
   "source": [
    "def solve_SPD(A, b, **kwargs):\n",
    "    pass\n",
    "\n",
    "\n",
    "diagonals = 2 * np.ones(10), -np.ones(9), -np.ones(9)\n",
    "A = diags(diagonals, [0, -1, 1])\n",
    "b = np.ones(10)\n",
    "\n",
    "# solve the system but don't specify the solver, should solve with `cg`\n",
    "print(solve_SPD(A, b))\n",
    "\n",
    "# solve with `bicgstab`\n",
    "print(solve_SPD(A, b, method='bicgstab'))"
   ]
  },
  {
   "cell_type": "markdown",
   "metadata": {},
   "source": [
    "### \n",
    "### Solution:"
   ]
  },
  {
   "cell_type": "code",
   "execution_count": null,
   "metadata": {
    "jupyter": {
     "source_hidden": true
    }
   },
   "outputs": [],
   "source": [
    "def solve_SPD(A, b, **kwargs):\n",
    "    kwargs.setdefault('method', 'cg')\n",
    "    return solve(A, b, **kwargs)\n",
    "\n",
    "\n",
    "diagonals = 2 * np.ones(10), -np.ones(9), -np.ones(9)\n",
    "A = diags(diagonals, [0, -1, 1])\n",
    "b = np.ones(10)\n",
    "\n",
    "# solve the system but don't specify the solver\n",
    "print(solve_SPD(A, b), '\\n')\n",
    "\n",
    "# solve with bicgstab\n",
    "print(solve_SPD(A, b, method='bicgstab'))"
   ]
  },
  {
   "cell_type": "markdown",
   "metadata": {},
   "source": [
    "<hr style=\"border:1px solid blue\">\n",
    "\n",
    "### \n",
    "### By invoking `var = dict.setdefault(key, value)`, we can optionally\n",
    "### capture in `var` whatever the dictionary contains at `key` after the `.setdefault` operation."
   ]
  },
  {
   "cell_type": "code",
   "execution_count": null,
   "metadata": {},
   "outputs": [],
   "source": [
    "test = {'a': 5, 'b': 10}\n",
    "\n",
    "var = test.setdefault('a', 20)\n",
    "\n",
    "print(var)\n",
    "\n",
    "var = test.setdefault('c', 30)\n",
    "\n",
    "print(var)"
   ]
  },
  {
   "cell_type": "markdown",
   "metadata": {},
   "source": [
    "<hr style=\"border:1px solid blue\">\n",
    "\n",
    "### \n",
    "## <u>Exercise 3.2</u>:\n",
    "### you are given a list of edges `edges = [(i0, i1), (i2, i3), ...]` representing the edges of a directed graph.\n",
    "### An edge `edge = (i0, i1)` points from node `i0` to node `i1`. The nodes are not necessarily numbered from `0` to `N` but can be anything.\n",
    "### Write a code that counts the number of unique edges incident to each node. Some edges may be duplicated in `edges`.\n",
    "### **Remember**: you have no idea what indices the nodes have."
   ]
  },
  {
   "cell_type": "code",
   "execution_count": null,
   "metadata": {},
   "outputs": [],
   "source": [
    "edges = [ (1, 12), (4, 12), (4, 1), (13, 6), \n",
    "          (12, 8), (8, 4), (6, 8), (1, 12),\n",
    "          (6, 4), (12, 8), (13, 6), (3, 13), (3, 4), (3, 1) ]"
   ]
  },
  {
   "cell_type": "code",
   "execution_count": null,
   "metadata": {},
   "outputs": [],
   "source": [
    "# let's draw the graph first.\n",
    "import networkx as nx\n",
    "from matplotlib import pyplot as plt\n",
    "\n",
    "G = nx.DiGraph()\n",
    "G.add_edges_from(edges)\n",
    "\n",
    "pos = nx.planar_layout(G)\n",
    "\n",
    "nx.draw_networkx(G, arrows=True, pos=pos)\n",
    "plt.show()"
   ]
  },
  {
   "cell_type": "markdown",
   "metadata": {},
   "source": [
    "### \n",
    "### A crude (non-pythonic) solution:"
   ]
  },
  {
   "cell_type": "code",
   "execution_count": null,
   "metadata": {},
   "outputs": [],
   "source": [
    "map_node_edge = {}\n",
    "\n",
    "for edge in edges:\n",
    "    # Make sure your implementation does NOT do this.\n",
    "    v0 = edge[0]  # get the root node\n",
    "    v1 = edge[1]  # get the incident node\n",
    "    if v1 not in map_node_edge:\n",
    "        map_node_edge[v1] = set()\n",
    "    map_node_edge[v1].add(v0)  # add the root vertex to the set of nodes incident to i1\n",
    "    \n",
    "map_node_nedges = {key: len(val) for key, val in map_node_edge.items()}\n",
    "\n",
    "print(map_node_nedges)"
   ]
  },
  {
   "cell_type": "markdown",
   "metadata": {},
   "source": [
    "### \n",
    "### Your solution using dict.setdefault"
   ]
  },
  {
   "cell_type": "code",
   "execution_count": null,
   "metadata": {},
   "outputs": [],
   "source": [
    "map_node_edge = {}\n",
    "\n",
    "# your code here\n",
    "\n",
    "map_node_nedges = {key: len(val) for key, val in map_node_edge.items()}\n",
    "\n",
    "print(map_node_nedges)"
   ]
  },
  {
   "cell_type": "markdown",
   "metadata": {},
   "source": [
    "### \n",
    "### solution:"
   ]
  },
  {
   "cell_type": "code",
   "execution_count": null,
   "metadata": {},
   "outputs": [],
   "source": [
    "map_node_edge = {}\n",
    "\n",
    "# .setdefault(key, default_value) returns whatever is at dict[key] after the .setdefault operation.\n",
    "# => .setdefault(i1, set()) returns either an existing or a new set that we immediately add the root vertex to.\n",
    "for v0, v1 in edges:\n",
    "    map_node_edge.setdefault(v1, set()).add(v0)\n",
    "    \n",
    "map_node_nedges = {key: len(val) for key, val in map_node_edge.items()}\n",
    "\n",
    "print(map_node_nedges)"
   ]
  },
  {
   "cell_type": "markdown",
   "metadata": {},
   "source": [
    "<hr style=\"border:1px solid blue\">\n",
    "\n",
    "### \n",
    "## <u>Lesson 4</u>: Python _\"truthiness\"_ "
   ]
  },
  {
   "cell_type": "code",
   "execution_count": null,
   "metadata": {},
   "outputs": [],
   "source": [
    "%reset -f"
   ]
  },
  {
   "cell_type": "markdown",
   "metadata": {},
   "source": [
    "### \n",
    "### All python built-in types (`dict`, `set`, `list`, ...) can be converted into a boolean.\n",
    "### The Python developers have chosen intuitive rules as to whether an object should convert\n",
    "### into `True` or `False`.\n",
    "### Let's see if our intiution is correct.\n",
    "\n",
    "### \n",
    "## <u>Exercise 4.1</u>: Does `bool(var)` convert to `True` or `False` ?"
   ]
  },
  {
   "cell_type": "code",
   "execution_count": null,
   "metadata": {},
   "outputs": [],
   "source": [
    "# what do you think ?\n",
    "\n",
    "objects = [ \n",
    "            None,          # untyped null pointer\n",
    "            {},            # empty dict\n",
    "            {1: 2},        # nonempty dict\n",
    "            [],            # empty list\n",
    "            [1, 2],        # nonempty list\n",
    "            tuple(),       # empty tuple\n",
    "            (1, 2),        # nonempty tuple\n",
    "            0,             # zero integer\n",
    "            0.0,           # zero float\n",
    "            1.0,           # positive float\n",
    "            -1.,           # negative integer\n",
    "            \"\",            # empty string\n",
    "            \"connie\",      # nonempty string\n",
    "          ]\n",
    "\n",
    "\n",
    "for var in objects:\n",
    "    print('var: {}, bool(var): {}'.format(var, bool(var)))"
   ]
  },
  {
   "cell_type": "markdown",
   "metadata": {},
   "source": [
    "<hr style=\"border:1px solid blue\">\n",
    "\n",
    "\n",
    "### \n",
    "### Now that we have an idea of how various variable types transform into a boolean,\n",
    "### we are in the position to understand the `if other_divisors:` statement from Lesson 1."
   ]
  },
  {
   "cell_type": "code",
   "execution_count": null,
   "metadata": {},
   "outputs": [],
   "source": [
    "# Find the greatest divisor of an integer (excluding self) and return it.\n",
    "# Also, print all other (smaller) divisors, if any.\n",
    "\n",
    "def greatest_divisor_excluding_self(val):\n",
    "    \"\"\" excluding `val` itself \"\"\"\n",
    "    *other_divisors, greatest_divisor = [i for i in range(1, val) if val % i == 0]\n",
    "    if other_divisors:\n",
    "        print(\"For {}, I also found the divisors {}.\".format(val, other_divisors))\n",
    "    return greatest_divisor\n",
    "\n",
    "print('The greatest divisor (excl self) of 10 equals:', greatest_divisor_excluding_self(10))"
   ]
  },
  {
   "cell_type": "markdown",
   "metadata": {},
   "source": [
    "### \n",
    "### First, we break down the line `*other_divisors, greatest_divisor = [i for i in range(1, val) if val % i == 0]`\n",
    "* the rhs creates a monotone increasing list with at least one element `1`.\n",
    "* the left hand side peels off the last (and hence largest) element in that list, while collecting all remaining divisors in the list `other_divisors`\n",
    "* if the only divisor is `[1]`, `other_divisors == []`, else `other_divisors != []`.\n",
    "\n",
    "### Then, the line `if other_divisors:`\n",
    "* in the next line `if other_divisors:`, Python, under the hood, converts this line to `if bool(other_divisors):`\n",
    "* from before, we know that if `other_divisors == []`, `if other_divisors:` becomes `if False:` and the if clause is ignored.\n",
    "* On the other hand, if `other_divisors != []` (nonempty), then `if other_divisors:` converts to `if True:` and the if clause's code is executed.\n",
    "<hr style=\"border:1px solid blue\">\n",
    "\n",
    "### \n",
    "## <u>Exercise 4.2</u>:\n",
    "### write a function `average(*list_of_numbers)` that computes the average of the numbers in `list_of_numbers` and returns `0` if no numbers have been passed.\n",
    "### Use Python truthiness !"
   ]
  },
  {
   "cell_type": "code",
   "execution_count": null,
   "metadata": {},
   "outputs": [],
   "source": [
    "def average(*list_of_numbers):\n",
    "    # your code here\n",
    "    pass\n",
    "\n",
    "\n",
    "print(average(1, 2, 3))\n",
    "print(average())"
   ]
  },
  {
   "cell_type": "markdown",
   "metadata": {},
   "source": [
    "### \n",
    "### 2 equivalent solutions:"
   ]
  },
  {
   "cell_type": "code",
   "execution_count": null,
   "metadata": {
    "jupyter": {
     "source_hidden": true
    }
   },
   "outputs": [],
   "source": [
    "def average_v0(*list_of_numbers):\n",
    "    if list_of_numbers:\n",
    "        # note that if list_of_numbers == [], we divide by 0.\n",
    "        return sum(list_of_numbers) / len(list_of_numbers)\n",
    "    return 0\n",
    "    \n",
    "    \n",
    "print(average_v0(1, 2, 3))\n",
    "print(average_v0())\n",
    "\n",
    "# one liner\n",
    "def average_v1(*list_of_numbers):\n",
    "    return sum(list_of_numbers) / len(list_of_numbers) if list_of_numbers else 0\n",
    "    \n",
    "    \n",
    "print(average_v1(1, 2, 3))\n",
    "print(average_v1())"
   ]
  },
  {
   "cell_type": "code",
   "execution_count": null,
   "metadata": {},
   "outputs": [],
   "source": []
  }
 ],
 "metadata": {
  "kernelspec": {
   "display_name": "Python 3",
   "language": "python",
   "name": "python3"
  },
  "language_info": {
   "codemirror_mode": {
    "name": "ipython",
    "version": 3
   },
   "file_extension": ".py",
   "mimetype": "text/x-python",
   "name": "python",
   "nbconvert_exporter": "python",
   "pygments_lexer": "ipython3",
   "version": "3.8.5"
  }
 },
 "nbformat": 4,
 "nbformat_minor": 5
}
